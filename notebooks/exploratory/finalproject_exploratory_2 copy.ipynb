{
 "cells": [
  {
   "cell_type": "markdown",
   "metadata": {},
   "source": [
    "### Final Project | Music & Mental Health (2)"
   ]
  },
  {
   "cell_type": "code",
   "execution_count": 1,
   "metadata": {},
   "outputs": [],
   "source": [
    "# Load libraries:\n",
    "\n",
    "import numpy as np\n",
    "import pandas as pd\n",
    "import matplotlib.pyplot as plt\n",
    "import seaborn as sns\n",
    "from sklearn.impute import KNNImputer"
   ]
  },
  {
   "cell_type": "code",
   "execution_count": 2,
   "metadata": {},
   "outputs": [
    {
     "data": {
      "text/html": [
       "<div>\n",
       "<style scoped>\n",
       "    .dataframe tbody tr th:only-of-type {\n",
       "        vertical-align: middle;\n",
       "    }\n",
       "\n",
       "    .dataframe tbody tr th {\n",
       "        vertical-align: top;\n",
       "    }\n",
       "\n",
       "    .dataframe thead th {\n",
       "        text-align: right;\n",
       "    }\n",
       "</style>\n",
       "<table border=\"1\" class=\"dataframe\">\n",
       "  <thead>\n",
       "    <tr style=\"text-align: right;\">\n",
       "      <th></th>\n",
       "      <th>Unnamed: 0</th>\n",
       "      <th>Age</th>\n",
       "      <th>Hours per day</th>\n",
       "      <th>While working</th>\n",
       "      <th>Instrumentalist</th>\n",
       "      <th>Composer</th>\n",
       "      <th>Favorite genre</th>\n",
       "      <th>Exploratory</th>\n",
       "      <th>Foreign languages</th>\n",
       "      <th>BPM</th>\n",
       "      <th>...</th>\n",
       "      <th>Frequency [R&amp;B]</th>\n",
       "      <th>Frequency [Rap]</th>\n",
       "      <th>Frequency [Rock]</th>\n",
       "      <th>Frequency [Video game music]</th>\n",
       "      <th>Anxiety</th>\n",
       "      <th>Depression</th>\n",
       "      <th>Insomnia</th>\n",
       "      <th>OCD</th>\n",
       "      <th>Music effects</th>\n",
       "      <th>Permissions</th>\n",
       "    </tr>\n",
       "  </thead>\n",
       "  <tbody>\n",
       "    <tr>\n",
       "      <th>0</th>\n",
       "      <td>0</td>\n",
       "      <td>18.0</td>\n",
       "      <td>4.0</td>\n",
       "      <td>No</td>\n",
       "      <td>No</td>\n",
       "      <td>No</td>\n",
       "      <td>Video game music</td>\n",
       "      <td>No</td>\n",
       "      <td>Yes</td>\n",
       "      <td>132.0</td>\n",
       "      <td>...</td>\n",
       "      <td>Never</td>\n",
       "      <td>Rarely</td>\n",
       "      <td>Rarely</td>\n",
       "      <td>Very frequently</td>\n",
       "      <td>7.0</td>\n",
       "      <td>7.0</td>\n",
       "      <td>10.0</td>\n",
       "      <td>2.0</td>\n",
       "      <td>No effect</td>\n",
       "      <td>I understand.</td>\n",
       "    </tr>\n",
       "    <tr>\n",
       "      <th>1</th>\n",
       "      <td>1</td>\n",
       "      <td>61.0</td>\n",
       "      <td>2.5</td>\n",
       "      <td>Yes</td>\n",
       "      <td>No</td>\n",
       "      <td>Yes</td>\n",
       "      <td>Jazz</td>\n",
       "      <td>Yes</td>\n",
       "      <td>Yes</td>\n",
       "      <td>84.0</td>\n",
       "      <td>...</td>\n",
       "      <td>Sometimes</td>\n",
       "      <td>Never</td>\n",
       "      <td>Never</td>\n",
       "      <td>Never</td>\n",
       "      <td>9.0</td>\n",
       "      <td>7.0</td>\n",
       "      <td>3.0</td>\n",
       "      <td>3.0</td>\n",
       "      <td>Improve</td>\n",
       "      <td>I understand.</td>\n",
       "    </tr>\n",
       "    <tr>\n",
       "      <th>2</th>\n",
       "      <td>2</td>\n",
       "      <td>18.0</td>\n",
       "      <td>4.0</td>\n",
       "      <td>Yes</td>\n",
       "      <td>No</td>\n",
       "      <td>No</td>\n",
       "      <td>R&amp;B</td>\n",
       "      <td>Yes</td>\n",
       "      <td>No</td>\n",
       "      <td>107.0</td>\n",
       "      <td>...</td>\n",
       "      <td>Very frequently</td>\n",
       "      <td>Very frequently</td>\n",
       "      <td>Never</td>\n",
       "      <td>Rarely</td>\n",
       "      <td>7.0</td>\n",
       "      <td>2.0</td>\n",
       "      <td>5.0</td>\n",
       "      <td>9.0</td>\n",
       "      <td>Improve</td>\n",
       "      <td>I understand.</td>\n",
       "    </tr>\n",
       "    <tr>\n",
       "      <th>3</th>\n",
       "      <td>3</td>\n",
       "      <td>18.0</td>\n",
       "      <td>5.0</td>\n",
       "      <td>Yes</td>\n",
       "      <td>Yes</td>\n",
       "      <td>Yes</td>\n",
       "      <td>Jazz</td>\n",
       "      <td>Yes</td>\n",
       "      <td>Yes</td>\n",
       "      <td>86.0</td>\n",
       "      <td>...</td>\n",
       "      <td>Very frequently</td>\n",
       "      <td>Very frequently</td>\n",
       "      <td>Very frequently</td>\n",
       "      <td>Never</td>\n",
       "      <td>8.0</td>\n",
       "      <td>8.0</td>\n",
       "      <td>7.0</td>\n",
       "      <td>7.0</td>\n",
       "      <td>Improve</td>\n",
       "      <td>I understand.</td>\n",
       "    </tr>\n",
       "    <tr>\n",
       "      <th>4</th>\n",
       "      <td>4</td>\n",
       "      <td>18.0</td>\n",
       "      <td>3.0</td>\n",
       "      <td>Yes</td>\n",
       "      <td>Yes</td>\n",
       "      <td>No</td>\n",
       "      <td>Video game music</td>\n",
       "      <td>Yes</td>\n",
       "      <td>Yes</td>\n",
       "      <td>66.0</td>\n",
       "      <td>...</td>\n",
       "      <td>Rarely</td>\n",
       "      <td>Never</td>\n",
       "      <td>Never</td>\n",
       "      <td>Sometimes</td>\n",
       "      <td>4.0</td>\n",
       "      <td>8.0</td>\n",
       "      <td>6.0</td>\n",
       "      <td>0.0</td>\n",
       "      <td>Improve</td>\n",
       "      <td>I understand.</td>\n",
       "    </tr>\n",
       "  </tbody>\n",
       "</table>\n",
       "<p>5 rows × 32 columns</p>\n",
       "</div>"
      ],
      "text/plain": [
       "   Unnamed: 0   Age  Hours per day While working Instrumentalist Composer  \\\n",
       "0           0  18.0            4.0            No              No       No   \n",
       "1           1  61.0            2.5           Yes              No      Yes   \n",
       "2           2  18.0            4.0           Yes              No       No   \n",
       "3           3  18.0            5.0           Yes             Yes      Yes   \n",
       "4           4  18.0            3.0           Yes             Yes       No   \n",
       "\n",
       "     Favorite genre Exploratory Foreign languages    BPM  ...  \\\n",
       "0  Video game music          No               Yes  132.0  ...   \n",
       "1              Jazz         Yes               Yes   84.0  ...   \n",
       "2               R&B         Yes                No  107.0  ...   \n",
       "3              Jazz         Yes               Yes   86.0  ...   \n",
       "4  Video game music         Yes               Yes   66.0  ...   \n",
       "\n",
       "   Frequency [R&B]  Frequency [Rap] Frequency [Rock]  \\\n",
       "0            Never           Rarely           Rarely   \n",
       "1        Sometimes            Never            Never   \n",
       "2  Very frequently  Very frequently            Never   \n",
       "3  Very frequently  Very frequently  Very frequently   \n",
       "4           Rarely            Never            Never   \n",
       "\n",
       "  Frequency [Video game music] Anxiety Depression Insomnia  OCD Music effects  \\\n",
       "0              Very frequently     7.0        7.0     10.0  2.0     No effect   \n",
       "1                        Never     9.0        7.0      3.0  3.0       Improve   \n",
       "2                       Rarely     7.0        2.0      5.0  9.0       Improve   \n",
       "3                        Never     8.0        8.0      7.0  7.0       Improve   \n",
       "4                    Sometimes     4.0        8.0      6.0  0.0       Improve   \n",
       "\n",
       "     Permissions  \n",
       "0  I understand.  \n",
       "1  I understand.  \n",
       "2  I understand.  \n",
       "3  I understand.  \n",
       "4  I understand.  \n",
       "\n",
       "[5 rows x 32 columns]"
      ]
     },
     "execution_count": 2,
     "metadata": {},
     "output_type": "execute_result"
    }
   ],
   "source": [
    "# Read cleaned dataset\n",
    "\n",
    "data_mmh = pd.read_csv('../../data/cleaned/data_mmh_cleaned1.csv')\n",
    "data_mmh.head()"
   ]
  },
  {
   "cell_type": "code",
   "execution_count": 3,
   "metadata": {},
   "outputs": [
    {
     "data": {
      "text/plain": [
       "(617, 32)"
      ]
     },
     "execution_count": 3,
     "metadata": {},
     "output_type": "execute_result"
    }
   ],
   "source": [
    "data_mmh.shape"
   ]
  },
  {
   "cell_type": "code",
   "execution_count": 4,
   "metadata": {},
   "outputs": [],
   "source": [
    "# What to do with \"Unnamed column\"\n",
    "\n",
    "#Remove the Unnamed Column: \n",
    "#data = pd.read_csv('your_dataset.csv', index_col=0)\n",
    "\n",
    "#data = data.drop(columns=['Unnamed: 0'])\n",
    "\n",
    "#Rename the Unnamed Column:\n",
    "#data = data.rename(columns={'Unnamed: 0': 'ID'})\n",
    "\n",
    "#Retain as an Index:\n",
    "#data = pd.read_csv('your_dataset.csv', index_col=0)\n",
    "\n",
    "#Check the Origin of the Column:"
   ]
  },
  {
   "cell_type": "code",
   "execution_count": 5,
   "metadata": {},
   "outputs": [
    {
     "data": {
      "text/html": [
       "<div>\n",
       "<style scoped>\n",
       "    .dataframe tbody tr th:only-of-type {\n",
       "        vertical-align: middle;\n",
       "    }\n",
       "\n",
       "    .dataframe tbody tr th {\n",
       "        vertical-align: top;\n",
       "    }\n",
       "\n",
       "    .dataframe thead th {\n",
       "        text-align: right;\n",
       "    }\n",
       "</style>\n",
       "<table border=\"1\" class=\"dataframe\">\n",
       "  <thead>\n",
       "    <tr style=\"text-align: right;\">\n",
       "      <th></th>\n",
       "      <th>Age</th>\n",
       "      <th>Hours per day</th>\n",
       "      <th>While working</th>\n",
       "      <th>Instrumentalist</th>\n",
       "      <th>Composer</th>\n",
       "      <th>Favorite genre</th>\n",
       "      <th>Exploratory</th>\n",
       "      <th>Foreign languages</th>\n",
       "      <th>BPM</th>\n",
       "      <th>Frequency [Classical]</th>\n",
       "      <th>...</th>\n",
       "      <th>Frequency [R&amp;B]</th>\n",
       "      <th>Frequency [Rap]</th>\n",
       "      <th>Frequency [Rock]</th>\n",
       "      <th>Frequency [Video game music]</th>\n",
       "      <th>Anxiety</th>\n",
       "      <th>Depression</th>\n",
       "      <th>Insomnia</th>\n",
       "      <th>OCD</th>\n",
       "      <th>Music effects</th>\n",
       "      <th>Permissions</th>\n",
       "    </tr>\n",
       "  </thead>\n",
       "  <tbody>\n",
       "    <tr>\n",
       "      <th>0</th>\n",
       "      <td>18.0</td>\n",
       "      <td>4.0</td>\n",
       "      <td>No</td>\n",
       "      <td>No</td>\n",
       "      <td>No</td>\n",
       "      <td>Video game music</td>\n",
       "      <td>No</td>\n",
       "      <td>Yes</td>\n",
       "      <td>132.0</td>\n",
       "      <td>Never</td>\n",
       "      <td>...</td>\n",
       "      <td>Never</td>\n",
       "      <td>Rarely</td>\n",
       "      <td>Rarely</td>\n",
       "      <td>Very frequently</td>\n",
       "      <td>7.0</td>\n",
       "      <td>7.0</td>\n",
       "      <td>10.0</td>\n",
       "      <td>2.0</td>\n",
       "      <td>No effect</td>\n",
       "      <td>I understand.</td>\n",
       "    </tr>\n",
       "    <tr>\n",
       "      <th>1</th>\n",
       "      <td>61.0</td>\n",
       "      <td>2.5</td>\n",
       "      <td>Yes</td>\n",
       "      <td>No</td>\n",
       "      <td>Yes</td>\n",
       "      <td>Jazz</td>\n",
       "      <td>Yes</td>\n",
       "      <td>Yes</td>\n",
       "      <td>84.0</td>\n",
       "      <td>Sometimes</td>\n",
       "      <td>...</td>\n",
       "      <td>Sometimes</td>\n",
       "      <td>Never</td>\n",
       "      <td>Never</td>\n",
       "      <td>Never</td>\n",
       "      <td>9.0</td>\n",
       "      <td>7.0</td>\n",
       "      <td>3.0</td>\n",
       "      <td>3.0</td>\n",
       "      <td>Improve</td>\n",
       "      <td>I understand.</td>\n",
       "    </tr>\n",
       "    <tr>\n",
       "      <th>2</th>\n",
       "      <td>18.0</td>\n",
       "      <td>4.0</td>\n",
       "      <td>Yes</td>\n",
       "      <td>No</td>\n",
       "      <td>No</td>\n",
       "      <td>R&amp;B</td>\n",
       "      <td>Yes</td>\n",
       "      <td>No</td>\n",
       "      <td>107.0</td>\n",
       "      <td>Never</td>\n",
       "      <td>...</td>\n",
       "      <td>Very frequently</td>\n",
       "      <td>Very frequently</td>\n",
       "      <td>Never</td>\n",
       "      <td>Rarely</td>\n",
       "      <td>7.0</td>\n",
       "      <td>2.0</td>\n",
       "      <td>5.0</td>\n",
       "      <td>9.0</td>\n",
       "      <td>Improve</td>\n",
       "      <td>I understand.</td>\n",
       "    </tr>\n",
       "    <tr>\n",
       "      <th>3</th>\n",
       "      <td>18.0</td>\n",
       "      <td>5.0</td>\n",
       "      <td>Yes</td>\n",
       "      <td>Yes</td>\n",
       "      <td>Yes</td>\n",
       "      <td>Jazz</td>\n",
       "      <td>Yes</td>\n",
       "      <td>Yes</td>\n",
       "      <td>86.0</td>\n",
       "      <td>Rarely</td>\n",
       "      <td>...</td>\n",
       "      <td>Very frequently</td>\n",
       "      <td>Very frequently</td>\n",
       "      <td>Very frequently</td>\n",
       "      <td>Never</td>\n",
       "      <td>8.0</td>\n",
       "      <td>8.0</td>\n",
       "      <td>7.0</td>\n",
       "      <td>7.0</td>\n",
       "      <td>Improve</td>\n",
       "      <td>I understand.</td>\n",
       "    </tr>\n",
       "    <tr>\n",
       "      <th>4</th>\n",
       "      <td>18.0</td>\n",
       "      <td>3.0</td>\n",
       "      <td>Yes</td>\n",
       "      <td>Yes</td>\n",
       "      <td>No</td>\n",
       "      <td>Video game music</td>\n",
       "      <td>Yes</td>\n",
       "      <td>Yes</td>\n",
       "      <td>66.0</td>\n",
       "      <td>Sometimes</td>\n",
       "      <td>...</td>\n",
       "      <td>Rarely</td>\n",
       "      <td>Never</td>\n",
       "      <td>Never</td>\n",
       "      <td>Sometimes</td>\n",
       "      <td>4.0</td>\n",
       "      <td>8.0</td>\n",
       "      <td>6.0</td>\n",
       "      <td>0.0</td>\n",
       "      <td>Improve</td>\n",
       "      <td>I understand.</td>\n",
       "    </tr>\n",
       "  </tbody>\n",
       "</table>\n",
       "<p>5 rows × 31 columns</p>\n",
       "</div>"
      ],
      "text/plain": [
       "    Age  Hours per day While working Instrumentalist Composer  \\\n",
       "0  18.0            4.0            No              No       No   \n",
       "1  61.0            2.5           Yes              No      Yes   \n",
       "2  18.0            4.0           Yes              No       No   \n",
       "3  18.0            5.0           Yes             Yes      Yes   \n",
       "4  18.0            3.0           Yes             Yes       No   \n",
       "\n",
       "     Favorite genre Exploratory Foreign languages    BPM  \\\n",
       "0  Video game music          No               Yes  132.0   \n",
       "1              Jazz         Yes               Yes   84.0   \n",
       "2               R&B         Yes                No  107.0   \n",
       "3              Jazz         Yes               Yes   86.0   \n",
       "4  Video game music         Yes               Yes   66.0   \n",
       "\n",
       "  Frequency [Classical]  ...  Frequency [R&B]  Frequency [Rap]  \\\n",
       "0                 Never  ...            Never           Rarely   \n",
       "1             Sometimes  ...        Sometimes            Never   \n",
       "2                 Never  ...  Very frequently  Very frequently   \n",
       "3                Rarely  ...  Very frequently  Very frequently   \n",
       "4             Sometimes  ...           Rarely            Never   \n",
       "\n",
       "  Frequency [Rock] Frequency [Video game music] Anxiety Depression Insomnia  \\\n",
       "0           Rarely              Very frequently     7.0        7.0     10.0   \n",
       "1            Never                        Never     9.0        7.0      3.0   \n",
       "2            Never                       Rarely     7.0        2.0      5.0   \n",
       "3  Very frequently                        Never     8.0        8.0      7.0   \n",
       "4            Never                    Sometimes     4.0        8.0      6.0   \n",
       "\n",
       "   OCD Music effects    Permissions  \n",
       "0  2.0     No effect  I understand.  \n",
       "1  3.0       Improve  I understand.  \n",
       "2  9.0       Improve  I understand.  \n",
       "3  7.0       Improve  I understand.  \n",
       "4  0.0       Improve  I understand.  \n",
       "\n",
       "[5 rows x 31 columns]"
      ]
     },
     "execution_count": 5,
     "metadata": {},
     "output_type": "execute_result"
    }
   ],
   "source": [
    "#Remove the Unnamed Column: \n",
    "#data_mmh = pd.read_csv('data_mmh_cleaned1.csv', index_col=0)\n",
    "data_mmh = pd.read_csv('../../data/cleaned/data_mmh_cleaned1.csv', index_col=0)\n",
    "data_mmh.head()"
   ]
  },
  {
   "cell_type": "markdown",
   "metadata": {},
   "source": [
    "### Computing mean, median and mode:"
   ]
  },
  {
   "cell_type": "code",
   "execution_count": 6,
   "metadata": {},
   "outputs": [
    {
     "data": {
      "text/plain": [
       "1620868.8589951377"
      ]
     },
     "execution_count": 6,
     "metadata": {},
     "output_type": "execute_result"
    }
   ],
   "source": [
    "mean_bpm = data_mmh['BPM'].mean()\n",
    "mean_bpm "
   ]
  },
  {
   "cell_type": "markdown",
   "metadata": {},
   "source": [
    "### Questions: \n",
    "* Why is 1620868.8589951377 the mean value of BPM if the rows with these KNNImputer values where dropped?\n",
    "Ignacio: \"This would be like \"Thunderstruck from ACDC\"\n",
    "\n",
    "* Is it because of the \"Unnamed\" column?\n",
    "___\n",
    "\n",
    "* Find out where this outlier is that is destroying your mean\n",
    "* Check with histplot, barplot, ..."
   ]
  },
  {
   "cell_type": "code",
   "execution_count": 7,
   "metadata": {},
   "outputs": [
    {
     "data": {
      "text/plain": [
       "120.0"
      ]
     },
     "execution_count": 7,
     "metadata": {},
     "output_type": "execute_result"
    }
   ],
   "source": [
    "median_bpm = data_mmh['BPM'].median()\n",
    "median_bpm "
   ]
  },
  {
   "cell_type": "code",
   "execution_count": 8,
   "metadata": {},
   "outputs": [
    {
     "data": {
      "image/png": "[encoded data removed]",
      "text/plain": [
       "<Figure size 640x480 with 1 Axes>"
      ]
     },
     "metadata": {},
     "output_type": "display_data"
    }
   ],
   "source": [
    "#sns.scatterplot(x=x, y=y)\n",
    "#plt.show()\n",
    "\n",
    "x = data_mmh['Favorite genre']\n",
    "y = data_mmh['BPM']\n",
    "\n",
    "sns.scatterplot(x=x, y=y)\n",
    "plt.show()"
   ]
  },
  {
   "cell_type": "code",
   "execution_count": 9,
   "metadata": {},
   "outputs": [
    {
     "data": {
      "image/png": "[encoded data removed]",
      "text/plain": [
       "<Figure size 640x480 with 1 Axes>"
      ]
     },
     "metadata": {},
     "output_type": "display_data"
    }
   ],
   "source": [
    "#Box Plot (Box-and-Whisker Plot):\n",
    "\n",
    "# Example data\n",
    "data = data_mmh['BPM']\n",
    "\n",
    "#x = data_mmh['Favorite genre']\n",
    "#y = data_mmh['BPM']\n",
    "\n",
    "# Create a box plot\n",
    "#sns.boxplot(data=data)\n",
    "#plt.show()\n",
    "\n",
    "# Create a box plot\n",
    "sns.boxplot(data=data)\n",
    "plt.show()\n",
    "\n",
    "#sns.scatterplot(x=x, y=y)\n",
    "#sns.boxplot(x=x, y=y)"
   ]
  },
  {
   "cell_type": "code",
   "execution_count": 10,
   "metadata": {},
   "outputs": [
    {
     "data": {
      "text/plain": [
       "<Axes: xlabel='Favorite genre', ylabel='BPM'>"
      ]
     },
     "execution_count": 10,
     "metadata": {},
     "output_type": "execute_result"
    },
    {
     "data": {
      "image/png": "[encoded data removed]",
      "text/plain": [
       "<Figure size 640x480 with 1 Axes>"
      ]
     },
     "metadata": {},
     "output_type": "display_data"
    }
   ],
   "source": [
    "#Box Plot (Box-and-Whisker Plot):\n",
    "\n",
    "# Example data\n",
    "#data = data_mmh['BPM']\n",
    "\n",
    "x = data_mmh['Favorite genre']\n",
    "y = data_mmh['BPM']\n",
    "\n",
    "# Create a box plot\n",
    "#sns.boxplot(data=data)\n",
    "#plt.show()\n",
    "\n",
    "# Create a box plot\n",
    "#sns.boxplot(data=data)\n",
    "#plt.show()\n",
    "\n",
    "#sns.scatterplot(x=x, y=y)\n",
    "sns.boxplot(x=x, y=y)"
   ]
  },
  {
   "cell_type": "code",
   "execution_count": null,
   "metadata": {},
   "outputs": [],
   "source": [
    "\"\"\"\n",
    "#Histogram or Density Plot:\n",
    "\n",
    "# Example data\n",
    "data = data_mmh['BPM']\n",
    "\n",
    "#x = data_mmh['Favorite genre']\n",
    "#y = data_mmh['BPM']\n",
    "\n",
    "# Create a box plot\n",
    "#sns.boxplot(data=data)\n",
    "#plt.show()\n",
    "\n",
    "# Create a box plot\n",
    "#sns.boxplot(data=data)\n",
    "#plt.show()\n",
    "\n",
    "#sns.scatterplot(x=x, y=y)\n",
    "#sns.boxplot(x=x, y=y)\n",
    "\n",
    "# Create a histogram\n",
    "sns.histplot(data, kde=True)\n",
    "plt.show()\n",
    "\n",
    "# I stopped the run after 5 min\n",
    "\"\"\""
   ]
  },
  {
   "cell_type": "code",
   "execution_count": null,
   "metadata": {},
   "outputs": [],
   "source": [
    "#How to get one row with specific value\n",
    "#data = {\n",
    "   # \"Name\": [\"Alice\", \"Bob\", \"Charlie\"],\n",
    "    #\"Age\": [25, 30, 35],\n",
    "#\n",
    "\n",
    "df = pd.DataFrame(data)\n",
    "\n",
    "#specific_value = \"Bob\"\n",
    "#result = df[df[\"Name\"] == specific_value]\n",
    "specific_value = \"Bob\"\n",
    "result = df[df[\"Name\"] == specific_value]\n",
    "\n",
    "if not result.empty:\n",
    "    print(result.iloc[0])  # Print the first matching row\n",
    "else:\n",
    "    print(\"No matching row found.\")"
   ]
  },
  {
   "cell_type": "code",
   "execution_count": 12,
   "metadata": {},
   "outputs": [
    {
     "name": "stdout",
     "output_type": "stream",
     "text": [
      "No matching row found.\n"
     ]
    }
   ],
   "source": [
    "  #How to get one row with specific value\n",
    "data = data_mmh['BPM']\n",
    "\n",
    "df = pd.DataFrame(data)\n",
    "\n",
    "specific_value = \"1620868.8589951377\"\n",
    "result = df[df[\"BPM\"] == specific_value]\n",
    "\n",
    "if not result.empty:\n",
    "    print(result.iloc[0])  # Print the first matching row\n",
    "else:\n",
    "    print(\"No matching row found.\")"
   ]
  },
  {
   "cell_type": "code",
   "execution_count": 13,
   "metadata": {},
   "outputs": [
    {
     "data": {
      "text/html": [
       "<div>\n",
       "<style scoped>\n",
       "    .dataframe tbody tr th:only-of-type {\n",
       "        vertical-align: middle;\n",
       "    }\n",
       "\n",
       "    .dataframe tbody tr th {\n",
       "        vertical-align: top;\n",
       "    }\n",
       "\n",
       "    .dataframe thead th {\n",
       "        text-align: right;\n",
       "    }\n",
       "</style>\n",
       "<table border=\"1\" class=\"dataframe\">\n",
       "  <thead>\n",
       "    <tr style=\"text-align: right;\">\n",
       "      <th></th>\n",
       "      <th>BPM</th>\n",
       "    </tr>\n",
       "  </thead>\n",
       "  <tbody>\n",
       "  </tbody>\n",
       "</table>\n",
       "</div>"
      ],
      "text/plain": [
       "Empty DataFrame\n",
       "Columns: [BPM]\n",
       "Index: []"
      ]
     },
     "execution_count": 13,
     "metadata": {},
     "output_type": "execute_result"
    }
   ],
   "source": [
    "#df[ df[‘salary’] > 25000 ]\n",
    "df[ df['BPM'] == 1620868.8589951377 ]"
   ]
  },
  {
   "cell_type": "code",
   "execution_count": null,
   "metadata": {},
   "outputs": [],
   "source": [
    "data_mmh.isna().sum()"
   ]
  },
  {
   "cell_type": "code",
   "execution_count": 15,
   "metadata": {},
   "outputs": [
    {
     "data": {
      "text/plain": [
       "135"
      ]
     },
     "execution_count": 15,
     "metadata": {},
     "output_type": "execute_result"
    }
   ],
   "source": [
    "df['BPM'].nunique()"
   ]
  },
  {
   "cell_type": "code",
   "execution_count": 16,
   "metadata": {},
   "outputs": [
    {
     "data": {
      "text/plain": [
       "array([1.32000000e+02, 8.40000000e+01, 1.07000000e+02, 8.60000000e+01,\n",
       "       6.60000000e+01, 9.50000000e+01, 9.40000000e+01, 1.55000000e+02,\n",
       "       1.25000000e+02, 8.80000000e+01, 1.48000000e+02, 1.03000000e+02,\n",
       "       1.20000000e+02, 9.90000000e+01, 1.18000000e+02, 7.90000000e+01,\n",
       "       1.69000000e+02, 1.36000000e+02, 1.01000000e+02, 1.26000000e+02,\n",
       "       1.83000000e+02, 1.42000000e+02, 7.50000000e+01, 8.90000000e+01,\n",
       "       1.40000000e+02, 1.61000000e+02, 8.00000000e+01, 1.30000000e+02,\n",
       "       1.47000000e+02, 7.70000000e+01, 1.15000000e+02, 1.57000000e+02,\n",
       "       9.00000000e+01, 1.28000000e+02, 9.60000000e+01, 9.10000000e+01,\n",
       "       5.50000000e+01, 8.50000000e+01, 1.60000000e+02, 1.08000000e+02,\n",
       "       1.56000000e+02, 1.70000000e+02, 1.74000000e+02, 1.27000000e+02,\n",
       "       1.65000000e+02, 1.13000000e+02, 1.67000000e+02, 1.10000000e+02,\n",
       "       1.50000000e+02, 9.30000000e+01, 1.09000000e+02, 1.75000000e+02,\n",
       "       1.62000000e+02, 1.89000000e+02, 1.21000000e+02, 2.00000000e+02,\n",
       "       1.05000000e+02, 1.93000000e+02, 1.49000000e+02, 1.34000000e+02,\n",
       "       1.00000000e+02, 9.80000000e+01, 7.80000000e+01, 1.17000000e+02,\n",
       "       1.22000000e+02, 1.79000000e+02, 1.66000000e+02, 1.44000000e+02,\n",
       "       6.10000000e+01, 1.85000000e+02, 9.20000000e+01, 1.94000000e+02,\n",
       "       6.00000000e+01, 1.90000000e+02, 8.70000000e+01, 1.71000000e+02,\n",
       "       1.19000000e+02, 1.41000000e+02, 1.46000000e+02, 1.64000000e+02,\n",
       "       1.45000000e+02, 1.12000000e+02, 1.11000000e+02, 1.72000000e+02,\n",
       "       1.80000000e+02, 7.60000000e+01, 1.29000000e+02, 8.10000000e+01,\n",
       "       5.20000000e+01, 9.70000000e+01, 1.43000000e+02, 1.58000000e+02,\n",
       "       1.04000000e+02, 1.35000000e+02, 2.20000000e+02, 1.38000000e+02,\n",
       "       1.39000000e+02, 1.78000000e+02, 6.20000000e+01, 7.20000000e+01,\n",
       "       0.00000000e+00, 2.08000000e+02, 2.00000000e+01, 1.14000000e+02,\n",
       "       1.24000000e+02, 1.81000000e+02, 1.06000000e+02, 1.91000000e+02,\n",
       "       4.00000000e+01, 1.73000000e+02, 1.23000000e+02, 4.00000000e+00,\n",
       "       7.30000000e+01, 1.37000000e+02, 1.33000000e+02, 1.02000000e+02,\n",
       "       8.20000000e+01, 1.16000000e+02, 1.31000000e+02, 2.04000000e+02,\n",
       "       1.59000000e+02, 7.00000000e+01, 2.10000000e+02, 8.00000000e+00,\n",
       "       9.99999999e+08, 1.53000000e+02, 1.92000000e+02, 5.60000000e+01,\n",
       "       6.30000000e+01, 6.80000000e+01, 6.24000000e+02, 2.18000000e+02,\n",
       "       1.86000000e+02, 1.63000000e+02, 1.68000000e+02])"
      ]
     },
     "execution_count": 16,
     "metadata": {},
     "output_type": "execute_result"
    }
   ],
   "source": [
    "df['BPM'].unique()"
   ]
  },
  {
   "cell_type": "code",
   "execution_count": 17,
   "metadata": {},
   "outputs": [
    {
     "data": {
      "text/plain": [
       "BPM\n",
       "120.0    45\n",
       "140.0    24\n",
       "150.0    18\n",
       "110.0    16\n",
       "105.0    14\n",
       "         ..\n",
       "181.0     1\n",
       "106.0     1\n",
       "191.0     1\n",
       "40.0      1\n",
       "168.0     1\n",
       "Name: count, Length: 135, dtype: int64"
      ]
     },
     "execution_count": 17,
     "metadata": {},
     "output_type": "execute_result"
    }
   ],
   "source": [
    "df['BPM'].value_counts()"
   ]
  },
  {
   "cell_type": "code",
   "execution_count": 18,
   "metadata": {},
   "outputs": [
    {
     "name": "stdout",
     "output_type": "stream",
     "text": [
      "The value 1620868.8589951377 appears 0 times in the DataFrame.\n"
     ]
    }
   ],
   "source": [
    "data = data_mmh['BPM']\n",
    "\n",
    "df = pd.DataFrame(data)\n",
    "\n",
    "specific_value = 1620868.8589951377\n",
    "\n",
    "count = df[\"BPM\"].value_counts().get(specific_value, 0)\n",
    "print(f\"The value {specific_value} appears {count} times in the DataFrame.\")"
   ]
  },
  {
   "cell_type": "markdown",
   "metadata": {},
   "source": [
    "* After check in Tableau, the outlier is discovered in **'Video game music'** of **'Favorite genre'**\n",
    "* How to get BPM by value Video game music (Favorite genre) ?\n",
    "* How to get unique value / row of outlier?"
   ]
  },
  {
   "cell_type": "code",
   "execution_count": 22,
   "metadata": {},
   "outputs": [
    {
     "data": {
      "text/html": [
       "<div>\n",
       "<style scoped>\n",
       "    .dataframe tbody tr th:only-of-type {\n",
       "        vertical-align: middle;\n",
       "    }\n",
       "\n",
       "    .dataframe tbody tr th {\n",
       "        vertical-align: top;\n",
       "    }\n",
       "\n",
       "    .dataframe thead th {\n",
       "        text-align: right;\n",
       "    }\n",
       "</style>\n",
       "<table border=\"1\" class=\"dataframe\">\n",
       "  <thead>\n",
       "    <tr style=\"text-align: right;\">\n",
       "      <th></th>\n",
       "      <th>BPM</th>\n",
       "    </tr>\n",
       "    <tr>\n",
       "      <th>Favorite genre</th>\n",
       "      <th></th>\n",
       "    </tr>\n",
       "  </thead>\n",
       "  <tbody>\n",
       "    <tr>\n",
       "      <th>Classical</th>\n",
       "      <td>1.148158e+02</td>\n",
       "    </tr>\n",
       "    <tr>\n",
       "      <th>Country</th>\n",
       "      <td>1.101905e+02</td>\n",
       "    </tr>\n",
       "    <tr>\n",
       "      <th>EDM</th>\n",
       "      <td>1.475000e+02</td>\n",
       "    </tr>\n",
       "    <tr>\n",
       "      <th>Folk</th>\n",
       "      <td>1.097200e+02</td>\n",
       "    </tr>\n",
       "    <tr>\n",
       "      <th>Gospel</th>\n",
       "      <td>8.925000e+01</td>\n",
       "    </tr>\n",
       "    <tr>\n",
       "      <th>Hip hop</th>\n",
       "      <td>1.119062e+02</td>\n",
       "    </tr>\n",
       "    <tr>\n",
       "      <th>Jazz</th>\n",
       "      <td>1.244737e+02</td>\n",
       "    </tr>\n",
       "    <tr>\n",
       "      <th>K pop</th>\n",
       "      <td>1.289048e+02</td>\n",
       "    </tr>\n",
       "    <tr>\n",
       "      <th>Latin</th>\n",
       "      <td>1.225000e+02</td>\n",
       "    </tr>\n",
       "    <tr>\n",
       "      <th>Lofi</th>\n",
       "      <td>1.143000e+02</td>\n",
       "    </tr>\n",
       "    <tr>\n",
       "      <th>Metal</th>\n",
       "      <td>1.396753e+02</td>\n",
       "    </tr>\n",
       "    <tr>\n",
       "      <th>Pop</th>\n",
       "      <td>1.189072e+02</td>\n",
       "    </tr>\n",
       "    <tr>\n",
       "      <th>R&amp;B</th>\n",
       "      <td>1.141667e+02</td>\n",
       "    </tr>\n",
       "    <tr>\n",
       "      <th>Rap</th>\n",
       "      <td>1.271000e+02</td>\n",
       "    </tr>\n",
       "    <tr>\n",
       "      <th>Rock</th>\n",
       "      <td>1.240336e+02</td>\n",
       "    </tr>\n",
       "    <tr>\n",
       "      <th>Video game music</th>\n",
       "      <td>2.777790e+07</td>\n",
       "    </tr>\n",
       "  </tbody>\n",
       "</table>\n",
       "</div>"
      ],
      "text/plain": [
       "                           BPM\n",
       "Favorite genre                \n",
       "Classical         1.148158e+02\n",
       "Country           1.101905e+02\n",
       "EDM               1.475000e+02\n",
       "Folk              1.097200e+02\n",
       "Gospel            8.925000e+01\n",
       "Hip hop           1.119062e+02\n",
       "Jazz              1.244737e+02\n",
       "K pop             1.289048e+02\n",
       "Latin             1.225000e+02\n",
       "Lofi              1.143000e+02\n",
       "Metal             1.396753e+02\n",
       "Pop               1.189072e+02\n",
       "R&B               1.141667e+02\n",
       "Rap               1.271000e+02\n",
       "Rock              1.240336e+02\n",
       "Video game music  2.777790e+07"
      ]
     },
     "execution_count": 22,
     "metadata": {},
     "output_type": "execute_result"
    }
   ],
   "source": [
    "#superstore.pivot_table(index=['Category','Region'], values=['Sales','Profit'])\n",
    "data_mmh.pivot_table(index=['Favorite genre'], values=['BPM'])"
   ]
  },
  {
   "cell_type": "code",
   "execution_count": 26,
   "metadata": {},
   "outputs": [
    {
     "data": {
      "text/html": [
       "<div>\n",
       "<style scoped>\n",
       "    .dataframe tbody tr th:only-of-type {\n",
       "        vertical-align: middle;\n",
       "    }\n",
       "\n",
       "    .dataframe tbody tr th {\n",
       "        vertical-align: top;\n",
       "    }\n",
       "\n",
       "    .dataframe thead tr th {\n",
       "        text-align: left;\n",
       "    }\n",
       "\n",
       "    .dataframe thead tr:last-of-type th {\n",
       "        text-align: right;\n",
       "    }\n",
       "</style>\n",
       "<table border=\"1\" class=\"dataframe\">\n",
       "  <thead>\n",
       "    <tr>\n",
       "      <th></th>\n",
       "      <th>min</th>\n",
       "      <th>max</th>\n",
       "      <th>mean</th>\n",
       "    </tr>\n",
       "    <tr>\n",
       "      <th></th>\n",
       "      <th>BPM</th>\n",
       "      <th>BPM</th>\n",
       "      <th>BPM</th>\n",
       "    </tr>\n",
       "    <tr>\n",
       "      <th>Favorite genre</th>\n",
       "      <th></th>\n",
       "      <th></th>\n",
       "      <th></th>\n",
       "    </tr>\n",
       "  </thead>\n",
       "  <tbody>\n",
       "    <tr>\n",
       "      <th>Classical</th>\n",
       "      <td>40.0</td>\n",
       "      <td>181.0</td>\n",
       "      <td>1.148158e+02</td>\n",
       "    </tr>\n",
       "    <tr>\n",
       "      <th>Country</th>\n",
       "      <td>85.0</td>\n",
       "      <td>163.0</td>\n",
       "      <td>1.101905e+02</td>\n",
       "    </tr>\n",
       "    <tr>\n",
       "      <th>EDM</th>\n",
       "      <td>85.0</td>\n",
       "      <td>624.0</td>\n",
       "      <td>1.475000e+02</td>\n",
       "    </tr>\n",
       "    <tr>\n",
       "      <th>Folk</th>\n",
       "      <td>0.0</td>\n",
       "      <td>186.0</td>\n",
       "      <td>1.097200e+02</td>\n",
       "    </tr>\n",
       "    <tr>\n",
       "      <th>Gospel</th>\n",
       "      <td>8.0</td>\n",
       "      <td>174.0</td>\n",
       "      <td>8.925000e+01</td>\n",
       "    </tr>\n",
       "    <tr>\n",
       "      <th>Hip hop</th>\n",
       "      <td>20.0</td>\n",
       "      <td>178.0</td>\n",
       "      <td>1.119062e+02</td>\n",
       "    </tr>\n",
       "    <tr>\n",
       "      <th>Jazz</th>\n",
       "      <td>81.0</td>\n",
       "      <td>200.0</td>\n",
       "      <td>1.244737e+02</td>\n",
       "    </tr>\n",
       "    <tr>\n",
       "      <th>K pop</th>\n",
       "      <td>80.0</td>\n",
       "      <td>204.0</td>\n",
       "      <td>1.289048e+02</td>\n",
       "    </tr>\n",
       "    <tr>\n",
       "      <th>Latin</th>\n",
       "      <td>73.0</td>\n",
       "      <td>172.0</td>\n",
       "      <td>1.225000e+02</td>\n",
       "    </tr>\n",
       "    <tr>\n",
       "      <th>Lofi</th>\n",
       "      <td>79.0</td>\n",
       "      <td>174.0</td>\n",
       "      <td>1.143000e+02</td>\n",
       "    </tr>\n",
       "    <tr>\n",
       "      <th>Metal</th>\n",
       "      <td>0.0</td>\n",
       "      <td>220.0</td>\n",
       "      <td>1.396753e+02</td>\n",
       "    </tr>\n",
       "    <tr>\n",
       "      <th>Pop</th>\n",
       "      <td>60.0</td>\n",
       "      <td>208.0</td>\n",
       "      <td>1.189072e+02</td>\n",
       "    </tr>\n",
       "    <tr>\n",
       "      <th>R&amp;B</th>\n",
       "      <td>4.0</td>\n",
       "      <td>169.0</td>\n",
       "      <td>1.141667e+02</td>\n",
       "    </tr>\n",
       "    <tr>\n",
       "      <th>Rap</th>\n",
       "      <td>73.0</td>\n",
       "      <td>170.0</td>\n",
       "      <td>1.271000e+02</td>\n",
       "    </tr>\n",
       "    <tr>\n",
       "      <th>Rock</th>\n",
       "      <td>52.0</td>\n",
       "      <td>220.0</td>\n",
       "      <td>1.240336e+02</td>\n",
       "    </tr>\n",
       "    <tr>\n",
       "      <th>Video game music</th>\n",
       "      <td>60.0</td>\n",
       "      <td>999999999.0</td>\n",
       "      <td>2.777790e+07</td>\n",
       "    </tr>\n",
       "  </tbody>\n",
       "</table>\n",
       "</div>"
      ],
      "text/plain": [
       "                   min          max          mean\n",
       "                   BPM          BPM           BPM\n",
       "Favorite genre                                   \n",
       "Classical         40.0        181.0  1.148158e+02\n",
       "Country           85.0        163.0  1.101905e+02\n",
       "EDM               85.0        624.0  1.475000e+02\n",
       "Folk               0.0        186.0  1.097200e+02\n",
       "Gospel             8.0        174.0  8.925000e+01\n",
       "Hip hop           20.0        178.0  1.119062e+02\n",
       "Jazz              81.0        200.0  1.244737e+02\n",
       "K pop             80.0        204.0  1.289048e+02\n",
       "Latin             73.0        172.0  1.225000e+02\n",
       "Lofi              79.0        174.0  1.143000e+02\n",
       "Metal              0.0        220.0  1.396753e+02\n",
       "Pop               60.0        208.0  1.189072e+02\n",
       "R&B                4.0        169.0  1.141667e+02\n",
       "Rap               73.0        170.0  1.271000e+02\n",
       "Rock              52.0        220.0  1.240336e+02\n",
       "Video game music  60.0  999999999.0  2.777790e+07"
      ]
     },
     "execution_count": 26,
     "metadata": {},
     "output_type": "execute_result"
    }
   ],
   "source": [
    "data_mmh[['Favorite genre', 'BPM']].pivot_table(index= ['Favorite genre'], aggfunc = ['min','max','mean'])"
   ]
  },
  {
   "cell_type": "code",
   "execution_count": 31,
   "metadata": {},
   "outputs": [
    {
     "name": "stdout",
     "output_type": "stream",
     "text": [
      "The value 999999999.0 appears 1 times in the DataFrame.\n"
     ]
    }
   ],
   "source": [
    "data = data_mmh['BPM']\n",
    "\n",
    "df = pd.DataFrame(data)\n",
    "\n",
    "specific_value = 999999999.0\n",
    "\n",
    "count = df[\"BPM\"].value_counts().get(specific_value, 0)\n",
    "print(f\"The value {specific_value} appears {count} times in the DataFrame.\")"
   ]
  },
  {
   "cell_type": "code",
   "execution_count": 32,
   "metadata": {},
   "outputs": [
    {
     "data": {
      "text/html": [
       "<div>\n",
       "<style scoped>\n",
       "    .dataframe tbody tr th:only-of-type {\n",
       "        vertical-align: middle;\n",
       "    }\n",
       "\n",
       "    .dataframe tbody tr th {\n",
       "        vertical-align: top;\n",
       "    }\n",
       "\n",
       "    .dataframe thead th {\n",
       "        text-align: right;\n",
       "    }\n",
       "</style>\n",
       "<table border=\"1\" class=\"dataframe\">\n",
       "  <thead>\n",
       "    <tr style=\"text-align: right;\">\n",
       "      <th></th>\n",
       "      <th>BPM</th>\n",
       "    </tr>\n",
       "  </thead>\n",
       "  <tbody>\n",
       "    <tr>\n",
       "      <th>472</th>\n",
       "      <td>999999999.0</td>\n",
       "    </tr>\n",
       "  </tbody>\n",
       "</table>\n",
       "</div>"
      ],
      "text/plain": [
       "             BPM\n",
       "472  999999999.0"
      ]
     },
     "execution_count": 32,
     "metadata": {},
     "output_type": "execute_result"
    }
   ],
   "source": [
    "#df[ df[‘salary’] > 25000 ]\n",
    "df[ df['BPM'] == 999999999.0]"
   ]
  },
  {
   "cell_type": "markdown",
   "metadata": {},
   "source": [
    "This is the row with outlier. \n",
    "* What should we do with this row?"
   ]
  },
  {
   "cell_type": "code",
   "execution_count": 33,
   "metadata": {},
   "outputs": [
    {
     "data": {
      "text/plain": [
       "Age                                         16.0\n",
       "Hours per day                                7.0\n",
       "While working                                Yes\n",
       "Instrumentalist                               No\n",
       "Composer                                      No\n",
       "Favorite genre                  Video game music\n",
       "Exploratory                                  Yes\n",
       "Foreign languages                             No\n",
       "BPM                                  999999999.0\n",
       "Frequency [Classical]                      Never\n",
       "Frequency [Country]                       Rarely\n",
       "Frequency [EDM]                        Sometimes\n",
       "Frequency [Folk]                          Rarely\n",
       "Frequency [Gospel]                         Never\n",
       "Frequency [Hip hop]                       Rarely\n",
       "Frequency [Jazz]                          Rarely\n",
       "Frequency [K pop]                          Never\n",
       "Frequency [Latin]                          Never\n",
       "Frequency [Lofi]                           Never\n",
       "Frequency [Metal]                Very frequently\n",
       "Frequency [Pop]                        Sometimes\n",
       "Frequency [R&B]                            Never\n",
       "Frequency [Rap]                  Very frequently\n",
       "Frequency [Rock]                          Rarely\n",
       "Frequency [Video game music]           Sometimes\n",
       "Anxiety                                      4.0\n",
       "Depression                                   8.0\n",
       "Insomnia                                     8.0\n",
       "OCD                                          4.0\n",
       "Music effects                          No effect\n",
       "Permissions                        I understand.\n",
       "Name: 472, dtype: object"
      ]
     },
     "execution_count": 33,
     "metadata": {},
     "output_type": "execute_result"
    }
   ],
   "source": [
    "row = data_mmh.iloc[472]\n",
    "row"
   ]
  },
  {
   "cell_type": "code",
   "execution_count": null,
   "metadata": {},
   "outputs": [],
   "source": [
    "# Mean/Mode 'Music use':\n",
    "#Hours per day (Numerical)\n",
    "mean_hours_per_day = data_mmh['Hours per day'].mean()\n",
    "\n",
    "#While working (Categorical)\n",
    "mode_while_working = data_mmh['While working'].mode()\n",
    "\n",
    "#Instrumentalist (Categorical)\n",
    "mode_instrumentalist = data_mmh['Instrumentalist'].mode()\n",
    "\n",
    "#Composer (Categorical)\n",
    "mode_composer = data_mmh['Composer'].mode()\n",
    "\n",
    "# Music preference:\n",
    "#Favorite genre (Categorical)\n",
    "\n",
    "# Exploratory (Categorical)\n",
    "mode_exploratory = data_mmh['Exploratory'].mode()\n",
    "\n",
    "#Foreign languages (Categorical)\n",
    "mode_foreign_languages = data_mmh['Foreign languages'].mode()\n",
    "\n",
    "#BPM (Numerical)\n",
    "mean_bpm = data_mmh['BPM'].mean()\n",
    "median_bpm = data_mmh['BPM'].median()\n",
    " \n",
    "# Mean 'Disease':\n",
    "# Mean 'Anxiety' (Numerical):\n",
    "mean_anxiety = data_mmh['Anxiety'].mean()\n",
    "mean_depression = data_mmh['Depression'].mean()\n",
    "mean_insomnia = data_mmh['Insomnia'].mean()\n",
    "mean_ocd = data_mmh['OCD'].mean()\n",
    "\n",
    "# Mean/mode 'Music effects' (Categorical)\n",
    "mode_music_effects = data_mmh['Music effects'].mode()\n",
    "\n",
    "# Mode 'Music genre'(Categorical):\n",
    "# Mode 'Favorite genre':\n",
    "mode_favorite_genre = data_mmh['Favorite genre'].mode()\n",
    "\n",
    "# Mode 'Frequencies [Music genre]':\n",
    "mode_freq_classical = data_mmh['Frequency [Classical]'].mode()      \n",
    "mode_freq_country = data_mmh['Frequency [Country]'].mode()  \n",
    "mode_freq_edm = data_mmh['Frequency [EDM]'].mode()  \n",
    "mode_freq_folk = data_mmh['Frequency [Folk]'].mode()        \n",
    "mode_freq_gospel = data_mmh['Frequency [Gospel]'].mode()   \n",
    "mode_freq_hiphop = data_mmh['Frequency [Hip hop]'].mode()\n",
    "mode_freq_jazz = data_mmh['Frequency [Jazz]'].mode()\n",
    "mode_freq_kpop = data_mmh['Frequency [K pop]'].mode() \n",
    "mode_freq_latin = data_mmh['Frequency [Latin]'].mode()           \n",
    "mode_freq_lofi = data_mmh['Frequency [Lofi]'].mode()               \n",
    "mode_freq_metal = data_mmh['Frequency [Metal]'].mode()            \n",
    "mode_freq_pop = data_mmh['Frequency [Pop]'].mode()             \n",
    "mode_freq_rb = data_mmh['Frequency [R&B]'].mode()        \n",
    "mode_freq_rap = data_mmh['Frequency [Rap]'].mode()   \n",
    "mode_freq_rock = data_mmh['Frequency [Rock]'].mode()                \n",
    "mode_freq_mode = data_mmh['Frequency [Video game music]'].mode()     \n",
    "\n",
    "print(mode_exploratory)\n",
    "print(mode_foreign_languages)\n",
    "print(mean_bpm)\n",
    "print(median_bpm)\n",
    "\n",
    "print(mean_hours_per_day) \n",
    "\n",
    "print(mode_while_working) \n",
    "print(mode_instrumentalist) \n",
    "print(mode_composer) \n",
    "\n",
    "print(mean_anxiety)\n",
    "print(mean_depression)\n",
    "print(mean_insomnia)\n",
    "print(mean_ocd)"
   ]
  },
  {
   "cell_type": "code",
   "execution_count": null,
   "metadata": {},
   "outputs": [],
   "source": [
    "print(mode_music_effects)\n",
    "\n",
    "print(mode_favorite_genre)\n",
    "\n",
    "print(mode_freq_classical)\n",
    "print(mode_freq_country)\n",
    "print(mode_freq_edm)\n",
    "print(mode_freq_folk)\n",
    "print(mode_freq_gospel)\n",
    "print(mode_freq_hiphop)\n",
    "print(mode_freq_jazz)\n",
    "print(mode_freq_kpop)\n",
    "print(mode_freq_latin)\n",
    "print(mode_freq_lofi)\n",
    "print(mode_freq_metal)\n",
    "print(mode_freq_pop)\n",
    "print(mode_freq_rb)\n",
    "print(mode_freq_rap)\n",
    "print(mode_freq_rock)"
   ]
  },
  {
   "cell_type": "code",
   "execution_count": null,
   "metadata": {},
   "outputs": [],
   "source": [
    "mode_freq_rock"
   ]
  },
  {
   "cell_type": "code",
   "execution_count": null,
   "metadata": {},
   "outputs": [],
   "source": [
    "mode_freq_classical = data_mmh['Frequency [Classical]'].mode()  \n",
    "mode_freq_classical"
   ]
  },
  {
   "cell_type": "code",
   "execution_count": null,
   "metadata": {},
   "outputs": [],
   "source": [
    "data_mmh.head()"
   ]
  },
  {
   "cell_type": "code",
   "execution_count": null,
   "metadata": {},
   "outputs": [],
   "source": [
    "data_mmh.shape"
   ]
  },
  {
   "cell_type": "markdown",
   "metadata": {},
   "source": [
    "### Data Transformation / Data Visualisation / Feature Engineering"
   ]
  },
  {
   "cell_type": "markdown",
   "metadata": {},
   "source": [
    "* What **aggregations** to do?\n",
    "* What **plots** to visualize? --> matplotlib + seaborn + kaggle"
   ]
  },
  {
   "cell_type": "markdown",
   "metadata": {},
   "source": [
    "\n",
    "### Trying to predict music effects:\n",
    "\n",
    "1) What is the connection between **music use** and its effect on **disease**(mental health)?\n",
    "2) What is the connection between **music preference** and effect on **disease**(mental health)? \n",
    "* Granularity --> fav genre as first, related statistcal, individualy fre compare to disease\n",
    "3) What is the connection between **music genre** and effect on **disease**(mental health)?\n",
    "4) Which **disease**(mental health) experiences the **greatest effect** from music? \n",
    "* Plot difference between mental health and anxiety\n",
    "5) Can I make helpful recommendations based on these findings? \n",
    "6) What **age** (range) experiences the most the **diseases**. What is there music effect? What music genre do they listen to?\n",
    "What is there music use?\n",
    "\n",
    "--> What is the **mean** anxiety (1.0-10.0) level (numerical) for **every possible music effect** (Improve, No effect, Worsen)(categorical)\n",
    "--> What is the **mean** depression (1.0-10.0) level (numerical)\n",
    "--> What is the **mean** insomnia (1.0-10.0) level (numerical)\n",
    "--> What is the **mean** OCD (1.0-10.0) level (numerical)\n",
    "\n",
    "* More than 2 poss valuebale --> statistical test\n",
    "\n",
    "_________\n",
    "\n",
    "- Calculate the right things\n",
    "- Plot these questions\n",
    "In order to plot you first need to calculate the right thing.\n",
    "\n",
    "- Plot when visualization is relevant"
   ]
  },
  {
   "cell_type": "markdown",
   "metadata": {},
   "source": [
    "### 1) Connection **disease** and **music use**:"
   ]
  },
  {
   "cell_type": "code",
   "execution_count": null,
   "metadata": {},
   "outputs": [],
   "source": [
    "# 1) What is the connection between **disease** (numerical) and **music use** (categorical)?\n",
    "# Get \"disease\" and \"music use\"\n",
    "# Create a for loop?\n",
    "\n",
    "**disease**\n",
    "\n",
    "# Mean 'Disease' (Numerical):\n",
    "mean_anxiety = data_mmh['Anxiety'].mean()\n",
    "mean_depression = data_mmh['Depression'].mean()\n",
    "mean_insomnia = data_mmh['Insomnia'].mean()\n",
    "mean_ocd = data_mmh['OCD'].mean()\n",
    "\n",
    "**music use**\n",
    "\n",
    "#Hours per day (Numerical)\n",
    "mean_hours_per_day = data_mmh['Hours per day'].mean()\n",
    "#While working (Categorical)\n",
    "mode_while_working = data_mmh['While working'].mode()\n",
    "#Instrumentalist (Categorical)\n",
    "mode_instrumentalist = data_mmh['Instrumentalist'].mode()\n",
    "#Composer (Categorical)\n",
    "mode_composer = data_mmh['Composer'].mode()\n",
    "\n",
    "\n",
    "#Get average 'Anxiety' (numerical) for every possible music effect (categorical)\n",
    "Get average 'Anxiety' (numerical) for every possible music use \n",
    "#Hours per day (Numerical)\n",
    "#While working (Categorical)\n",
    "#Instrumentalist (Categorical)\n",
    "#Composer (Categorical)\n",
    "\n",
    "Get average 'Depression' (numerical) for every possible music use \n",
    "#Hours per day (Numerical)\n",
    "#While working (Categorical)\n",
    "#Instrumentalist (Categorical)\n",
    "#Composer (Categorical)\n",
    "\n",
    "Get average 'Insomnia' (numerical) for every possible music use\n",
    "#Hours per day (Numerical)\n",
    "#While working (Categorical)\n",
    "#Instrumentalist (Categorical)\n",
    "#Composer (Categorical)\n",
    "\n",
    "Get average 'OCD' (numerical) for every possible music use \n",
    "#Hours per day (Numerical)\n",
    "#While working (Categorical)\n",
    "#Instrumentalist (Categorical)\n",
    "#Composer (Categorical)\n",
    "\n",
    "# Create a for loop: (define function?)\n"
   ]
  },
  {
   "cell_type": "code",
   "execution_count": null,
   "metadata": {},
   "outputs": [],
   "source": [
    "df[['Anxiety','Depression','Insomnia', 'OCD','Music effects']]"
   ]
  },
  {
   "cell_type": "code",
   "execution_count": null,
   "metadata": {},
   "outputs": [],
   "source": [
    "df[['Anxiety','Music effects']]"
   ]
  },
  {
   "cell_type": "code",
   "execution_count": null,
   "metadata": {},
   "outputs": [],
   "source": [
    "# Get average 'Anxiety' (numerical) for every possible music use:\n",
    "data_mmh.groupby(['Hours per day']).agg({'Anxiety': 'mean'}).head()\n",
    "data_mmh.groupby(['While working']).agg({'Anxiety': 'mean'}).head()\n",
    "data_mmh.groupby(['Instrumentalist']).agg({'Anxiety': 'mean'}).head()\n",
    "data_mmh.groupby(['Composer']).agg({'Anxiety': 'mean'}).head()\n",
    "\n",
    "#Hours per day (numerical)\n",
    "#While working (categorical)\n",
    "#Instrumentalist (categorical)\n",
    "#Composer (categorical)\n",
    "\n",
    "display(data_mmh.groupby(['Hours per day']).agg({'Anxiety': 'mean'}).head())\n",
    "display(data_mmh.groupby(['While working']).agg({'Anxiety': 'mean'}).head())\n",
    "display(data_mmh.groupby(['Instrumentalist']).agg({'Anxiety': 'mean'}).head())\n",
    "display(data_mmh.groupby(['Composer']).agg({'Anxiety': 'mean'}).head())"
   ]
  },
  {
   "cell_type": "code",
   "execution_count": 34,
   "metadata": {},
   "outputs": [
    {
     "data": {
      "text/plain": [
       "<Axes: xlabel='Anxiety', ylabel='Hours per day'>"
      ]
     },
     "execution_count": 34,
     "metadata": {},
     "output_type": "execute_result"
    },
    {
     "data": {
      "image/png": "[encoded data removed]",
      "text/plain": [
       "<Figure size 640x480 with 1 Axes>"
      ]
     },
     "metadata": {},
     "output_type": "display_data"
    }
   ],
   "source": [
    "# Plot\n",
    "# Get average 'Anxiety' (numerical) for every possible music use (numerical/categorical):\n",
    "\n",
    "# Get average 'Anxiety' (numerical) for 'Hours per day'(numerical)\n",
    "# Barplot\n",
    "#sns.barplot(penguins, x=\"island\", y=\"body_mass_g\")\n",
    "sns.barplot(data_mmh, x=\"Anxiety\", y=\"Hours per day\")\n",
    "\n",
    "# Get average 'Anxiety' (numerical) for 'While working'(categorical)\n",
    "sns.barplot(data_mmh, x=\"Anxiety\", y=\"While working\")\n",
    "# Get average 'Anxiety' (numerical) for 'Instrumentalist'(categorical)\n",
    "sns.barplot(data_mmh, x=\"Anxiety\", y=\"Instrumentalist\")\n",
    "# Get average 'Anxiety' (numerical) for 'Composer'(categorical)\n",
    "sns.barplot(data_mmh, x=\"Anxiety\", y=\"Composer\")\n",
    "\n",
    "# Get average 'Anxiety' (numerical) for every possible music use (numerical/categorical)\n",
    "# Barplot\n"
   ]
  },
  {
   "cell_type": "code",
   "execution_count": 35,
   "metadata": {},
   "outputs": [
    {
     "data": {
      "text/plain": [
       "<Axes: xlabel='Anxiety', ylabel='While working'>"
      ]
     },
     "execution_count": 35,
     "metadata": {},
     "output_type": "execute_result"
    },
    {
     "data": {
      "image/png": "[encoded data removed]",
      "text/plain": [
       "<Figure size 640x480 with 1 Axes>"
      ]
     },
     "metadata": {},
     "output_type": "display_data"
    }
   ],
   "source": [
    "sns.barplot(data_mmh, x=\"Anxiety\", y=\"While working\")"
   ]
  },
  {
   "cell_type": "code",
   "execution_count": null,
   "metadata": {},
   "outputs": [],
   "source": [
    "# Example data with numerical and categorical columns\n",
    "data = {\n",
    "    'Category': ['A', 'B', 'A', 'B', 'A'],\n",
    "    'Value': [10, 8, 6, 4, 2]\n",
    "}\n",
    "\n",
    "# Extract the list of numerical and categorical columns\n",
    "numerical_columns = ['Value']\n",
    "categorical_column = 'Category'\n",
    "\n",
    "# Create a for loop to plot bar plots for each numerical and categorical combination\n",
    "for num_col in numerical_columns:\n",
    "    for cat_col in set(data[categorical_column]):  # Iterate through unique categorical values\n",
    "        plt.figure()  # Create a new figure for each plot\n",
    "        sns.barplot(data=data[data[categorical_column] == cat_col], x=categorical_column, y=num_col)\n",
    "        plt.title(f'Bar Plot of {num_col} for Category {cat_col}')\n",
    "        plt.show()"
   ]
  },
  {
   "cell_type": "code",
   "execution_count": 46,
   "metadata": {},
   "outputs": [
    {
     "ename": "TypeError",
     "evalue": "unhashable type: 'list'",
     "output_type": "error",
     "traceback": [
      "\u001b[0;31m---------------------------------------------------------------------------\u001b[0m",
      "\u001b[0;31mTypeError\u001b[0m                                 Traceback (most recent call last)",
      "\u001b[1;32m/Users/melanie/Ironhack/Week_9/Final_project_test/notebooks/exploratory/finalproject_exploratory_2 copy.ipynb Cell 47\u001b[0m line \u001b[0;36m9\n\u001b[1;32m      <a href='vscode-notebook-cell:/Users/melanie/Ironhack/Week_9/Final_project_test/notebooks/exploratory/finalproject_exploratory_2%20copy.ipynb#Y124sZmlsZQ%3D%3D?line=6'>7</a>\u001b[0m \u001b[39m# Create a for loop to plot bar plots for each numerical and categorical combination\u001b[39;00m\n\u001b[1;32m      <a href='vscode-notebook-cell:/Users/melanie/Ironhack/Week_9/Final_project_test/notebooks/exploratory/finalproject_exploratory_2%20copy.ipynb#Y124sZmlsZQ%3D%3D?line=7'>8</a>\u001b[0m \u001b[39mfor\u001b[39;00m num_col \u001b[39min\u001b[39;00m numerical_columns:\n\u001b[0;32m----> <a href='vscode-notebook-cell:/Users/melanie/Ironhack/Week_9/Final_project_test/notebooks/exploratory/finalproject_exploratory_2%20copy.ipynb#Y124sZmlsZQ%3D%3D?line=8'>9</a>\u001b[0m     \u001b[39mfor\u001b[39;00m cat_col \u001b[39min\u001b[39;00m \u001b[39mset\u001b[39m(data[categorical_column]):  \u001b[39m# Iterate through unique categorical values\u001b[39;00m\n\u001b[1;32m     <a href='vscode-notebook-cell:/Users/melanie/Ironhack/Week_9/Final_project_test/notebooks/exploratory/finalproject_exploratory_2%20copy.ipynb#Y124sZmlsZQ%3D%3D?line=9'>10</a>\u001b[0m         plt\u001b[39m.\u001b[39mfigure()  \u001b[39m# Create a new figure for each plot\u001b[39;00m\n\u001b[1;32m     <a href='vscode-notebook-cell:/Users/melanie/Ironhack/Week_9/Final_project_test/notebooks/exploratory/finalproject_exploratory_2%20copy.ipynb#Y124sZmlsZQ%3D%3D?line=10'>11</a>\u001b[0m         sns\u001b[39m.\u001b[39mbarplot(data\u001b[39m=\u001b[39mdata[data[categorical_column] \u001b[39m==\u001b[39m cat_col], x\u001b[39m=\u001b[39mcategorical_column, y\u001b[39m=\u001b[39mnum_col)\n",
      "\u001b[0;31mTypeError\u001b[0m: unhashable type: 'list'"
     ]
    }
   ],
   "source": [
    "# How to plot numerical and categorical values with a for loop:\n",
    "\n",
    "# Extract the list of numerical and categorical columns\n",
    "numerical_columns = ['Anxiety']\n",
    "categorical_column = ['While working']\n",
    "\n",
    "# Create a for loop to plot bar plots for each numerical and categorical combination\n",
    "for num_col in numerical_columns:\n",
    "    for cat_col in set(data[categorical_column]):  # Iterate through unique categorical values\n",
    "        plt.figure()  # Create a new figure for each plot\n",
    "        sns.barplot(data=data[data[categorical_column] == cat_col], x=categorical_column, y=num_col)\n",
    "        plt.title(f'Bar Plot of {num_col} for Category {cat_col}')\n",
    "        plt.show()"
   ]
  },
  {
   "cell_type": "code",
   "execution_count": 48,
   "metadata": {},
   "outputs": [
    {
     "ename": "TypeError",
     "evalue": "unhashable type: 'Series'",
     "output_type": "error",
     "traceback": [
      "\u001b[0;31m---------------------------------------------------------------------------\u001b[0m",
      "\u001b[0;31mTypeError\u001b[0m                                 Traceback (most recent call last)",
      "\u001b[1;32m/Users/melanie/Ironhack/Week_9/Final_project_test/notebooks/exploratory/finalproject_exploratory_2 copy.ipynb Cell 48\u001b[0m line \u001b[0;36m9\n\u001b[1;32m      <a href='vscode-notebook-cell:/Users/melanie/Ironhack/Week_9/Final_project_test/notebooks/exploratory/finalproject_exploratory_2%20copy.ipynb#Y130sZmlsZQ%3D%3D?line=6'>7</a>\u001b[0m \u001b[39m# Create a for loop to plot bar plots for each numerical and categorical combination\u001b[39;00m\n\u001b[1;32m      <a href='vscode-notebook-cell:/Users/melanie/Ironhack/Week_9/Final_project_test/notebooks/exploratory/finalproject_exploratory_2%20copy.ipynb#Y130sZmlsZQ%3D%3D?line=7'>8</a>\u001b[0m \u001b[39mfor\u001b[39;00m i \u001b[39min\u001b[39;00m numerical_columns:\n\u001b[0;32m----> <a href='vscode-notebook-cell:/Users/melanie/Ironhack/Week_9/Final_project_test/notebooks/exploratory/finalproject_exploratory_2%20copy.ipynb#Y130sZmlsZQ%3D%3D?line=8'>9</a>\u001b[0m     \u001b[39mfor\u001b[39;00m i \u001b[39min\u001b[39;00m \u001b[39mset\u001b[39m(data[categorical_column]):  \u001b[39m# Iterate through unique categorical values\u001b[39;00m\n\u001b[1;32m     <a href='vscode-notebook-cell:/Users/melanie/Ironhack/Week_9/Final_project_test/notebooks/exploratory/finalproject_exploratory_2%20copy.ipynb#Y130sZmlsZQ%3D%3D?line=9'>10</a>\u001b[0m         plt\u001b[39m.\u001b[39mfigure()  \u001b[39m# Create a new figure for each plot\u001b[39;00m\n\u001b[1;32m     <a href='vscode-notebook-cell:/Users/melanie/Ironhack/Week_9/Final_project_test/notebooks/exploratory/finalproject_exploratory_2%20copy.ipynb#Y130sZmlsZQ%3D%3D?line=10'>11</a>\u001b[0m         sns\u001b[39m.\u001b[39mbarplot(data\u001b[39m=\u001b[39mdata_mmh[data[categorical_column] \u001b[39m==\u001b[39m cat_col], x\u001b[39m=\u001b[39mcategorical_column, y\u001b[39m=\u001b[39mnum_col)\n",
      "\u001b[0;31mTypeError\u001b[0m: unhashable type: 'Series'"
     ]
    }
   ],
   "source": [
    "# How to plot numerical and categorical values with a for loop:\n",
    "\n",
    "# Extract the list of numerical and categorical columns\n",
    "numerical_columns = data_mmh['Anxiety']\n",
    "categorical_column = data_mmh['While working']\n",
    "\n",
    "# Create a for loop to plot bar plots for each numerical and categorical combination\n",
    "for i in numerical_columns:\n",
    "    for i in set(data[categorical_column]):  # Iterate through unique categorical values\n",
    "        plt.figure()  # Create a new figure for each plot\n",
    "        sns.barplot(data=data_mmh[data[categorical_column] == cat_col], x=categorical_column, y=num_col)\n",
    "        plt.title(f'Bar Plot of {num_col} for Category {cat_col}')\n",
    "        plt.show()"
   ]
  },
  {
   "cell_type": "code",
   "execution_count": 39,
   "metadata": {},
   "outputs": [
    {
     "data": {
      "text/html": [
       "<div>\n",
       "<style scoped>\n",
       "    .dataframe tbody tr th:only-of-type {\n",
       "        vertical-align: middle;\n",
       "    }\n",
       "\n",
       "    .dataframe tbody tr th {\n",
       "        vertical-align: top;\n",
       "    }\n",
       "\n",
       "    .dataframe thead th {\n",
       "        text-align: right;\n",
       "    }\n",
       "</style>\n",
       "<table border=\"1\" class=\"dataframe\">\n",
       "  <thead>\n",
       "    <tr style=\"text-align: right;\">\n",
       "      <th></th>\n",
       "      <th>Anxiety</th>\n",
       "    </tr>\n",
       "    <tr>\n",
       "      <th>While working</th>\n",
       "      <th></th>\n",
       "    </tr>\n",
       "  </thead>\n",
       "  <tbody>\n",
       "    <tr>\n",
       "      <th>No</th>\n",
       "      <td>5.706349</td>\n",
       "    </tr>\n",
       "    <tr>\n",
       "      <th>Yes</th>\n",
       "      <td>5.935845</td>\n",
       "    </tr>\n",
       "  </tbody>\n",
       "</table>\n",
       "</div>"
      ],
      "text/plain": [
       "                Anxiety\n",
       "While working          \n",
       "No             5.706349\n",
       "Yes            5.935845"
      ]
     },
     "execution_count": 39,
     "metadata": {},
     "output_type": "execute_result"
    }
   ],
   "source": [
    "data_mmh.groupby(['While working']).agg({'Anxiety': 'mean'}).head()"
   ]
  },
  {
   "cell_type": "code",
   "execution_count": null,
   "metadata": {},
   "outputs": [],
   "source": [
    "2) What is the connection between **music preference** and effect on **disease**(mental health)? \n",
    "granularity --> fav genre as first, related statistcal, individualy fre compare to disease\n",
    "\n",
    "**music preference**\n",
    "\n",
    "Favorite genre (categorical)\n",
    "Exploratory (categorical)\n",
    "Foreign languages (categorical)\n",
    "BPM (numerical)\n",
    "\n",
    "**disease**\n",
    "\n",
    "Anxiety \n",
    "Depression\n",
    "Insomnia\n",
    "OCD\n",
    "\n"
   ]
  },
  {
   "cell_type": "code",
   "execution_count": null,
   "metadata": {},
   "outputs": [],
   "source": [
    "3) What is the connection between **music genres** and effect on **disease**(mental health)?\n",
    "\n",
    "**music genres**\n",
    "Favorite genre\n",
    "\n",
    "* Frequency genre\n",
    "Frequency [Classical]             \n",
    "Frequency [Country]               \n",
    "Frequency [EDM]                   \n",
    "Frequency [Folk]                  \n",
    "Frequency [Gospel]               \n",
    "Frequency [Hip hop]               \n",
    "Frequency [Jazz]                  \n",
    "Frequency [K pop]               \n",
    "Frequency [Latin]                 \n",
    "Frequency [Lofi]                  \n",
    "Frequency [Metal]              \n",
    "Frequency [Pop]                \n",
    "Frequency [R&B]                   \n",
    "Frequency [Rap]                  \n",
    "Frequency [Rock]                \n",
    "Frequency [Video game music]  \n",
    "\n",
    "**disease**\n",
    "\n",
    "Anxiety\n",
    "Depression\n",
    "Insomnia\n",
    "OCD"
   ]
  },
  {
   "cell_type": "code",
   "execution_count": null,
   "metadata": {},
   "outputs": [],
   "source": [
    "4) Which **disease**(mental health) experiences the **greatest effect** from music? \n",
    "Plot difference between mental health and anxiety\n",
    "\n",
    "**disease**\n",
    "\n",
    "Anxiety\n",
    "Depression\n",
    "Insomnia\n",
    "OCD\n",
    "\n",
    "**greatest effect from music **\n",
    "Improve\n",
    "No effect\n",
    "Worsen"
   ]
  },
  {
   "cell_type": "code",
   "execution_count": null,
   "metadata": {},
   "outputs": [],
   "source": [
    "data_mmh.groupby(['Music effects']).agg({'Anxiety': 'mean'})"
   ]
  },
  {
   "cell_type": "code",
   "execution_count": null,
   "metadata": {},
   "outputs": [],
   "source": [
    "5) Can I make a helpful recommendations based on these findings? "
   ]
  },
  {
   "cell_type": "code",
   "execution_count": null,
   "metadata": {},
   "outputs": [],
   "source": [
    "6) What **age** experiences the most the **diseases**.\n",
    "What is their **music effect**? \n",
    "What **music** do they listen to?\n",
    "\n",
    "\n",
    "**age**\n",
    "**diseases**\n",
    "\n",
    "**music effect**\n",
    "\n",
    "**frequency genre**"
   ]
  }
 ],
 "metadata": {
  "kernelspec": {
   "display_name": "finalprojecttest_env",
   "language": "python",
   "name": "python3"
  },
  "language_info": {
   "codemirror_mode": {
    "name": "ipython",
    "version": 3
   },
   "file_extension": ".py",
   "mimetype": "text/x-python",
   "name": "python",
   "nbconvert_exporter": "python",
   "pygments_lexer": "ipython3",
   "version": "3.11.3"
  },
  "orig_nbformat": 4
 },
 "nbformat": 4,
 "nbformat_minor": 2
}
