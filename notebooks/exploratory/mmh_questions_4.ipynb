{
 "cells": [
  {
   "cell_type": "markdown",
   "id": "34496cf0",
   "metadata": {},
   "source": [
    "# Music & Mental Health | Trying to predict music effects\n",
    "_______________________________________"
   ]
  },
  {
   "cell_type": "markdown",
   "id": "2257cc85-c592-4229-a62b-f872b5932891",
   "metadata": {},
   "source": [
    "## Data Analysis"
   ]
  },
  {
   "cell_type": "markdown",
   "id": "b8b90d2b",
   "metadata": {},
   "source": [
    "## Data Transformation / Data Visualisation / Feature Engineering\n",
    "\n",
    "* What **aggregations** to do?\n",
    "* What **plots** to visualize? \n",
    "* What **models** for machine learning?"
   ]
  },
  {
   "cell_type": "markdown",
   "id": "3f291b78",
   "metadata": {},
   "source": [
    "## Trying to discover trends / predict music effects:\n",
    "\n",
    "1) What is the connection between mental health and music use?\n",
    "2) What is the connection between mental health and music preference?\n",
    "3) What is the connection between mental health and music genres?\n",
    "4) What is the connection between mental health and music effects?\n",
    "5) What is the connection between mental health and age?\n",
    "6) Can I make helpful recommendations based on these findings?\n"
   ]
  },
  {
   "cell_type": "code",
   "execution_count": 1,
   "id": "37f426c4",
   "metadata": {},
   "outputs": [],
   "source": [
    "# Load libraries:\n",
    "\n",
    "import numpy as np\n",
    "import pandas as pd\n",
    "import matplotlib.pyplot as plt\n",
    "import seaborn as sns\n",
    "from sklearn.impute import KNNImputer\n",
    "from scipy import stats\n"
   ]
  },
  {
   "cell_type": "code",
   "execution_count": 2,
   "id": "2cf8f4f1",
   "metadata": {},
   "outputs": [],
   "source": [
    "# Read cleaned dataset\n",
    "# data_mmh = pd.read_csv('../../data/cleaned/data_mmh_cleaned1.csv')\n",
    "# Remove the Unnamed Column: \n",
    "data_mmh = pd.read_csv('../../data/cleaned/data_mmh_cleaned2.csv', index_col=0)\n"
   ]
  },
  {
   "cell_type": "code",
   "execution_count": 3,
   "id": "d6e2744e",
   "metadata": {},
   "outputs": [
    {
     "data": {
      "text/html": [
       "<div>\n",
       "<style scoped>\n",
       "    .dataframe tbody tr th:only-of-type {\n",
       "        vertical-align: middle;\n",
       "    }\n",
       "\n",
       "    .dataframe tbody tr th {\n",
       "        vertical-align: top;\n",
       "    }\n",
       "\n",
       "    .dataframe thead th {\n",
       "        text-align: right;\n",
       "    }\n",
       "</style>\n",
       "<table border=\"1\" class=\"dataframe\">\n",
       "  <thead>\n",
       "    <tr style=\"text-align: right;\">\n",
       "      <th></th>\n",
       "      <th>Age</th>\n",
       "      <th>Hours per day</th>\n",
       "      <th>While working</th>\n",
       "      <th>Instrumentalist</th>\n",
       "      <th>Composer</th>\n",
       "      <th>Favorite genre</th>\n",
       "      <th>Exploratory</th>\n",
       "      <th>Foreign languages</th>\n",
       "      <th>BPM</th>\n",
       "      <th>Frequency [Classical]</th>\n",
       "      <th>...</th>\n",
       "      <th>Frequency [R&amp;B]</th>\n",
       "      <th>Frequency [Rap]</th>\n",
       "      <th>Frequency [Rock]</th>\n",
       "      <th>Frequency [Video game music]</th>\n",
       "      <th>Anxiety</th>\n",
       "      <th>Depression</th>\n",
       "      <th>Insomnia</th>\n",
       "      <th>OCD</th>\n",
       "      <th>Music effects</th>\n",
       "      <th>Permissions</th>\n",
       "    </tr>\n",
       "  </thead>\n",
       "  <tbody>\n",
       "    <tr>\n",
       "      <th>0</th>\n",
       "      <td>18.0</td>\n",
       "      <td>4.0</td>\n",
       "      <td>No</td>\n",
       "      <td>No</td>\n",
       "      <td>No</td>\n",
       "      <td>Video game music</td>\n",
       "      <td>No</td>\n",
       "      <td>Yes</td>\n",
       "      <td>132.0</td>\n",
       "      <td>Never</td>\n",
       "      <td>...</td>\n",
       "      <td>Never</td>\n",
       "      <td>Rarely</td>\n",
       "      <td>Rarely</td>\n",
       "      <td>Very frequently</td>\n",
       "      <td>7.0</td>\n",
       "      <td>7.0</td>\n",
       "      <td>10.0</td>\n",
       "      <td>2.0</td>\n",
       "      <td>No effect</td>\n",
       "      <td>I understand.</td>\n",
       "    </tr>\n",
       "    <tr>\n",
       "      <th>1</th>\n",
       "      <td>61.0</td>\n",
       "      <td>2.5</td>\n",
       "      <td>Yes</td>\n",
       "      <td>No</td>\n",
       "      <td>Yes</td>\n",
       "      <td>Jazz</td>\n",
       "      <td>Yes</td>\n",
       "      <td>Yes</td>\n",
       "      <td>84.0</td>\n",
       "      <td>Sometimes</td>\n",
       "      <td>...</td>\n",
       "      <td>Sometimes</td>\n",
       "      <td>Never</td>\n",
       "      <td>Never</td>\n",
       "      <td>Never</td>\n",
       "      <td>9.0</td>\n",
       "      <td>7.0</td>\n",
       "      <td>3.0</td>\n",
       "      <td>3.0</td>\n",
       "      <td>Improve</td>\n",
       "      <td>I understand.</td>\n",
       "    </tr>\n",
       "    <tr>\n",
       "      <th>2</th>\n",
       "      <td>18.0</td>\n",
       "      <td>4.0</td>\n",
       "      <td>Yes</td>\n",
       "      <td>No</td>\n",
       "      <td>No</td>\n",
       "      <td>R&amp;B</td>\n",
       "      <td>Yes</td>\n",
       "      <td>No</td>\n",
       "      <td>107.0</td>\n",
       "      <td>Never</td>\n",
       "      <td>...</td>\n",
       "      <td>Very frequently</td>\n",
       "      <td>Very frequently</td>\n",
       "      <td>Never</td>\n",
       "      <td>Rarely</td>\n",
       "      <td>7.0</td>\n",
       "      <td>2.0</td>\n",
       "      <td>5.0</td>\n",
       "      <td>9.0</td>\n",
       "      <td>Improve</td>\n",
       "      <td>I understand.</td>\n",
       "    </tr>\n",
       "    <tr>\n",
       "      <th>3</th>\n",
       "      <td>18.0</td>\n",
       "      <td>5.0</td>\n",
       "      <td>Yes</td>\n",
       "      <td>Yes</td>\n",
       "      <td>Yes</td>\n",
       "      <td>Jazz</td>\n",
       "      <td>Yes</td>\n",
       "      <td>Yes</td>\n",
       "      <td>86.0</td>\n",
       "      <td>Rarely</td>\n",
       "      <td>...</td>\n",
       "      <td>Very frequently</td>\n",
       "      <td>Very frequently</td>\n",
       "      <td>Very frequently</td>\n",
       "      <td>Never</td>\n",
       "      <td>8.0</td>\n",
       "      <td>8.0</td>\n",
       "      <td>7.0</td>\n",
       "      <td>7.0</td>\n",
       "      <td>Improve</td>\n",
       "      <td>I understand.</td>\n",
       "    </tr>\n",
       "    <tr>\n",
       "      <th>4</th>\n",
       "      <td>18.0</td>\n",
       "      <td>3.0</td>\n",
       "      <td>Yes</td>\n",
       "      <td>Yes</td>\n",
       "      <td>No</td>\n",
       "      <td>Video game music</td>\n",
       "      <td>Yes</td>\n",
       "      <td>Yes</td>\n",
       "      <td>66.0</td>\n",
       "      <td>Sometimes</td>\n",
       "      <td>...</td>\n",
       "      <td>Rarely</td>\n",
       "      <td>Never</td>\n",
       "      <td>Never</td>\n",
       "      <td>Sometimes</td>\n",
       "      <td>4.0</td>\n",
       "      <td>8.0</td>\n",
       "      <td>6.0</td>\n",
       "      <td>0.0</td>\n",
       "      <td>Improve</td>\n",
       "      <td>I understand.</td>\n",
       "    </tr>\n",
       "  </tbody>\n",
       "</table>\n",
       "<p>5 rows × 31 columns</p>\n",
       "</div>"
      ],
      "text/plain": [
       "    Age  Hours per day While working Instrumentalist Composer  \\\n",
       "0  18.0            4.0            No              No       No   \n",
       "1  61.0            2.5           Yes              No      Yes   \n",
       "2  18.0            4.0           Yes              No       No   \n",
       "3  18.0            5.0           Yes             Yes      Yes   \n",
       "4  18.0            3.0           Yes             Yes       No   \n",
       "\n",
       "     Favorite genre Exploratory Foreign languages    BPM  \\\n",
       "0  Video game music          No               Yes  132.0   \n",
       "1              Jazz         Yes               Yes   84.0   \n",
       "2               R&B         Yes                No  107.0   \n",
       "3              Jazz         Yes               Yes   86.0   \n",
       "4  Video game music         Yes               Yes   66.0   \n",
       "\n",
       "  Frequency [Classical]  ...  Frequency [R&B]  Frequency [Rap]  \\\n",
       "0                 Never  ...            Never           Rarely   \n",
       "1             Sometimes  ...        Sometimes            Never   \n",
       "2                 Never  ...  Very frequently  Very frequently   \n",
       "3                Rarely  ...  Very frequently  Very frequently   \n",
       "4             Sometimes  ...           Rarely            Never   \n",
       "\n",
       "  Frequency [Rock] Frequency [Video game music] Anxiety Depression Insomnia  \\\n",
       "0           Rarely              Very frequently     7.0        7.0     10.0   \n",
       "1            Never                        Never     9.0        7.0      3.0   \n",
       "2            Never                       Rarely     7.0        2.0      5.0   \n",
       "3  Very frequently                        Never     8.0        8.0      7.0   \n",
       "4            Never                    Sometimes     4.0        8.0      6.0   \n",
       "\n",
       "   OCD Music effects    Permissions  \n",
       "0  2.0     No effect  I understand.  \n",
       "1  3.0       Improve  I understand.  \n",
       "2  9.0       Improve  I understand.  \n",
       "3  7.0       Improve  I understand.  \n",
       "4  0.0       Improve  I understand.  \n",
       "\n",
       "[5 rows x 31 columns]"
      ]
     },
     "execution_count": 3,
     "metadata": {},
     "output_type": "execute_result"
    }
   ],
   "source": [
    "data_mmh.head()\n"
   ]
  },
  {
   "cell_type": "code",
   "execution_count": 4,
   "id": "e2cfbd56",
   "metadata": {},
   "outputs": [
    {
     "data": {
      "text/plain": [
       "(616, 31)"
      ]
     },
     "execution_count": 4,
     "metadata": {},
     "output_type": "execute_result"
    }
   ],
   "source": [
    "data_mmh.shape"
   ]
  },
  {
   "cell_type": "code",
   "execution_count": 11,
   "id": "fe34e1e0-e071-4443-a272-abebfe36a56c",
   "metadata": {},
   "outputs": [],
   "source": [
    "labels = [\"<10\", \"10's\", \"20's\", \"30's\", \"40's\", \"50's\", \"60's\", \"70's\", \"80's\"]\n",
    "data_mmh['Age group'] = pd.cut(data_mmh['Age'], bins=[0, 10, 20, 30, 40, 50, 60, 70, 80, 90], labels = labels)\n"
   ]
  },
  {
   "cell_type": "code",
   "execution_count": 45,
   "id": "05851385-916a-4a59-a787-b4bed47cb14a",
   "metadata": {},
   "outputs": [
    {
     "data": {
      "text/plain": [
       "(616, 32)"
      ]
     },
     "execution_count": 45,
     "metadata": {},
     "output_type": "execute_result"
    }
   ],
   "source": [
    "data.shape"
   ]
  },
  {
   "cell_type": "code",
   "execution_count": 44,
   "id": "edb94975-b930-4e69-aa09-2856264ef40b",
   "metadata": {},
   "outputs": [
    {
     "data": {
      "text/html": [
       "<div>\n",
       "<style scoped>\n",
       "    .dataframe tbody tr th:only-of-type {\n",
       "        vertical-align: middle;\n",
       "    }\n",
       "\n",
       "    .dataframe tbody tr th {\n",
       "        vertical-align: top;\n",
       "    }\n",
       "\n",
       "    .dataframe thead th {\n",
       "        text-align: right;\n",
       "    }\n",
       "</style>\n",
       "<table border=\"1\" class=\"dataframe\">\n",
       "  <thead>\n",
       "    <tr style=\"text-align: right;\">\n",
       "      <th></th>\n",
       "      <th>Age</th>\n",
       "      <th>Hours per day</th>\n",
       "      <th>While working</th>\n",
       "      <th>Instrumentalist</th>\n",
       "      <th>Composer</th>\n",
       "      <th>Favorite genre</th>\n",
       "      <th>Exploratory</th>\n",
       "      <th>Foreign languages</th>\n",
       "      <th>BPM</th>\n",
       "      <th>Frequency [Classical]</th>\n",
       "      <th>...</th>\n",
       "      <th>Frequency [Rap]</th>\n",
       "      <th>Frequency [Rock]</th>\n",
       "      <th>Frequency [Video game music]</th>\n",
       "      <th>Anxiety</th>\n",
       "      <th>Depression</th>\n",
       "      <th>Insomnia</th>\n",
       "      <th>OCD</th>\n",
       "      <th>Music effects</th>\n",
       "      <th>Permissions</th>\n",
       "      <th>Age group</th>\n",
       "    </tr>\n",
       "  </thead>\n",
       "  <tbody>\n",
       "    <tr>\n",
       "      <th>0</th>\n",
       "      <td>18.0</td>\n",
       "      <td>4.0</td>\n",
       "      <td>No</td>\n",
       "      <td>No</td>\n",
       "      <td>No</td>\n",
       "      <td>Video game music</td>\n",
       "      <td>No</td>\n",
       "      <td>Yes</td>\n",
       "      <td>132.0</td>\n",
       "      <td>Never</td>\n",
       "      <td>...</td>\n",
       "      <td>Rarely</td>\n",
       "      <td>Rarely</td>\n",
       "      <td>Very frequently</td>\n",
       "      <td>7.0</td>\n",
       "      <td>7.0</td>\n",
       "      <td>10.0</td>\n",
       "      <td>2.0</td>\n",
       "      <td>No effect</td>\n",
       "      <td>I understand.</td>\n",
       "      <td>10's</td>\n",
       "    </tr>\n",
       "    <tr>\n",
       "      <th>1</th>\n",
       "      <td>61.0</td>\n",
       "      <td>2.5</td>\n",
       "      <td>Yes</td>\n",
       "      <td>No</td>\n",
       "      <td>Yes</td>\n",
       "      <td>Jazz</td>\n",
       "      <td>Yes</td>\n",
       "      <td>Yes</td>\n",
       "      <td>84.0</td>\n",
       "      <td>Sometimes</td>\n",
       "      <td>...</td>\n",
       "      <td>Never</td>\n",
       "      <td>Never</td>\n",
       "      <td>Never</td>\n",
       "      <td>9.0</td>\n",
       "      <td>7.0</td>\n",
       "      <td>3.0</td>\n",
       "      <td>3.0</td>\n",
       "      <td>Improve</td>\n",
       "      <td>I understand.</td>\n",
       "      <td>60's</td>\n",
       "    </tr>\n",
       "    <tr>\n",
       "      <th>2</th>\n",
       "      <td>18.0</td>\n",
       "      <td>4.0</td>\n",
       "      <td>Yes</td>\n",
       "      <td>No</td>\n",
       "      <td>No</td>\n",
       "      <td>R&amp;B</td>\n",
       "      <td>Yes</td>\n",
       "      <td>No</td>\n",
       "      <td>107.0</td>\n",
       "      <td>Never</td>\n",
       "      <td>...</td>\n",
       "      <td>Very frequently</td>\n",
       "      <td>Never</td>\n",
       "      <td>Rarely</td>\n",
       "      <td>7.0</td>\n",
       "      <td>2.0</td>\n",
       "      <td>5.0</td>\n",
       "      <td>9.0</td>\n",
       "      <td>Improve</td>\n",
       "      <td>I understand.</td>\n",
       "      <td>10's</td>\n",
       "    </tr>\n",
       "    <tr>\n",
       "      <th>3</th>\n",
       "      <td>18.0</td>\n",
       "      <td>5.0</td>\n",
       "      <td>Yes</td>\n",
       "      <td>Yes</td>\n",
       "      <td>Yes</td>\n",
       "      <td>Jazz</td>\n",
       "      <td>Yes</td>\n",
       "      <td>Yes</td>\n",
       "      <td>86.0</td>\n",
       "      <td>Rarely</td>\n",
       "      <td>...</td>\n",
       "      <td>Very frequently</td>\n",
       "      <td>Very frequently</td>\n",
       "      <td>Never</td>\n",
       "      <td>8.0</td>\n",
       "      <td>8.0</td>\n",
       "      <td>7.0</td>\n",
       "      <td>7.0</td>\n",
       "      <td>Improve</td>\n",
       "      <td>I understand.</td>\n",
       "      <td>10's</td>\n",
       "    </tr>\n",
       "    <tr>\n",
       "      <th>4</th>\n",
       "      <td>18.0</td>\n",
       "      <td>3.0</td>\n",
       "      <td>Yes</td>\n",
       "      <td>Yes</td>\n",
       "      <td>No</td>\n",
       "      <td>Video game music</td>\n",
       "      <td>Yes</td>\n",
       "      <td>Yes</td>\n",
       "      <td>66.0</td>\n",
       "      <td>Sometimes</td>\n",
       "      <td>...</td>\n",
       "      <td>Never</td>\n",
       "      <td>Never</td>\n",
       "      <td>Sometimes</td>\n",
       "      <td>4.0</td>\n",
       "      <td>8.0</td>\n",
       "      <td>6.0</td>\n",
       "      <td>0.0</td>\n",
       "      <td>Improve</td>\n",
       "      <td>I understand.</td>\n",
       "      <td>10's</td>\n",
       "    </tr>\n",
       "  </tbody>\n",
       "</table>\n",
       "<p>5 rows × 32 columns</p>\n",
       "</div>"
      ],
      "text/plain": [
       "    Age  Hours per day While working Instrumentalist Composer  \\\n",
       "0  18.0            4.0            No              No       No   \n",
       "1  61.0            2.5           Yes              No      Yes   \n",
       "2  18.0            4.0           Yes              No       No   \n",
       "3  18.0            5.0           Yes             Yes      Yes   \n",
       "4  18.0            3.0           Yes             Yes       No   \n",
       "\n",
       "     Favorite genre Exploratory Foreign languages    BPM  \\\n",
       "0  Video game music          No               Yes  132.0   \n",
       "1              Jazz         Yes               Yes   84.0   \n",
       "2               R&B         Yes                No  107.0   \n",
       "3              Jazz         Yes               Yes   86.0   \n",
       "4  Video game music         Yes               Yes   66.0   \n",
       "\n",
       "  Frequency [Classical]  ...  Frequency [Rap] Frequency [Rock]  \\\n",
       "0                 Never  ...           Rarely           Rarely   \n",
       "1             Sometimes  ...            Never            Never   \n",
       "2                 Never  ...  Very frequently            Never   \n",
       "3                Rarely  ...  Very frequently  Very frequently   \n",
       "4             Sometimes  ...            Never            Never   \n",
       "\n",
       "  Frequency [Video game music] Anxiety Depression Insomnia  OCD Music effects  \\\n",
       "0              Very frequently     7.0        7.0     10.0  2.0     No effect   \n",
       "1                        Never     9.0        7.0      3.0  3.0       Improve   \n",
       "2                       Rarely     7.0        2.0      5.0  9.0       Improve   \n",
       "3                        Never     8.0        8.0      7.0  7.0       Improve   \n",
       "4                    Sometimes     4.0        8.0      6.0  0.0       Improve   \n",
       "\n",
       "     Permissions Age group  \n",
       "0  I understand.      10's  \n",
       "1  I understand.      60's  \n",
       "2  I understand.      10's  \n",
       "3  I understand.      10's  \n",
       "4  I understand.      10's  \n",
       "\n",
       "[5 rows x 32 columns]"
      ]
     },
     "execution_count": 44,
     "metadata": {},
     "output_type": "execute_result"
    }
   ],
   "source": [
    "data.head()"
   ]
  },
  {
   "cell_type": "markdown",
   "id": "d61de37d",
   "metadata": {},
   "source": [
    "_________"
   ]
  },
  {
   "cell_type": "markdown",
   "id": "0b9f041a",
   "metadata": {},
   "source": [
    "### 1) Connection disease and music use:\n",
    "* Positive test results:\n",
    "\t* 'Music effects' and 'While working'\n",
    "\t* 'Music effects' and 'Exploratory'\n",
    "### 2) Connection disease and music preference:\n",
    "### 3) Connection disease and music genres:\n",
    "### 4) Connection disease and greatest music effects:\n",
    "* Positive test results:\n",
    "\t* ‘Music effects’  and ‘Depression’\n",
    "### 5) Connections disease and age:\n",
    "* Positive test results:\n",
    "\t* ‘Age group’  and ‘Music effects’\n",
    "\n",
    "### 6) Can I make helpful recommendations based on these findings?"
   ]
  },
  {
   "cell_type": "markdown",
   "id": "f3f82a1c",
   "metadata": {},
   "source": [
    "________"
   ]
  },
  {
   "cell_type": "markdown",
   "id": "b9546d69",
   "metadata": {},
   "source": [
    "### 1) Connection disease and music use:\n",
    "* Positive test results:\n",
    "\t* 'Music effects' and 'While working'\n",
    "\t* 'Music effects' and 'Exploratory'"
   ]
  },
  {
   "cell_type": "markdown",
   "id": "9efc912a",
   "metadata": {},
   "source": [
    "'Music effects' and 'While working':"
   ]
  },
  {
   "cell_type": "code",
   "execution_count": 5,
   "id": "b27ea600",
   "metadata": {},
   "outputs": [],
   "source": [
    "# 'Music effects'(c) and 'While working'(c) #LogisticRegression #DecisionTrees, #Random Forest, #Neural Networks"
   ]
  },
  {
   "cell_type": "code",
   "execution_count": 6,
   "id": "c375dbc9",
   "metadata": {},
   "outputs": [
    {
     "data": {
      "text/html": [
       "<div>\n",
       "<style scoped>\n",
       "    .dataframe tbody tr th:only-of-type {\n",
       "        vertical-align: middle;\n",
       "    }\n",
       "\n",
       "    .dataframe tbody tr th {\n",
       "        vertical-align: top;\n",
       "    }\n",
       "\n",
       "    .dataframe thead th {\n",
       "        text-align: right;\n",
       "    }\n",
       "</style>\n",
       "<table border=\"1\" class=\"dataframe\">\n",
       "  <thead>\n",
       "    <tr style=\"text-align: right;\">\n",
       "      <th>While working</th>\n",
       "      <th>No</th>\n",
       "      <th>Yes</th>\n",
       "    </tr>\n",
       "    <tr>\n",
       "      <th>Music effects</th>\n",
       "      <th></th>\n",
       "      <th></th>\n",
       "    </tr>\n",
       "  </thead>\n",
       "  <tbody>\n",
       "    <tr>\n",
       "      <th>Improve</th>\n",
       "      <td>79</td>\n",
       "      <td>387</td>\n",
       "    </tr>\n",
       "    <tr>\n",
       "      <th>No effect</th>\n",
       "      <td>42</td>\n",
       "      <td>93</td>\n",
       "    </tr>\n",
       "    <tr>\n",
       "      <th>Worsen</th>\n",
       "      <td>5</td>\n",
       "      <td>10</td>\n",
       "    </tr>\n",
       "  </tbody>\n",
       "</table>\n",
       "</div>"
      ],
      "text/plain": [
       "While working  No  Yes\n",
       "Music effects         \n",
       "Improve        79  387\n",
       "No effect      42   93\n",
       "Worsen          5   10"
      ]
     },
     "execution_count": 6,
     "metadata": {},
     "output_type": "execute_result"
    }
   ],
   "source": [
    "# Mussic effects (c) and 'While working' (c)\n",
    "\n",
    "musiceffects_ww = pd.crosstab(data_mmh['Music effects'], data_mmh['While working'])\n",
    "musiceffects_ww"
   ]
  },
  {
   "cell_type": "code",
   "execution_count": 7,
   "id": "08e43d92",
   "metadata": {},
   "outputs": [
    {
     "name": "stdout",
     "output_type": "stream",
     "text": [
      "Chi-Square statistic: 14.463517496650542\n",
      "P-value: 0.0007232477331809323\n"
     ]
    }
   ],
   "source": [
    "# Test for checking relationship between categorical and categorical # Chi2\n",
    "\n",
    "from scipy import stats\n",
    "\n",
    "# Create a contingency table (cross-tabulation)\n",
    "musiceffects_ww = pd.crosstab(data_mmh['Music effects'], data_mmh['While working'])\n",
    "\n",
    "# Perform the Chi-Square test\n",
    "chi2, p, dof, expected = stats.chi2_contingency(musiceffects_ww)\n",
    "\n",
    "print(f\"Chi-Square statistic: {chi2}\")\n",
    "print(f\"P-value: {p}\")"
   ]
  },
  {
   "cell_type": "markdown",
   "id": "a7235265",
   "metadata": {},
   "source": [
    "* **p-value** (typically **< 0.05**) suggests that there is a **significant association** between the two categorical variables.\n",
    "\n",
    "* If the p-value is less than your chosen significance level, you can **reject the null hypothesis** and **conclude** that there is a **significant association between the two categorical variables**.\n",
    "\n",
    "We reject H0\n",
    "\n",
    "* Significant association\n",
    "* **Use column for model**"
   ]
  },
  {
   "cell_type": "code",
   "execution_count": 8,
   "id": "b92a5da9",
   "metadata": {},
   "outputs": [
    {
     "data": {
      "text/plain": [
       "<Axes: xlabel='While working', ylabel='Music effects'>"
      ]
     },
     "execution_count": 8,
     "metadata": {},
     "output_type": "execute_result"
    },
    {
     "data": {
      "image/png": "[encoded data removed]",
      "text/plain": [
       "<Figure size 640x480 with 2 Axes>"
      ]
     },
     "metadata": {},
     "output_type": "display_data"
    }
   ],
   "source": [
    "sns.heatmap(musiceffects_ww, annot=True)"
   ]
  },
  {
   "cell_type": "markdown",
   "id": "3796c785",
   "metadata": {},
   "source": [
    "'Music effects' and 'Exploratory':"
   ]
  },
  {
   "cell_type": "code",
   "execution_count": null,
   "id": "66668736",
   "metadata": {},
   "outputs": [],
   "source": [
    "# 'Music effects'(c) and 'Exploratory'(c) #LogisticRegression #DecisionTrees, #Random Forest, #Neural Networks"
   ]
  },
  {
   "cell_type": "code",
   "execution_count": 36,
   "id": "1f7dcc2e",
   "metadata": {},
   "outputs": [
    {
     "data": {
      "text/html": [
       "<div>\n",
       "<style scoped>\n",
       "    .dataframe tbody tr th:only-of-type {\n",
       "        vertical-align: middle;\n",
       "    }\n",
       "\n",
       "    .dataframe tbody tr th {\n",
       "        vertical-align: top;\n",
       "    }\n",
       "\n",
       "    .dataframe thead th {\n",
       "        text-align: right;\n",
       "    }\n",
       "</style>\n",
       "<table border=\"1\" class=\"dataframe\">\n",
       "  <thead>\n",
       "    <tr style=\"text-align: right;\">\n",
       "      <th>Exploratory</th>\n",
       "      <th>No</th>\n",
       "      <th>Yes</th>\n",
       "    </tr>\n",
       "    <tr>\n",
       "      <th>Music effects</th>\n",
       "      <th></th>\n",
       "      <th></th>\n",
       "    </tr>\n",
       "  </thead>\n",
       "  <tbody>\n",
       "    <tr>\n",
       "      <th>Improve</th>\n",
       "      <td>107</td>\n",
       "      <td>359</td>\n",
       "    </tr>\n",
       "    <tr>\n",
       "      <th>No effect</th>\n",
       "      <td>52</td>\n",
       "      <td>83</td>\n",
       "    </tr>\n",
       "    <tr>\n",
       "      <th>Worsen</th>\n",
       "      <td>6</td>\n",
       "      <td>9</td>\n",
       "    </tr>\n",
       "  </tbody>\n",
       "</table>\n",
       "</div>"
      ],
      "text/plain": [
       "Exploratory     No  Yes\n",
       "Music effects          \n",
       "Improve        107  359\n",
       "No effect       52   83\n",
       "Worsen           6    9"
      ]
     },
     "execution_count": 36,
     "metadata": {},
     "output_type": "execute_result"
    }
   ],
   "source": [
    "musiceffects_e = pd.crosstab(data_mmh['Music effects'], data_mmh['Exploratory'])\n",
    "musiceffects_e "
   ]
  },
  {
   "cell_type": "code",
   "execution_count": null,
   "id": "5bb71e2b",
   "metadata": {},
   "outputs": [],
   "source": [
    "# Test for checking relationship between categorical and categorical # Chi2\n",
    "\n",
    "# Create a contingency table (cross-tabulation)\n",
    "musiceffects_e = pd.crosstab(data_mmh['Music effects'], data_mmh['Exploratory'])\n",
    "\n",
    "# Perform the Chi-Square test\n",
    "chi2, p, dof, expected = stats.chi2_contingency(musiceffects_e)\n",
    "\n",
    "print(f\"Chi-Square statistic: {chi2}\")\n",
    "print(f\"P-value: {p}\")"
   ]
  },
  {
   "cell_type": "markdown",
   "id": "947fc976",
   "metadata": {},
   "source": [
    "* **p-value** (typically **< 0.05**) suggests that there is a **significant association** between the two categorical variables.\n",
    "\n",
    "* If the p-value is less than your chosen significance level, you can **reject the null hypothesis** and **conclude** that there is a **significant association between the two categorical variables**.\n",
    "\n",
    "We reject H0\n",
    "\n",
    "* Significant association\n",
    "* **Use column for model**"
   ]
  },
  {
   "cell_type": "code",
   "execution_count": 37,
   "id": "f6a05556",
   "metadata": {},
   "outputs": [
    {
     "data": {
      "text/plain": [
       "<Axes: xlabel='Exploratory', ylabel='Music effects'>"
      ]
     },
     "execution_count": 37,
     "metadata": {},
     "output_type": "execute_result"
    },
    {
     "data": {
      "image/png": "[encoded data removed]",
      "text/plain": [
       "<Figure size 640x480 with 2 Axes>"
      ]
     },
     "metadata": {},
     "output_type": "display_data"
    }
   ],
   "source": [
    "sns.heatmap(musiceffects_e, annot=True)"
   ]
  },
  {
   "cell_type": "markdown",
   "id": "37fedfd3",
   "metadata": {},
   "source": [
    "### 2) Connection disease and music preference:"
   ]
  },
  {
   "cell_type": "markdown",
   "id": "63409840",
   "metadata": {},
   "source": [
    "There is no connection "
   ]
  },
  {
   "cell_type": "markdown",
   "id": "532b2acd",
   "metadata": {},
   "source": [
    "### 3) Connection disease and music genres:"
   ]
  },
  {
   "cell_type": "markdown",
   "id": "9309cfac",
   "metadata": {},
   "source": [
    "There is no connection "
   ]
  },
  {
   "cell_type": "markdown",
   "id": "86358bde",
   "metadata": {},
   "source": [
    "### 4) Connection disease and greatest music effects:\n",
    "* Positive test results:\n",
    "\t* ‘Music effects’  and ‘Depression’"
   ]
  },
  {
   "cell_type": "code",
   "execution_count": null,
   "id": "5ce1f5ee",
   "metadata": {},
   "outputs": [],
   "source": [
    "# * ‘Music effects’ (c) and ‘Depression’ (n) #RandomForest"
   ]
  },
  {
   "cell_type": "code",
   "execution_count": 38,
   "id": "fb606de9",
   "metadata": {},
   "outputs": [
    {
     "data": {
      "text/html": [
       "<div>\n",
       "<style scoped>\n",
       "    .dataframe tbody tr th:only-of-type {\n",
       "        vertical-align: middle;\n",
       "    }\n",
       "\n",
       "    .dataframe tbody tr th {\n",
       "        vertical-align: top;\n",
       "    }\n",
       "\n",
       "    .dataframe thead th {\n",
       "        text-align: right;\n",
       "    }\n",
       "</style>\n",
       "<table border=\"1\" class=\"dataframe\">\n",
       "  <thead>\n",
       "    <tr style=\"text-align: right;\">\n",
       "      <th></th>\n",
       "      <th>Depression</th>\n",
       "    </tr>\n",
       "    <tr>\n",
       "      <th>Music effects</th>\n",
       "      <th></th>\n",
       "    </tr>\n",
       "  </thead>\n",
       "  <tbody>\n",
       "    <tr>\n",
       "      <th>Improve</th>\n",
       "      <td>4.957082</td>\n",
       "    </tr>\n",
       "    <tr>\n",
       "      <th>No effect</th>\n",
       "      <td>4.422222</td>\n",
       "    </tr>\n",
       "    <tr>\n",
       "      <th>Worsen</th>\n",
       "      <td>7.200000</td>\n",
       "    </tr>\n",
       "  </tbody>\n",
       "</table>\n",
       "</div>"
      ],
      "text/plain": [
       "               Depression\n",
       "Music effects            \n",
       "Improve          4.957082\n",
       "No effect        4.422222\n",
       "Worsen           7.200000"
      ]
     },
     "execution_count": 38,
     "metadata": {},
     "output_type": "execute_result"
    }
   ],
   "source": [
    "# Get average 'Depression' (numerical) for every possible music effect \n",
    "data_mmh.groupby(['Music effects']).agg({'Depression': 'mean'})"
   ]
  },
  {
   "cell_type": "code",
   "execution_count": null,
   "id": "7aa492f3",
   "metadata": {},
   "outputs": [],
   "source": [
    "#* Null Hypothesis (H0): The means of all groups are equal.\n",
    "#* Alternative Hypothesis (H1): At least one group's mean is different from the others.\n",
    "\n",
    "#f_oneway() function takes the group data as input\n",
    "# returns F-statistic and P-value\n",
    "from scipy.stats import f_oneway\n",
    "\n",
    "# Running the one-way anova test between 'Music effects' and 'Hours per day'\n",
    "# Assumption (H0) is that Hours per day and Music effects are NOT correlated\n",
    "\n",
    "# Finds out 'Hours per day' for each 'Music effect' as a list\n",
    "MusicEffects_Depression = data_mmh.groupby('Music effects') ['Depression'].apply(list)\n",
    "\n",
    "# Performing the ANOVA test\n",
    "AnovaResults = f_oneway(*MusicEffects_Depression)\n",
    "print('P-Value for Anova is:', AnovaResults[1])\n",
    "\n",
    "#We accept the H0 only when P-Value > 0.05"
   ]
  },
  {
   "cell_type": "markdown",
   "id": "85efb9e3",
   "metadata": {},
   "source": [
    "* If the **p-value is less < than** your chosen significance level (e.g., \"**0.05**), you can reject the null hypothesis and conclude that there are significant differences between the groups.\n",
    "\n",
    "* If the p-value is greater > than the significance level, you fail to reject the null hypothesis, suggesting no significant differences among the groups.\n",
    "\n",
    "**We reject H0**\n",
    "\n",
    "* (H0): The means of all groups are not equal.\n",
    "* (H0): Difference, relation -> **use it in your model**"
   ]
  },
  {
   "cell_type": "code",
   "execution_count": 43,
   "id": "6bd8dd5a-3c1b-4c44-9310-b1433b3bf7f6",
   "metadata": {},
   "outputs": [
    {
     "data": {
      "image/png": "[encoded data removed]",
      "text/plain": [
       "<Figure size 640x480 with 1 Axes>"
      ]
     },
     "metadata": {},
     "output_type": "display_data"
    }
   ],
   "source": [
    "# Boxplot #categorical vs. numerical\n",
    "# Sample data\n",
    "data = data_mmh\n",
    "\n",
    "# Create a box plot\n",
    "sns.boxplot(data=data_mmh, x='Music effects', y='Depression')\n",
    "\n",
    "# Add labels and a title\n",
    "plt.xlabel('Music effects')\n",
    "plt.ylabel('Depression')\n",
    "plt.title('Box Plot: Music effects vs. Depression')\n",
    "\n",
    "# Show the plot\n",
    "plt.show()"
   ]
  },
  {
   "cell_type": "markdown",
   "id": "8a8a16e7",
   "metadata": {},
   "source": [
    "### 5) Connections disease and age:\n",
    "* Positive test results:\n",
    "\t* ‘Age group’  and ‘Music effects’"
   ]
  },
  {
   "cell_type": "code",
   "execution_count": null,
   "id": "ac7f9ca0",
   "metadata": {},
   "outputs": [],
   "source": [
    "# ‘Age group’ (c) and ‘Music effects’ (c) #LogisticRegression #DecisionTrees, #Random Forest, #Neural Networks"
   ]
  },
  {
   "cell_type": "code",
   "execution_count": null,
   "id": "6a154da8",
   "metadata": {},
   "outputs": [],
   "source": [
    "#df['age_group'] = pd.cut(df['age'], 3)\n",
    "labels = [\"<10\", \"10's\", \"20's\", \"30's\", \"40's\", \"50's\", \"60's\", \"70's\", \"80's\"]\n",
    "data_mmh['Age group'] = pd.cut(data_mmh['Age'], bins=[0, 10, 20, 30, 40, 50, 60, 70, 80, 90], labels = labels)\n",
    "#data_mmh['Age group'] = pd.cut(data_mmh['Age'], 9)\n",
    "#data_mmh\n",
    "data_mmh[['Age','Age group']]"
   ]
  },
  {
   "cell_type": "code",
   "execution_count": null,
   "id": "0c0c5120",
   "metadata": {},
   "outputs": [],
   "source": [
    "data_mmh['Age group'].value_counts()"
   ]
  },
  {
   "cell_type": "code",
   "execution_count": 39,
   "id": "c307b3ef",
   "metadata": {},
   "outputs": [
    {
     "data": {
      "text/plain": [
       "<Axes: xlabel='Age group', ylabel='count'>"
      ]
     },
     "execution_count": 39,
     "metadata": {},
     "output_type": "execute_result"
    },
    {
     "data": {
      "image/png": "[encoded data removed]",
      "text/plain": [
       "<Figure size 640x480 with 1 Axes>"
      ]
     },
     "metadata": {},
     "output_type": "display_data"
    }
   ],
   "source": [
    "sns.countplot(data=data_mmh, x=\"Age group\")"
   ]
  },
  {
   "cell_type": "code",
   "execution_count": 40,
   "id": "17a95ed0",
   "metadata": {},
   "outputs": [
    {
     "data": {
      "text/html": [
       "<div>\n",
       "<style scoped>\n",
       "    .dataframe tbody tr th:only-of-type {\n",
       "        vertical-align: middle;\n",
       "    }\n",
       "\n",
       "    .dataframe tbody tr th {\n",
       "        vertical-align: top;\n",
       "    }\n",
       "\n",
       "    .dataframe thead th {\n",
       "        text-align: right;\n",
       "    }\n",
       "</style>\n",
       "<table border=\"1\" class=\"dataframe\">\n",
       "  <thead>\n",
       "    <tr style=\"text-align: right;\">\n",
       "      <th>Music effects</th>\n",
       "      <th>Improve</th>\n",
       "      <th>No effect</th>\n",
       "      <th>Worsen</th>\n",
       "    </tr>\n",
       "    <tr>\n",
       "      <th>Age group</th>\n",
       "      <th></th>\n",
       "      <th></th>\n",
       "      <th></th>\n",
       "    </tr>\n",
       "  </thead>\n",
       "  <tbody>\n",
       "    <tr>\n",
       "      <th>&lt;10</th>\n",
       "      <td>1</td>\n",
       "      <td>0</td>\n",
       "      <td>0</td>\n",
       "    </tr>\n",
       "    <tr>\n",
       "      <th>10's</th>\n",
       "      <td>239</td>\n",
       "      <td>50</td>\n",
       "      <td>6</td>\n",
       "    </tr>\n",
       "    <tr>\n",
       "      <th>20's</th>\n",
       "      <td>147</td>\n",
       "      <td>51</td>\n",
       "      <td>4</td>\n",
       "    </tr>\n",
       "    <tr>\n",
       "      <th>30's</th>\n",
       "      <td>38</td>\n",
       "      <td>19</td>\n",
       "      <td>5</td>\n",
       "    </tr>\n",
       "    <tr>\n",
       "      <th>40's</th>\n",
       "      <td>17</td>\n",
       "      <td>5</td>\n",
       "      <td>0</td>\n",
       "    </tr>\n",
       "    <tr>\n",
       "      <th>50's</th>\n",
       "      <td>11</td>\n",
       "      <td>8</td>\n",
       "      <td>0</td>\n",
       "    </tr>\n",
       "    <tr>\n",
       "      <th>60's</th>\n",
       "      <td>9</td>\n",
       "      <td>1</td>\n",
       "      <td>0</td>\n",
       "    </tr>\n",
       "    <tr>\n",
       "      <th>70's</th>\n",
       "      <td>4</td>\n",
       "      <td>0</td>\n",
       "      <td>0</td>\n",
       "    </tr>\n",
       "    <tr>\n",
       "      <th>80's</th>\n",
       "      <td>0</td>\n",
       "      <td>1</td>\n",
       "      <td>0</td>\n",
       "    </tr>\n",
       "  </tbody>\n",
       "</table>\n",
       "</div>"
      ],
      "text/plain": [
       "Music effects  Improve  No effect  Worsen\n",
       "Age group                                \n",
       "<10                  1          0       0\n",
       "10's               239         50       6\n",
       "20's               147         51       4\n",
       "30's                38         19       5\n",
       "40's                17          5       0\n",
       "50's                11          8       0\n",
       "60's                 9          1       0\n",
       "70's                 4          0       0\n",
       "80's                 0          1       0"
      ]
     },
     "execution_count": 40,
     "metadata": {},
     "output_type": "execute_result"
    }
   ],
   "source": [
    "musiceffects_age = pd.crosstab(data_mmh['Age group'], data_mmh['Music effects']) #categorical vs. categorical\n",
    "musiceffects_age"
   ]
  },
  {
   "cell_type": "code",
   "execution_count": null,
   "id": "3c095d56",
   "metadata": {},
   "outputs": [],
   "source": [
    "# Test for checking relationship between categorical and categorical # Chi2\n",
    "\n",
    "# Create a contingency table (cross-tabulation)\n",
    "musiceffects_age = pd.crosstab(data_mmh['Age group'], data_mmh['Music effects'])\n",
    "\n",
    "# Perform the Chi-Square test\n",
    "chi2, p, dof, expected = stats.chi2_contingency(musiceffects_age)\n",
    "\n",
    "print(f\"Chi-Square statistic: {chi2}\")\n",
    "print(f\"P-value: {p}\")"
   ]
  },
  {
   "cell_type": "markdown",
   "id": "330a7ecf",
   "metadata": {},
   "source": [
    "* **p-value** (typically **< 0.05**) suggests that there is a **significant association** between the two categorical variables.\n",
    "\n",
    "* If the p-value is less than your chosen significance level, you can **reject the null hypothesis** and **conclude** that there is a **significant association between the two categorical variables**.\n",
    "\n",
    "We reject H0\n",
    "\n",
    "* Significant association\n",
    "* **Use column for model**"
   ]
  },
  {
   "cell_type": "code",
   "execution_count": 41,
   "id": "26fa4d8c",
   "metadata": {},
   "outputs": [
    {
     "data": {
      "text/plain": [
       "<Axes: xlabel='Music effects', ylabel='Age group'>"
      ]
     },
     "execution_count": 41,
     "metadata": {},
     "output_type": "execute_result"
    },
    {
     "data": {
      "image/png": "[encoded data removed]",
      "text/plain": [
       "<Figure size 640x480 with 2 Axes>"
      ]
     },
     "metadata": {},
     "output_type": "display_data"
    }
   ],
   "source": [
    "sns.heatmap(musiceffects_age, annot=True)"
   ]
  },
  {
   "cell_type": "markdown",
   "id": "02c74f0f",
   "metadata": {},
   "source": [
    "### 6) Can I make helpful recommendations based on these findings?"
   ]
  },
  {
   "cell_type": "code",
   "execution_count": null,
   "id": "6abfe7df",
   "metadata": {},
   "outputs": [],
   "source": []
  },
  {
   "cell_type": "markdown",
   "id": "71b635fa",
   "metadata": {},
   "source": [
    "_______"
   ]
  },
  {
   "cell_type": "code",
   "execution_count": null,
   "id": "741df916",
   "metadata": {},
   "outputs": [],
   "source": []
  }
 ],
 "metadata": {
  "kernelspec": {
   "display_name": "finalprojecttest_env",
   "language": "python",
   "name": "finalprojecttest_env"
  },
  "language_info": {
   "codemirror_mode": {
    "name": "ipython",
    "version": 3
   },
   "file_extension": ".py",
   "mimetype": "text/x-python",
   "name": "python",
   "nbconvert_exporter": "python",
   "pygments_lexer": "ipython3",
   "version": "3.11.3"
  }
 },
 "nbformat": 4,
 "nbformat_minor": 5
}
