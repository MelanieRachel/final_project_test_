{
 "cells": [
  {
   "cell_type": "markdown",
   "id": "34496cf0",
   "metadata": {},
   "source": [
    "# Music & Mental Health | Trying to predict music effects\n",
    "_______________________________________"
   ]
  },
  {
   "cell_type": "markdown",
   "id": "b8b90d2b",
   "metadata": {},
   "source": [
    "## Data Transformation / Data Visualisation / Feature Engineering\n",
    "\n",
    "* What **aggregations** to do?\n",
    "* What **plots** to visualize? --> matplotlib + seaborn + kaggle"
   ]
  },
  {
   "cell_type": "markdown",
   "id": "3f291b78",
   "metadata": {},
   "source": [
    "## Trying to discover trends / predict music effects:\n",
    "\n",
    "1) What is the connection between **music use** and its effect on **disease**(mental health)?\n",
    "2) What is the connection between **music preference** and effect on **disease**(mental health)? \n",
    "_________\n",
    "* Granularity --> fav genre as first, related statistcal, individualy fre compare to disease\n",
    "_________\n",
    "3) What is the connection between **music genre** and effect on **disease**(mental health)?\n",
    "4) Which **disease**(mental health) experiences the **greatest effect** from music? \n",
    "_________\n",
    "* Plot difference between mental health and anxiety\n",
    "_________\n",
    "5) Can I make helpful recommendations based on these findings? \n",
    "6) What **age** (range) experiences the most the **diseases**. What is there music effect? What music genre do they listen to?\n",
    "What is there music use?\n",
    "\n",
    "_________\n",
    "\n",
    "* What is the **mean** anxiety (1.0-10.0) level (numerical) for **every possible music effect** (Improve, No effect, Worsen)(categorical)\n",
    "* What is the **mean** depression (1.0-10.0) level (numerical)\n",
    "* What is the **mean** insomnia (1.0-10.0) level (numerical)\n",
    "* What is the **mean** OCD (1.0-10.0) level (numerical)\n",
    "\n",
    "_________\n",
    "\n",
    "* More than 2 poss valuebale --> statistical test ?\n",
    "\n",
    "_________\n",
    "\n",
    "TO DO: \n",
    "\n",
    "- Calculate the right things (aggregations)\n",
    "- Plot these questions:\n",
    "In order to plot you first need to calculate the right thing.\n",
    "\n",
    "- Plot when visualization is relevant\n",
    "\n",
    "* Aggregation --> function\n",
    "* Plot --> function\n",
    "\n",
    "________"
   ]
  },
  {
   "cell_type": "code",
   "execution_count": 15,
   "id": "37f426c4",
   "metadata": {},
   "outputs": [],
   "source": [
    "# Load libraries:\n",
    "\n",
    "import numpy as np\n",
    "import pandas as pd\n",
    "import matplotlib.pyplot as plt\n",
    "import seaborn as sns\n",
    "from sklearn.impute import KNNImputer\n",
    "from scipy import stats\n"
   ]
  },
  {
   "cell_type": "code",
   "execution_count": 16,
   "id": "2cf8f4f1",
   "metadata": {},
   "outputs": [],
   "source": [
    "# Read cleaned dataset\n",
    "# data_mmh = pd.read_csv('../../data/cleaned/data_mmh_cleaned1.csv')\n",
    "# Remove the Unnamed Column: \n",
    "data_mmh = pd.read_csv('../../data/cleaned/data_mmh_cleaned2.csv', index_col=0)\n"
   ]
  },
  {
   "cell_type": "code",
   "execution_count": 66,
   "id": "d6e2744e",
   "metadata": {},
   "outputs": [
    {
     "data": {
      "text/html": [
       "<div>\n",
       "<style scoped>\n",
       "    .dataframe tbody tr th:only-of-type {\n",
       "        vertical-align: middle;\n",
       "    }\n",
       "\n",
       "    .dataframe tbody tr th {\n",
       "        vertical-align: top;\n",
       "    }\n",
       "\n",
       "    .dataframe thead th {\n",
       "        text-align: right;\n",
       "    }\n",
       "</style>\n",
       "<table border=\"1\" class=\"dataframe\">\n",
       "  <thead>\n",
       "    <tr style=\"text-align: right;\">\n",
       "      <th></th>\n",
       "      <th>Age</th>\n",
       "      <th>Hours per day</th>\n",
       "      <th>While working</th>\n",
       "      <th>Instrumentalist</th>\n",
       "      <th>Composer</th>\n",
       "      <th>Favorite genre</th>\n",
       "      <th>Exploratory</th>\n",
       "      <th>Foreign languages</th>\n",
       "      <th>BPM</th>\n",
       "      <th>Frequency [Classical]</th>\n",
       "      <th>...</th>\n",
       "      <th>Frequency [R&amp;B]</th>\n",
       "      <th>Frequency [Rap]</th>\n",
       "      <th>Frequency [Rock]</th>\n",
       "      <th>Frequency [Video game music]</th>\n",
       "      <th>Anxiety</th>\n",
       "      <th>Depression</th>\n",
       "      <th>Insomnia</th>\n",
       "      <th>OCD</th>\n",
       "      <th>Music effects</th>\n",
       "      <th>Permissions</th>\n",
       "    </tr>\n",
       "  </thead>\n",
       "  <tbody>\n",
       "    <tr>\n",
       "      <th>0</th>\n",
       "      <td>18.0</td>\n",
       "      <td>4.0</td>\n",
       "      <td>No</td>\n",
       "      <td>No</td>\n",
       "      <td>No</td>\n",
       "      <td>Video game music</td>\n",
       "      <td>No</td>\n",
       "      <td>Yes</td>\n",
       "      <td>132.0</td>\n",
       "      <td>Never</td>\n",
       "      <td>...</td>\n",
       "      <td>Never</td>\n",
       "      <td>Rarely</td>\n",
       "      <td>Rarely</td>\n",
       "      <td>Very frequently</td>\n",
       "      <td>7.0</td>\n",
       "      <td>7.0</td>\n",
       "      <td>10.0</td>\n",
       "      <td>2.0</td>\n",
       "      <td>No effect</td>\n",
       "      <td>I understand.</td>\n",
       "    </tr>\n",
       "    <tr>\n",
       "      <th>1</th>\n",
       "      <td>61.0</td>\n",
       "      <td>2.5</td>\n",
       "      <td>Yes</td>\n",
       "      <td>No</td>\n",
       "      <td>Yes</td>\n",
       "      <td>Jazz</td>\n",
       "      <td>Yes</td>\n",
       "      <td>Yes</td>\n",
       "      <td>84.0</td>\n",
       "      <td>Sometimes</td>\n",
       "      <td>...</td>\n",
       "      <td>Sometimes</td>\n",
       "      <td>Never</td>\n",
       "      <td>Never</td>\n",
       "      <td>Never</td>\n",
       "      <td>9.0</td>\n",
       "      <td>7.0</td>\n",
       "      <td>3.0</td>\n",
       "      <td>3.0</td>\n",
       "      <td>Improve</td>\n",
       "      <td>I understand.</td>\n",
       "    </tr>\n",
       "    <tr>\n",
       "      <th>2</th>\n",
       "      <td>18.0</td>\n",
       "      <td>4.0</td>\n",
       "      <td>Yes</td>\n",
       "      <td>No</td>\n",
       "      <td>No</td>\n",
       "      <td>R&amp;B</td>\n",
       "      <td>Yes</td>\n",
       "      <td>No</td>\n",
       "      <td>107.0</td>\n",
       "      <td>Never</td>\n",
       "      <td>...</td>\n",
       "      <td>Very frequently</td>\n",
       "      <td>Very frequently</td>\n",
       "      <td>Never</td>\n",
       "      <td>Rarely</td>\n",
       "      <td>7.0</td>\n",
       "      <td>2.0</td>\n",
       "      <td>5.0</td>\n",
       "      <td>9.0</td>\n",
       "      <td>Improve</td>\n",
       "      <td>I understand.</td>\n",
       "    </tr>\n",
       "    <tr>\n",
       "      <th>3</th>\n",
       "      <td>18.0</td>\n",
       "      <td>5.0</td>\n",
       "      <td>Yes</td>\n",
       "      <td>Yes</td>\n",
       "      <td>Yes</td>\n",
       "      <td>Jazz</td>\n",
       "      <td>Yes</td>\n",
       "      <td>Yes</td>\n",
       "      <td>86.0</td>\n",
       "      <td>Rarely</td>\n",
       "      <td>...</td>\n",
       "      <td>Very frequently</td>\n",
       "      <td>Very frequently</td>\n",
       "      <td>Very frequently</td>\n",
       "      <td>Never</td>\n",
       "      <td>8.0</td>\n",
       "      <td>8.0</td>\n",
       "      <td>7.0</td>\n",
       "      <td>7.0</td>\n",
       "      <td>Improve</td>\n",
       "      <td>I understand.</td>\n",
       "    </tr>\n",
       "    <tr>\n",
       "      <th>4</th>\n",
       "      <td>18.0</td>\n",
       "      <td>3.0</td>\n",
       "      <td>Yes</td>\n",
       "      <td>Yes</td>\n",
       "      <td>No</td>\n",
       "      <td>Video game music</td>\n",
       "      <td>Yes</td>\n",
       "      <td>Yes</td>\n",
       "      <td>66.0</td>\n",
       "      <td>Sometimes</td>\n",
       "      <td>...</td>\n",
       "      <td>Rarely</td>\n",
       "      <td>Never</td>\n",
       "      <td>Never</td>\n",
       "      <td>Sometimes</td>\n",
       "      <td>4.0</td>\n",
       "      <td>8.0</td>\n",
       "      <td>6.0</td>\n",
       "      <td>0.0</td>\n",
       "      <td>Improve</td>\n",
       "      <td>I understand.</td>\n",
       "    </tr>\n",
       "  </tbody>\n",
       "</table>\n",
       "<p>5 rows × 31 columns</p>\n",
       "</div>"
      ],
      "text/plain": [
       "    Age  Hours per day While working Instrumentalist Composer  \\\n",
       "0  18.0            4.0            No              No       No   \n",
       "1  61.0            2.5           Yes              No      Yes   \n",
       "2  18.0            4.0           Yes              No       No   \n",
       "3  18.0            5.0           Yes             Yes      Yes   \n",
       "4  18.0            3.0           Yes             Yes       No   \n",
       "\n",
       "     Favorite genre Exploratory Foreign languages    BPM  \\\n",
       "0  Video game music          No               Yes  132.0   \n",
       "1              Jazz         Yes               Yes   84.0   \n",
       "2               R&B         Yes                No  107.0   \n",
       "3              Jazz         Yes               Yes   86.0   \n",
       "4  Video game music         Yes               Yes   66.0   \n",
       "\n",
       "  Frequency [Classical]  ...  Frequency [R&B]  Frequency [Rap]  \\\n",
       "0                 Never  ...            Never           Rarely   \n",
       "1             Sometimes  ...        Sometimes            Never   \n",
       "2                 Never  ...  Very frequently  Very frequently   \n",
       "3                Rarely  ...  Very frequently  Very frequently   \n",
       "4             Sometimes  ...           Rarely            Never   \n",
       "\n",
       "  Frequency [Rock] Frequency [Video game music] Anxiety Depression Insomnia  \\\n",
       "0           Rarely              Very frequently     7.0        7.0     10.0   \n",
       "1            Never                        Never     9.0        7.0      3.0   \n",
       "2            Never                       Rarely     7.0        2.0      5.0   \n",
       "3  Very frequently                        Never     8.0        8.0      7.0   \n",
       "4            Never                    Sometimes     4.0        8.0      6.0   \n",
       "\n",
       "   OCD Music effects    Permissions  \n",
       "0  2.0     No effect  I understand.  \n",
       "1  3.0       Improve  I understand.  \n",
       "2  9.0       Improve  I understand.  \n",
       "3  7.0       Improve  I understand.  \n",
       "4  0.0       Improve  I understand.  \n",
       "\n",
       "[5 rows x 31 columns]"
      ]
     },
     "execution_count": 66,
     "metadata": {},
     "output_type": "execute_result"
    }
   ],
   "source": [
    "data_mmh.head()\n"
   ]
  },
  {
   "cell_type": "code",
   "execution_count": 17,
   "id": "e2cfbd56",
   "metadata": {},
   "outputs": [
    {
     "data": {
      "text/plain": [
       "(616, 31)"
      ]
     },
     "execution_count": 17,
     "metadata": {},
     "output_type": "execute_result"
    }
   ],
   "source": [
    "data_mmh.shape"
   ]
  },
  {
   "cell_type": "markdown",
   "id": "0e48c647",
   "metadata": {},
   "source": [
    "## Statistical Test: ANOVA (numerical vs. categorical)"
   ]
  },
  {
   "cell_type": "markdown",
   "id": "ceaabeaa",
   "metadata": {},
   "source": [
    "### 1) Connection **disease** and **music use** | ANOVA (numerical vs. categorical):\n"
   ]
  },
  {
   "cell_type": "code",
   "execution_count": 18,
   "id": "f560d72e",
   "metadata": {},
   "outputs": [
    {
     "data": {
      "text/html": [
       "<div>\n",
       "<style scoped>\n",
       "    .dataframe tbody tr th:only-of-type {\n",
       "        vertical-align: middle;\n",
       "    }\n",
       "\n",
       "    .dataframe tbody tr th {\n",
       "        vertical-align: top;\n",
       "    }\n",
       "\n",
       "    .dataframe thead th {\n",
       "        text-align: right;\n",
       "    }\n",
       "</style>\n",
       "<table border=\"1\" class=\"dataframe\">\n",
       "  <thead>\n",
       "    <tr style=\"text-align: right;\">\n",
       "      <th></th>\n",
       "      <th>Hours per day</th>\n",
       "    </tr>\n",
       "    <tr>\n",
       "      <th>Music effects</th>\n",
       "      <th></th>\n",
       "    </tr>\n",
       "  </thead>\n",
       "  <tbody>\n",
       "    <tr>\n",
       "      <th>Improve</th>\n",
       "      <td>3.763841</td>\n",
       "    </tr>\n",
       "    <tr>\n",
       "      <th>No effect</th>\n",
       "      <td>3.561111</td>\n",
       "    </tr>\n",
       "    <tr>\n",
       "      <th>Worsen</th>\n",
       "      <td>2.933333</td>\n",
       "    </tr>\n",
       "  </tbody>\n",
       "</table>\n",
       "</div>"
      ],
      "text/plain": [
       "               Hours per day\n",
       "Music effects               \n",
       "Improve             3.763841\n",
       "No effect           3.561111\n",
       "Worsen              2.933333"
      ]
     },
     "execution_count": 18,
     "metadata": {},
     "output_type": "execute_result"
    }
   ],
   "source": [
    "# Test for checking relationship between categorical and numerical #ANOVA\n",
    "\n",
    "# Music effects (c) and 'Hours per day' (n)\n",
    "data_mmh.groupby('Music effects').agg({\"Hours per day\": 'mean'})\n",
    "#data_mmh.groupby('Music effects').agg({\"Hours per day\": 'mean'}).plot.barh()"
   ]
  },
  {
   "cell_type": "code",
   "execution_count": 117,
   "id": "81ccb4e0",
   "metadata": {},
   "outputs": [
    {
     "name": "stdout",
     "output_type": "stream",
     "text": [
      "P-Value for Anova is: 0.49\n"
     ]
    }
   ],
   "source": [
    "#* Null Hypothesis (H0): The means of all groups are equal.\n",
    "#* Alternative Hypothesis (H1): At least one group's mean is different from the others.\n",
    "# H0: --> No difference, no relation -> don't use it in your model\n",
    "# H1: --> Difference, relation -> use it in your model\n",
    "\n",
    "#f_oneway() function takes the group data as input\n",
    "# returns F-statistic and P-value\n",
    "from scipy.stats import f_oneway\n",
    "\n",
    "# Running the one-way anova test between 'Music effects' and 'Hours per day'\n",
    "# Assumption (H0) is that Hours per day and Music effects are NOT correlated\n",
    "\n",
    "# Finds out 'Hours per day' for each 'Music effect' as a list\n",
    "CategoryGroupList = data_mmh.groupby('Music effects') ['Hours per day'].apply(list)\n",
    "\n",
    "# Performing the ANOVA test\n",
    "AnovaResults = f_oneway(*CategoryGroupList)\n",
    "print('P-Value for Anova is:', round(AnovaResults[1],2))\n",
    "\n",
    "#We accept the H0 only when P-Value > 0.05. No difference, no relation -> don't use it in your model"
   ]
  },
  {
   "cell_type": "markdown",
   "id": "1be1b0b9",
   "metadata": {},
   "source": [
    "* If the p-value is less than your chosen significance level (e.g., 0.05), you can reject the null hypothesis and conclude that there are significant differences between the groups.\n",
    "\n",
    "* If the p-value is greater than the significance level, you fail to reject the null hypothesis, suggesting no significant differences among the groups."
   ]
  },
  {
   "cell_type": "markdown",
   "id": "15e10c39",
   "metadata": {},
   "source": [
    "We accept H0\n",
    "\n",
    "* (H0): The means of all groups are equal.\n",
    "* (H0): No difference, no relation -> **don't use it in your model**\n",
    "______\n"
   ]
  },
  {
   "cell_type": "code",
   "execution_count": 69,
   "id": "d974ad0d",
   "metadata": {},
   "outputs": [
    {
     "data": {
      "image/png": "[encoded data removed]",
      "text/plain": [
       "<Figure size 640x480 with 1 Axes>"
      ]
     },
     "metadata": {},
     "output_type": "display_data"
    }
   ],
   "source": [
    "# Histplot 2:\n",
    "#Function for a for loop for making a histoplot with categorical and numerical columns:\n",
    "\n",
    "# Get average 'Disease' (numerical) for every possible 'Music use' (numerical/categorical):\n",
    "\n",
    "def plot_categorical_histograms(data_mmh, categorical_column, numerical_column):\n",
    "    categories = data_mmh[categorical_column].unique()\n",
    "    \n",
    "    sns.histplot(data=data_mmh, x=numerical_column, hue=categorical_column, kde=True)\n",
    "    plt.title(f'Histogram for {numerical_column} in {categorical_column}')\n",
    "    plt.show()\n",
    "\n",
    "# Example data\n",
    "data = data_mmh\n",
    "\n",
    "# Call the function to plot histograms\n",
    "plot_categorical_histograms(data_mmh, 'Music effects', 'Hours per day')"
   ]
  },
  {
   "cell_type": "markdown",
   "id": "ed6f922c",
   "metadata": {},
   "source": [
    "This is a nice histogram visualizing the aggregation I made. \n",
    "\n",
    "But we We accept H0 for this and will not be using this column in my model.\n",
    "\n",
    "(H0): The means of all groups are equal.\n",
    "(H0): No difference, no relation -> **don't use it in your model**\n",
    "________"
   ]
  },
  {
   "cell_type": "markdown",
   "id": "bc31459b",
   "metadata": {},
   "source": [
    "### 5) Connections **disease** and **age** | ANOVA (numerical vs. categorical):"
   ]
  },
  {
   "cell_type": "code",
   "execution_count": 142,
   "id": "0637f1fd",
   "metadata": {},
   "outputs": [
    {
     "data": {
      "text/html": [
       "<div>\n",
       "<style scoped>\n",
       "    .dataframe tbody tr th:only-of-type {\n",
       "        vertical-align: middle;\n",
       "    }\n",
       "\n",
       "    .dataframe tbody tr th {\n",
       "        vertical-align: top;\n",
       "    }\n",
       "\n",
       "    .dataframe thead th {\n",
       "        text-align: right;\n",
       "    }\n",
       "</style>\n",
       "<table border=\"1\" class=\"dataframe\">\n",
       "  <thead>\n",
       "    <tr style=\"text-align: right;\">\n",
       "      <th></th>\n",
       "      <th>Anxiety</th>\n",
       "    </tr>\n",
       "    <tr>\n",
       "      <th>Age group</th>\n",
       "      <th></th>\n",
       "    </tr>\n",
       "  </thead>\n",
       "  <tbody>\n",
       "    <tr>\n",
       "      <th>&lt;10</th>\n",
       "      <td>8.000000</td>\n",
       "    </tr>\n",
       "    <tr>\n",
       "      <th>10's</th>\n",
       "      <td>5.994915</td>\n",
       "    </tr>\n",
       "    <tr>\n",
       "      <th>20's</th>\n",
       "      <td>6.242574</td>\n",
       "    </tr>\n",
       "    <tr>\n",
       "      <th>30's</th>\n",
       "      <td>5.693548</td>\n",
       "    </tr>\n",
       "    <tr>\n",
       "      <th>40's</th>\n",
       "      <td>5.545455</td>\n",
       "    </tr>\n",
       "    <tr>\n",
       "      <th>50's</th>\n",
       "      <td>2.631579</td>\n",
       "    </tr>\n",
       "    <tr>\n",
       "      <th>60's</th>\n",
       "      <td>5.100000</td>\n",
       "    </tr>\n",
       "    <tr>\n",
       "      <th>70's</th>\n",
       "      <td>4.000000</td>\n",
       "    </tr>\n",
       "    <tr>\n",
       "      <th>80's</th>\n",
       "      <td>0.000000</td>\n",
       "    </tr>\n",
       "  </tbody>\n",
       "</table>\n",
       "</div>"
      ],
      "text/plain": [
       "            Anxiety\n",
       "Age group          \n",
       "<10        8.000000\n",
       "10's       5.994915\n",
       "20's       6.242574\n",
       "30's       5.693548\n",
       "40's       5.545455\n",
       "50's       2.631579\n",
       "60's       5.100000\n",
       "70's       4.000000\n",
       "80's       0.000000"
      ]
     },
     "execution_count": 142,
     "metadata": {},
     "output_type": "execute_result"
    }
   ],
   "source": [
    "data_mmh.groupby(['Age group']).agg({'Anxiety': 'mean'}) #categorical vs numerical"
   ]
  },
  {
   "cell_type": "code",
   "execution_count": 143,
   "id": "31ba766c",
   "metadata": {},
   "outputs": [
    {
     "name": "stdout",
     "output_type": "stream",
     "text": [
      "P-Value for Anova is: 3.7424910795553217e-06\n"
     ]
    }
   ],
   "source": [
    "#* Null Hypothesis (H0): The means of all groups are equal.\n",
    "#* Alternative Hypothesis (H1): At least one group's mean is different from the others.\n",
    "\n",
    "#f_oneway() function takes the group data as input\n",
    "# returns F-statistic and P-value\n",
    "from scipy.stats import f_oneway\n",
    "\n",
    "# Running the one-way anova test between 'Music effects' and 'Hours per day'\n",
    "# Assumption (H0) is that Hours per day and Music effects are NOT correlated\n",
    "\n",
    "# Finds out 'Hours per day' for each 'Music effect' as a list\n",
    "AgeGroup_Anxiety = data_mmh.groupby('Age group') ['Anxiety'].apply(list)\n",
    "\n",
    "# Performing the ANOVA test\n",
    "AnovaResults = f_oneway(*AgeGroup_Anxiety)\n",
    "print('P-Value for Anova is:', AnovaResults[1])\n",
    "\n",
    "#We accept the H0 only when P-Value > 0.05"
   ]
  },
  {
   "cell_type": "markdown",
   "id": "c0904a4d",
   "metadata": {},
   "source": [
    "* If the p-value is less < than your chosen significance level (e.g., \"**0.05**), you can reject the null hypothesis and conclude that there are significant differences between the groups.\n",
    "\n",
    "* If the p-value is greater > than the significance level, you fail to reject the null hypothesis, suggesting no significant differences among the groups.\n",
    "\n",
    "We accept H0\n",
    "\n",
    "* (H0): The means of all groups are equal.\n",
    "* (H0): No difference, no relation -> **don't use it in your model**"
   ]
  },
  {
   "cell_type": "code",
   "execution_count": 144,
   "id": "8a62285c",
   "metadata": {},
   "outputs": [
    {
     "data": {
      "text/html": [
       "<div>\n",
       "<style scoped>\n",
       "    .dataframe tbody tr th:only-of-type {\n",
       "        vertical-align: middle;\n",
       "    }\n",
       "\n",
       "    .dataframe tbody tr th {\n",
       "        vertical-align: top;\n",
       "    }\n",
       "\n",
       "    .dataframe thead th {\n",
       "        text-align: right;\n",
       "    }\n",
       "</style>\n",
       "<table border=\"1\" class=\"dataframe\">\n",
       "  <thead>\n",
       "    <tr style=\"text-align: right;\">\n",
       "      <th></th>\n",
       "      <th>Age</th>\n",
       "      <th>Age group</th>\n",
       "    </tr>\n",
       "  </thead>\n",
       "  <tbody>\n",
       "    <tr>\n",
       "      <th>0</th>\n",
       "      <td>18.0</td>\n",
       "      <td>10's</td>\n",
       "    </tr>\n",
       "    <tr>\n",
       "      <th>1</th>\n",
       "      <td>61.0</td>\n",
       "      <td>60's</td>\n",
       "    </tr>\n",
       "    <tr>\n",
       "      <th>2</th>\n",
       "      <td>18.0</td>\n",
       "      <td>10's</td>\n",
       "    </tr>\n",
       "    <tr>\n",
       "      <th>3</th>\n",
       "      <td>18.0</td>\n",
       "      <td>10's</td>\n",
       "    </tr>\n",
       "    <tr>\n",
       "      <th>4</th>\n",
       "      <td>18.0</td>\n",
       "      <td>10's</td>\n",
       "    </tr>\n",
       "    <tr>\n",
       "      <th>...</th>\n",
       "      <td>...</td>\n",
       "      <td>...</td>\n",
       "    </tr>\n",
       "    <tr>\n",
       "      <th>611</th>\n",
       "      <td>17.0</td>\n",
       "      <td>10's</td>\n",
       "    </tr>\n",
       "    <tr>\n",
       "      <th>612</th>\n",
       "      <td>18.0</td>\n",
       "      <td>10's</td>\n",
       "    </tr>\n",
       "    <tr>\n",
       "      <th>613</th>\n",
       "      <td>19.0</td>\n",
       "      <td>10's</td>\n",
       "    </tr>\n",
       "    <tr>\n",
       "      <th>614</th>\n",
       "      <td>19.0</td>\n",
       "      <td>10's</td>\n",
       "    </tr>\n",
       "    <tr>\n",
       "      <th>615</th>\n",
       "      <td>29.0</td>\n",
       "      <td>20's</td>\n",
       "    </tr>\n",
       "  </tbody>\n",
       "</table>\n",
       "<p>616 rows × 2 columns</p>\n",
       "</div>"
      ],
      "text/plain": [
       "      Age Age group\n",
       "0    18.0      10's\n",
       "1    61.0      60's\n",
       "2    18.0      10's\n",
       "3    18.0      10's\n",
       "4    18.0      10's\n",
       "..    ...       ...\n",
       "611  17.0      10's\n",
       "612  18.0      10's\n",
       "613  19.0      10's\n",
       "614  19.0      10's\n",
       "615  29.0      20's\n",
       "\n",
       "[616 rows x 2 columns]"
      ]
     },
     "execution_count": 144,
     "metadata": {},
     "output_type": "execute_result"
    }
   ],
   "source": [
    "#df['age_group'] = pd.cut(df['age'], 3)\n",
    "labels = [\"<10\", \"10's\", \"20's\", \"30's\", \"40's\", \"50's\", \"60's\", \"70's\", \"80's\"]\n",
    "data_mmh['Age group'] = pd.cut(data_mmh['Age'], bins=[0, 10, 20, 30, 40, 50, 60, 70, 80, 90], labels = labels)\n",
    "#data_mmh['Age group'] = pd.cut(data_mmh['Age'], 9)\n",
    "#data_mmh\n",
    "data_mmh[['Age','Age group']]\n"
   ]
  },
  {
   "cell_type": "code",
   "execution_count": 145,
   "id": "2b1eb2eb",
   "metadata": {},
   "outputs": [
    {
     "data": {
      "text/plain": [
       "10's    295\n",
       "20's    202\n",
       "30's     62\n",
       "40's     22\n",
       "50's     19\n",
       "60's     10\n",
       "70's      4\n",
       "<10       1\n",
       "80's      1\n",
       "Name: Age group, dtype: int64"
      ]
     },
     "execution_count": 145,
     "metadata": {},
     "output_type": "execute_result"
    }
   ],
   "source": [
    "data_mmh['Age group'].value_counts()\n"
   ]
  },
  {
   "cell_type": "code",
   "execution_count": 146,
   "id": "0f573095",
   "metadata": {},
   "outputs": [
    {
     "data": {
      "text/plain": [
       "<Axes: xlabel='Age group', ylabel='count'>"
      ]
     },
     "execution_count": 146,
     "metadata": {},
     "output_type": "execute_result"
    },
    {
     "data": {
      "image/png": "[encoded data removed]",
      "text/plain": [
       "<Figure size 640x480 with 1 Axes>"
      ]
     },
     "metadata": {},
     "output_type": "display_data"
    }
   ],
   "source": [
    "sns.countplot(data=data_mmh, x=\"Age group\")"
   ]
  },
  {
   "cell_type": "code",
   "execution_count": 140,
   "id": "064fced5",
   "metadata": {},
   "outputs": [
    {
     "data": {
      "text/html": [
       "<div>\n",
       "<style scoped>\n",
       "    .dataframe tbody tr th:only-of-type {\n",
       "        vertical-align: middle;\n",
       "    }\n",
       "\n",
       "    .dataframe tbody tr th {\n",
       "        vertical-align: top;\n",
       "    }\n",
       "\n",
       "    .dataframe thead th {\n",
       "        text-align: right;\n",
       "    }\n",
       "</style>\n",
       "<table border=\"1\" class=\"dataframe\">\n",
       "  <thead>\n",
       "    <tr style=\"text-align: right;\">\n",
       "      <th></th>\n",
       "      <th>Depression</th>\n",
       "    </tr>\n",
       "    <tr>\n",
       "      <th>Age group</th>\n",
       "      <th></th>\n",
       "    </tr>\n",
       "  </thead>\n",
       "  <tbody>\n",
       "    <tr>\n",
       "      <th>&lt;10</th>\n",
       "      <td>2.000000</td>\n",
       "    </tr>\n",
       "    <tr>\n",
       "      <th>10's</th>\n",
       "      <td>4.549153</td>\n",
       "    </tr>\n",
       "    <tr>\n",
       "      <th>20's</th>\n",
       "      <td>5.638614</td>\n",
       "    </tr>\n",
       "    <tr>\n",
       "      <th>30's</th>\n",
       "      <td>5.258065</td>\n",
       "    </tr>\n",
       "    <tr>\n",
       "      <th>40's</th>\n",
       "      <td>5.000000</td>\n",
       "    </tr>\n",
       "    <tr>\n",
       "      <th>50's</th>\n",
       "      <td>2.157895</td>\n",
       "    </tr>\n",
       "    <tr>\n",
       "      <th>60's</th>\n",
       "      <td>4.500000</td>\n",
       "    </tr>\n",
       "    <tr>\n",
       "      <th>70's</th>\n",
       "      <td>2.500000</td>\n",
       "    </tr>\n",
       "    <tr>\n",
       "      <th>80's</th>\n",
       "      <td>0.000000</td>\n",
       "    </tr>\n",
       "  </tbody>\n",
       "</table>\n",
       "</div>"
      ],
      "text/plain": [
       "           Depression\n",
       "Age group            \n",
       "<10          2.000000\n",
       "10's         4.549153\n",
       "20's         5.638614\n",
       "30's         5.258065\n",
       "40's         5.000000\n",
       "50's         2.157895\n",
       "60's         4.500000\n",
       "70's         2.500000\n",
       "80's         0.000000"
      ]
     },
     "execution_count": 140,
     "metadata": {},
     "output_type": "execute_result"
    }
   ],
   "source": [
    "#Age group and Depression\n",
    "data_mmh.groupby(['Age group']).agg({'Depression': 'mean'}) #categorical vs numerical\n"
   ]
  },
  {
   "cell_type": "code",
   "execution_count": 147,
   "id": "9b4212a1",
   "metadata": {},
   "outputs": [
    {
     "name": "stdout",
     "output_type": "stream",
     "text": [
      "P-Value for Anova is: 2.6517940060639555e-06\n"
     ]
    }
   ],
   "source": [
    "#* Null Hypothesis (H0): The means of all groups are equal.\n",
    "#* Alternative Hypothesis (H1): At least one group's mean is different from the others.\n",
    "\n",
    "#f_oneway() function takes the group data as input\n",
    "# returns F-statistic and P-value\n",
    "from scipy.stats import f_oneway\n",
    "\n",
    "# Running the one-way anova test between 'Music effects' and 'Hours per day'\n",
    "# Assumption (H0) is that Hours per day and Music effects are NOT correlated\n",
    "\n",
    "# Finds out 'Hours per day' for each 'Music effect' as a list\n",
    "AgeGroup_Depression = data_mmh.groupby('Age group') ['Depression'].apply(list)  #categorical vs numerical\n",
    "\n",
    "# Performing the ANOVA test\n",
    "AnovaResults = f_oneway(*AgeGroup_Depression)\n",
    "print('P-Value for Anova is:', AnovaResults[1])\n",
    "\n",
    "#We accept the H0 only when P-Value > 0.05"
   ]
  },
  {
   "cell_type": "markdown",
   "id": "4e45829f",
   "metadata": {},
   "source": [
    "* If the p-value is less < than your chosen significance level (e.g., \"**0.05**), you can reject the null hypothesis and conclude that there are significant differences between the groups.\n",
    "\n",
    "* If the p-value is greater > than the significance level, you fail to reject the null hypothesis, suggesting no significant differences among the groups.\n",
    "\n",
    "We accept H0\n",
    "\n",
    "* (H0): The means of all groups are equal.\n",
    "* (H0): No difference, no relation -> **don't use it in your model**"
   ]
  },
  {
   "cell_type": "code",
   "execution_count": 150,
   "id": "efa4289c",
   "metadata": {},
   "outputs": [
    {
     "data": {
      "text/html": [
       "<div>\n",
       "<style scoped>\n",
       "    .dataframe tbody tr th:only-of-type {\n",
       "        vertical-align: middle;\n",
       "    }\n",
       "\n",
       "    .dataframe tbody tr th {\n",
       "        vertical-align: top;\n",
       "    }\n",
       "\n",
       "    .dataframe thead th {\n",
       "        text-align: right;\n",
       "    }\n",
       "</style>\n",
       "<table border=\"1\" class=\"dataframe\">\n",
       "  <thead>\n",
       "    <tr style=\"text-align: right;\">\n",
       "      <th></th>\n",
       "      <th>Insomnia</th>\n",
       "    </tr>\n",
       "    <tr>\n",
       "      <th>Age group</th>\n",
       "      <th></th>\n",
       "    </tr>\n",
       "  </thead>\n",
       "  <tbody>\n",
       "    <tr>\n",
       "      <th>&lt;10</th>\n",
       "      <td>1.000000</td>\n",
       "    </tr>\n",
       "    <tr>\n",
       "      <th>10's</th>\n",
       "      <td>3.706780</td>\n",
       "    </tr>\n",
       "    <tr>\n",
       "      <th>20's</th>\n",
       "      <td>3.777228</td>\n",
       "    </tr>\n",
       "    <tr>\n",
       "      <th>30's</th>\n",
       "      <td>4.451613</td>\n",
       "    </tr>\n",
       "    <tr>\n",
       "      <th>40's</th>\n",
       "      <td>4.500000</td>\n",
       "    </tr>\n",
       "    <tr>\n",
       "      <th>50's</th>\n",
       "      <td>3.157895</td>\n",
       "    </tr>\n",
       "    <tr>\n",
       "      <th>60's</th>\n",
       "      <td>4.000000</td>\n",
       "    </tr>\n",
       "    <tr>\n",
       "      <th>70's</th>\n",
       "      <td>2.500000</td>\n",
       "    </tr>\n",
       "    <tr>\n",
       "      <th>80's</th>\n",
       "      <td>0.000000</td>\n",
       "    </tr>\n",
       "  </tbody>\n",
       "</table>\n",
       "</div>"
      ],
      "text/plain": [
       "           Insomnia\n",
       "Age group          \n",
       "<10        1.000000\n",
       "10's       3.706780\n",
       "20's       3.777228\n",
       "30's       4.451613\n",
       "40's       4.500000\n",
       "50's       3.157895\n",
       "60's       4.000000\n",
       "70's       2.500000\n",
       "80's       0.000000"
      ]
     },
     "execution_count": 150,
     "metadata": {},
     "output_type": "execute_result"
    }
   ],
   "source": [
    "#Age group and Insomnia\n",
    "data_mmh.groupby(['Age group']).agg({'Insomnia': 'mean'}) #categorical vs numerical\n"
   ]
  },
  {
   "cell_type": "code",
   "execution_count": 148,
   "id": "248a9d37",
   "metadata": {},
   "outputs": [
    {
     "name": "stdout",
     "output_type": "stream",
     "text": [
      "P-Value for Anova is: 0.4403915524490828\n"
     ]
    }
   ],
   "source": [
    "#* Null Hypothesis (H0): The means of all groups are equal.\n",
    "#* Alternative Hypothesis (H1): At least one group's mean is different from the others.\n",
    "\n",
    "#f_oneway() function takes the group data as input\n",
    "# returns F-statistic and P-value\n",
    "from scipy.stats import f_oneway\n",
    "\n",
    "# Running the one-way anova test between 'Music effects' and 'Hours per day'\n",
    "# Assumption (H0) is that Hours per day and Music effects are NOT correlated\n",
    "\n",
    "# Finds out 'Hours per day' for each 'Music effect' as a list\n",
    "AgeGroup_Insomnia = data_mmh.groupby('Age group') ['Insomnia'].apply(list)  #categorical vs numerical\n",
    "\n",
    "# Performing the ANOVA test\n",
    "AnovaResults = f_oneway(*AgeGroup_Insomnia)\n",
    "print('P-Value for Anova is:', AnovaResults[1])\n",
    "\n",
    "#We accept the H0 only when P-Value > 0.05"
   ]
  },
  {
   "cell_type": "markdown",
   "id": "daba8742",
   "metadata": {},
   "source": [
    "* If the p-value is less < than your chosen significance level (e.g., \"**0.05**), you can reject the null hypothesis and conclude that there are significant differences between the groups.\n",
    "\n",
    "* If the p-value is greater > than the significance level, you fail to reject the null hypothesis, suggesting no significant differences among the groups.\n",
    "\n",
    "We accept H0\n",
    "\n",
    "* (H0): The means of all groups are equal.\n",
    "* (H0): No difference, no relation -> **don't use it in your model**"
   ]
  },
  {
   "cell_type": "code",
   "execution_count": 149,
   "id": "b8954326",
   "metadata": {},
   "outputs": [
    {
     "data": {
      "text/html": [
       "<div>\n",
       "<style scoped>\n",
       "    .dataframe tbody tr th:only-of-type {\n",
       "        vertical-align: middle;\n",
       "    }\n",
       "\n",
       "    .dataframe tbody tr th {\n",
       "        vertical-align: top;\n",
       "    }\n",
       "\n",
       "    .dataframe thead th {\n",
       "        text-align: right;\n",
       "    }\n",
       "</style>\n",
       "<table border=\"1\" class=\"dataframe\">\n",
       "  <thead>\n",
       "    <tr style=\"text-align: right;\">\n",
       "      <th></th>\n",
       "      <th>OCD</th>\n",
       "    </tr>\n",
       "    <tr>\n",
       "      <th>Age group</th>\n",
       "      <th></th>\n",
       "    </tr>\n",
       "  </thead>\n",
       "  <tbody>\n",
       "    <tr>\n",
       "      <th>&lt;10</th>\n",
       "      <td>1.000000</td>\n",
       "    </tr>\n",
       "    <tr>\n",
       "      <th>10's</th>\n",
       "      <td>2.786441</td>\n",
       "    </tr>\n",
       "    <tr>\n",
       "      <th>20's</th>\n",
       "      <td>2.851485</td>\n",
       "    </tr>\n",
       "    <tr>\n",
       "      <th>30's</th>\n",
       "      <td>2.548387</td>\n",
       "    </tr>\n",
       "    <tr>\n",
       "      <th>40's</th>\n",
       "      <td>2.000000</td>\n",
       "    </tr>\n",
       "    <tr>\n",
       "      <th>50's</th>\n",
       "      <td>1.052632</td>\n",
       "    </tr>\n",
       "    <tr>\n",
       "      <th>60's</th>\n",
       "      <td>1.500000</td>\n",
       "    </tr>\n",
       "    <tr>\n",
       "      <th>70's</th>\n",
       "      <td>1.250000</td>\n",
       "    </tr>\n",
       "    <tr>\n",
       "      <th>80's</th>\n",
       "      <td>0.000000</td>\n",
       "    </tr>\n",
       "  </tbody>\n",
       "</table>\n",
       "</div>"
      ],
      "text/plain": [
       "                OCD\n",
       "Age group          \n",
       "<10        1.000000\n",
       "10's       2.786441\n",
       "20's       2.851485\n",
       "30's       2.548387\n",
       "40's       2.000000\n",
       "50's       1.052632\n",
       "60's       1.500000\n",
       "70's       1.250000\n",
       "80's       0.000000"
      ]
     },
     "execution_count": 149,
     "metadata": {},
     "output_type": "execute_result"
    }
   ],
   "source": [
    "#Age group and OCD\n",
    "data_mmh.groupby(['Age group']).agg({'OCD': 'mean'}) #categorical vs numerical"
   ]
  },
  {
   "cell_type": "code",
   "execution_count": 151,
   "id": "eab21362",
   "metadata": {},
   "outputs": [
    {
     "name": "stdout",
     "output_type": "stream",
     "text": [
      "P-Value for Anova is: 0.12731836227849794\n"
     ]
    }
   ],
   "source": [
    "#* Null Hypothesis (H0): The means of all groups are equal.\n",
    "#* Alternative Hypothesis (H1): At least one group's mean is different from the others.\n",
    "\n",
    "#f_oneway() function takes the group data as input\n",
    "# returns F-statistic and P-value\n",
    "from scipy.stats import f_oneway\n",
    "\n",
    "# Running the one-way anova test between 'Music effects' and 'Hours per day'\n",
    "# Assumption (H0) is that Hours per day and Music effects are NOT correlated\n",
    "\n",
    "# Finds out 'Hours per day' for each 'Music effect' as a list\n",
    "AgeGroup_OCD = data_mmh.groupby('Age group') ['OCD'].apply(list)  #categorical vs numerical\n",
    "\n",
    "# Performing the ANOVA test\n",
    "AnovaResults = f_oneway(*AgeGroup_OCD)\n",
    "print('P-Value for Anova is:', AnovaResults[1])\n",
    "\n",
    "#We accept the H0 only when P-Value > 0.05"
   ]
  },
  {
   "cell_type": "markdown",
   "id": "7aed05a2",
   "metadata": {},
   "source": [
    "* If the p-value is less < than your chosen significance level (e.g., \"**0.05**), you can reject the null hypothesis and conclude that there are significant differences between the groups.\n",
    "\n",
    "* If the p-value is greater > than the significance level, you fail to reject the null hypothesis, suggesting no significant differences among the groups.\n",
    "\n",
    "We accept H0\n",
    "\n",
    "* (H0): The means of all groups are equal.\n",
    "* (H0): No difference, no relation -> **don't use it in your model**"
   ]
  },
  {
   "cell_type": "markdown",
   "id": "85c8a799",
   "metadata": {},
   "source": [
    "### 2) Connection **disease** and **music preference** | ANOVA (numerical vs. categorical):"
   ]
  },
  {
   "cell_type": "code",
   "execution_count": 60,
   "id": "1fb8922c",
   "metadata": {},
   "outputs": [
    {
     "data": {
      "text/html": [
       "<div>\n",
       "<style scoped>\n",
       "    .dataframe tbody tr th:only-of-type {\n",
       "        vertical-align: middle;\n",
       "    }\n",
       "\n",
       "    .dataframe tbody tr th {\n",
       "        vertical-align: top;\n",
       "    }\n",
       "\n",
       "    .dataframe thead th {\n",
       "        text-align: right;\n",
       "    }\n",
       "</style>\n",
       "<table border=\"1\" class=\"dataframe\">\n",
       "  <thead>\n",
       "    <tr style=\"text-align: right;\">\n",
       "      <th></th>\n",
       "      <th>BPM</th>\n",
       "    </tr>\n",
       "    <tr>\n",
       "      <th>Music effects</th>\n",
       "      <th></th>\n",
       "    </tr>\n",
       "  </thead>\n",
       "  <tbody>\n",
       "    <tr>\n",
       "      <th>Improve</th>\n",
       "      <td>123.613734</td>\n",
       "    </tr>\n",
       "    <tr>\n",
       "      <th>No effect</th>\n",
       "      <td>123.740741</td>\n",
       "    </tr>\n",
       "    <tr>\n",
       "      <th>Worsen</th>\n",
       "      <td>118.533333</td>\n",
       "    </tr>\n",
       "  </tbody>\n",
       "</table>\n",
       "</div>"
      ],
      "text/plain": [
       "                      BPM\n",
       "Music effects            \n",
       "Improve        123.613734\n",
       "No effect      123.740741\n",
       "Worsen         118.533333"
      ]
     },
     "execution_count": 60,
     "metadata": {},
     "output_type": "execute_result"
    }
   ],
   "source": [
    "# Test for checking relationship between categorical and numerical #ANOVA\n",
    "\n",
    "data_mmh.groupby('Music effects').agg({\"BPM\": 'mean'})"
   ]
  },
  {
   "cell_type": "code",
   "execution_count": 109,
   "id": "3c987336",
   "metadata": {},
   "outputs": [
    {
     "name": "stdout",
     "output_type": "stream",
     "text": [
      "P-Value for Anova is: 0.8851846725116546\n"
     ]
    }
   ],
   "source": [
    "#* Null Hypothesis (H0): The means of all groups are equal.\n",
    "#* Alternative Hypothesis (H1): At least one group's mean is different from the others.\n",
    "\n",
    "#f_oneway() function takes the group data as input\n",
    "# returns F-statistic and P-value\n",
    "from scipy.stats import f_oneway\n",
    "\n",
    "# Running the one-way anova test between 'Music effects' and 'Hours per day'\n",
    "# Assumption (H0) is that Hours per day and Music effects are NOT correlated\n",
    "\n",
    "# Finds out 'Hours per day' for each 'Music effect' as a list\n",
    "MusicEffects_BPM = data_mmh.groupby('Music effects') ['BPM'].apply(list)\n",
    "\n",
    "# Performing the ANOVA test\n",
    "AnovaResults = f_oneway(*MusicEffects_BPM)\n",
    "print('P-Value for Anova is:', AnovaResults[1])\n",
    "\n",
    "#We accept the H0 only when P-Value > 0.05"
   ]
  },
  {
   "cell_type": "markdown",
   "id": "2d0a6790",
   "metadata": {},
   "source": [
    "* If the p-value is less < than your chosen significance level (e.g., \"**0.05**), you can reject the null hypothesis and conclude that there are significant differences between the groups.\n",
    "\n",
    "* If the p-value is greater > than the significance level, you fail to reject the null hypothesis, suggesting no significant differences among the groups.\n",
    "\n",
    "We accept H0\n",
    "\n",
    "* (H0): The means of all groups are equal.\n",
    "* (H0): No difference, no relation -> **don't use it in your model**"
   ]
  },
  {
   "cell_type": "markdown",
   "id": "9b10ff16",
   "metadata": {},
   "source": [
    "### 4) Connection **disease** and **greatest music effects** | ANOVA (numerical vs. categorical):\n"
   ]
  },
  {
   "cell_type": "code",
   "execution_count": 61,
   "id": "db74df9e",
   "metadata": {},
   "outputs": [
    {
     "data": {
      "text/html": [
       "<div>\n",
       "<style scoped>\n",
       "    .dataframe tbody tr th:only-of-type {\n",
       "        vertical-align: middle;\n",
       "    }\n",
       "\n",
       "    .dataframe tbody tr th {\n",
       "        vertical-align: top;\n",
       "    }\n",
       "\n",
       "    .dataframe thead th {\n",
       "        text-align: right;\n",
       "    }\n",
       "</style>\n",
       "<table border=\"1\" class=\"dataframe\">\n",
       "  <thead>\n",
       "    <tr style=\"text-align: right;\">\n",
       "      <th></th>\n",
       "      <th>Anxiety</th>\n",
       "    </tr>\n",
       "    <tr>\n",
       "      <th>Music effects</th>\n",
       "      <th></th>\n",
       "    </tr>\n",
       "  </thead>\n",
       "  <tbody>\n",
       "    <tr>\n",
       "      <th>Improve</th>\n",
       "      <td>6.134120</td>\n",
       "    </tr>\n",
       "    <tr>\n",
       "      <th>No effect</th>\n",
       "      <td>4.970370</td>\n",
       "    </tr>\n",
       "    <tr>\n",
       "      <th>Worsen</th>\n",
       "      <td>6.666667</td>\n",
       "    </tr>\n",
       "  </tbody>\n",
       "</table>\n",
       "</div>"
      ],
      "text/plain": [
       "                Anxiety\n",
       "Music effects          \n",
       "Improve        6.134120\n",
       "No effect      4.970370\n",
       "Worsen         6.666667"
      ]
     },
     "execution_count": 61,
     "metadata": {},
     "output_type": "execute_result"
    }
   ],
   "source": [
    "# 4) Which **disease** (numerical) experiences the **greatest effect** (categorical) from music? \n",
    "# Plot the difference between mental health and anxiety\n",
    "\n",
    "# Get average 'Disease'(numerical) for 'Music effects' (categorical):\n",
    "\n",
    "# Get average 'Anxiety'(numerical) for 'Music effects'(categorical):\n",
    "data_mmh.groupby(['Music effects']).agg({'Anxiety': 'mean'})\n"
   ]
  },
  {
   "cell_type": "code",
   "execution_count": 110,
   "id": "22a9059f",
   "metadata": {},
   "outputs": [
    {
     "name": "stdout",
     "output_type": "stream",
     "text": [
      "P-Value for Anova is: 4.36005587420604e-05\n"
     ]
    }
   ],
   "source": [
    "#* Null Hypothesis (H0): The means of all groups are equal.\n",
    "#* Alternative Hypothesis (H1): At least one group's mean is different from the others.\n",
    "\n",
    "#f_oneway() function takes the group data as input\n",
    "# returns F-statistic and P-value\n",
    "from scipy.stats import f_oneway\n",
    "\n",
    "# Running the one-way anova test between 'Music effects' and 'Hours per day'\n",
    "# Assumption (H0) is that Hours per day and Music effects are NOT correlated\n",
    "\n",
    "# Finds out 'Hours per day' for each 'Music effect' as a list\n",
    "MusicEffects_Anxiety = data_mmh.groupby('Music effects') ['Anxiety'].apply(list)\n",
    "\n",
    "# Performing the ANOVA test\n",
    "AnovaResults = f_oneway(*MusicEffects_Anxiety)\n",
    "print('P-Value for Anova is:', AnovaResults[1])\n",
    "\n",
    "#We accept the H0 only when P-Value > 0.05"
   ]
  },
  {
   "cell_type": "markdown",
   "id": "00936339",
   "metadata": {},
   "source": [
    "* If the p-value is less < than your chosen significance level (e.g., \"**0.05**), you can reject the null hypothesis and conclude that there are significant differences between the groups.\n",
    "\n",
    "* If the p-value is greater > than the significance level, you fail to reject the null hypothesis, suggesting no significant differences among the groups.\n",
    "\n",
    "We accept H0\n",
    "\n",
    "* (H0): The means of all groups are equal.\n",
    "* (H0): No difference, no relation -> **don't use it in your model**"
   ]
  },
  {
   "cell_type": "code",
   "execution_count": 62,
   "id": "d1db54b6",
   "metadata": {},
   "outputs": [
    {
     "data": {
      "text/html": [
       "<div>\n",
       "<style scoped>\n",
       "    .dataframe tbody tr th:only-of-type {\n",
       "        vertical-align: middle;\n",
       "    }\n",
       "\n",
       "    .dataframe tbody tr th {\n",
       "        vertical-align: top;\n",
       "    }\n",
       "\n",
       "    .dataframe thead th {\n",
       "        text-align: right;\n",
       "    }\n",
       "</style>\n",
       "<table border=\"1\" class=\"dataframe\">\n",
       "  <thead>\n",
       "    <tr style=\"text-align: right;\">\n",
       "      <th></th>\n",
       "      <th>Depression</th>\n",
       "    </tr>\n",
       "    <tr>\n",
       "      <th>Music effects</th>\n",
       "      <th></th>\n",
       "    </tr>\n",
       "  </thead>\n",
       "  <tbody>\n",
       "    <tr>\n",
       "      <th>Improve</th>\n",
       "      <td>4.957082</td>\n",
       "    </tr>\n",
       "    <tr>\n",
       "      <th>No effect</th>\n",
       "      <td>4.422222</td>\n",
       "    </tr>\n",
       "    <tr>\n",
       "      <th>Worsen</th>\n",
       "      <td>7.200000</td>\n",
       "    </tr>\n",
       "  </tbody>\n",
       "</table>\n",
       "</div>"
      ],
      "text/plain": [
       "               Depression\n",
       "Music effects            \n",
       "Improve          4.957082\n",
       "No effect        4.422222\n",
       "Worsen           7.200000"
      ]
     },
     "execution_count": 62,
     "metadata": {},
     "output_type": "execute_result"
    }
   ],
   "source": [
    "# Get average 'Depression' (numerical) for every possible music effect \n",
    "data_mmh.groupby(['Music effects']).agg({'Depression': 'mean'})\n"
   ]
  },
  {
   "cell_type": "code",
   "execution_count": 111,
   "id": "07095109",
   "metadata": {},
   "outputs": [
    {
     "name": "stdout",
     "output_type": "stream",
     "text": [
      "P-Value for Anova is: 0.0019205662548113284\n"
     ]
    }
   ],
   "source": [
    "#* Null Hypothesis (H0): The means of all groups are equal.\n",
    "#* Alternative Hypothesis (H1): At least one group's mean is different from the others.\n",
    "\n",
    "#f_oneway() function takes the group data as input\n",
    "# returns F-statistic and P-value\n",
    "from scipy.stats import f_oneway\n",
    "\n",
    "# Running the one-way anova test between 'Music effects' and 'Hours per day'\n",
    "# Assumption (H0) is that Hours per day and Music effects are NOT correlated\n",
    "\n",
    "# Finds out 'Hours per day' for each 'Music effect' as a list\n",
    "MusicEffects_Depression = data_mmh.groupby('Music effects') ['Depression'].apply(list)\n",
    "\n",
    "# Performing the ANOVA test\n",
    "AnovaResults = f_oneway(*MusicEffects_Depression)\n",
    "print('P-Value for Anova is:', AnovaResults[1])\n",
    "\n",
    "#We accept the H0 only when P-Value > 0.05"
   ]
  },
  {
   "cell_type": "markdown",
   "id": "e4a4377e",
   "metadata": {},
   "source": [
    "* If the **p-value is less < than** your chosen significance level (e.g., \"**0.05**), you can reject the null hypothesis and conclude that there are significant differences between the groups.\n",
    "\n",
    "* If the p-value is greater > than the significance level, you fail to reject the null hypothesis, suggesting no significant differences among the groups.\n",
    "\n",
    "**We reject H0**\n",
    "\n",
    "* (H0): The means of all groups are not equal.\n",
    "* (H0): Difference, relation -> **use it in your model**"
   ]
  },
  {
   "cell_type": "code",
   "execution_count": null,
   "id": "822877f6",
   "metadata": {},
   "outputs": [],
   "source": [
    "# Make plot:\n",
    "Boxplot\n",
    "Bar Chart with Error Bars\n",
    "Violinplot\n",
    "Point Plot\n"
   ]
  },
  {
   "cell_type": "code",
   "execution_count": 2,
   "id": "6d9e6d4c",
   "metadata": {},
   "outputs": [
    {
     "ename": "NameError",
     "evalue": "name 'data_mmh' is not defined",
     "output_type": "error",
     "traceback": [
      "\u001b[0;31m---------------------------------------------------------------------------\u001b[0m",
      "\u001b[0;31mNameError\u001b[0m                                 Traceback (most recent call last)",
      "Cell \u001b[0;32mIn[2], line 3\u001b[0m\n\u001b[1;32m      1\u001b[0m \u001b[38;5;66;03m# Boxplot #categorical vs. numerical\u001b[39;00m\n\u001b[1;32m      2\u001b[0m \u001b[38;5;66;03m# Sample data\u001b[39;00m\n\u001b[0;32m----> 3\u001b[0m data \u001b[38;5;241m=\u001b[39m \u001b[43mdata_mmh\u001b[49m\n\u001b[1;32m      5\u001b[0m \u001b[38;5;66;03m# Create a box plot\u001b[39;00m\n\u001b[1;32m      6\u001b[0m sns\u001b[38;5;241m.\u001b[39mboxplot(data\u001b[38;5;241m=\u001b[39mdata_mmh, x\u001b[38;5;241m=\u001b[39m\u001b[38;5;124m'\u001b[39m\u001b[38;5;124mMusic effects\u001b[39m\u001b[38;5;124m'\u001b[39m, y\u001b[38;5;241m=\u001b[39m\u001b[38;5;124m'\u001b[39m\u001b[38;5;124mDepression\u001b[39m\u001b[38;5;124m'\u001b[39m)\n",
      "\u001b[0;31mNameError\u001b[0m: name 'data_mmh' is not defined"
     ]
    }
   ],
   "source": [
    "# Boxplot #categorical vs. numerical\n",
    "# Sample data\n",
    "data = data_mmh\n",
    "\n",
    "# Create a box plot\n",
    "sns.boxplot(data=data_mmh, x='Music effects', y='Depression')\n",
    "\n",
    "# Add labels and a title\n",
    "plt.xlabel('Category')\n",
    "plt.ylabel('Numeric Value')\n",
    "plt.title('Box Plot: Music effects vs. Depression')\n",
    "\n",
    "# Show the plot\n",
    "plt.show()"
   ]
  },
  {
   "cell_type": "code",
   "execution_count": 63,
   "id": "3e3cd484",
   "metadata": {},
   "outputs": [
    {
     "data": {
      "text/html": [
       "<div>\n",
       "<style scoped>\n",
       "    .dataframe tbody tr th:only-of-type {\n",
       "        vertical-align: middle;\n",
       "    }\n",
       "\n",
       "    .dataframe tbody tr th {\n",
       "        vertical-align: top;\n",
       "    }\n",
       "\n",
       "    .dataframe thead th {\n",
       "        text-align: right;\n",
       "    }\n",
       "</style>\n",
       "<table border=\"1\" class=\"dataframe\">\n",
       "  <thead>\n",
       "    <tr style=\"text-align: right;\">\n",
       "      <th></th>\n",
       "      <th>Insomnia</th>\n",
       "    </tr>\n",
       "    <tr>\n",
       "      <th>Music effects</th>\n",
       "      <th></th>\n",
       "    </tr>\n",
       "  </thead>\n",
       "  <tbody>\n",
       "    <tr>\n",
       "      <th>Improve</th>\n",
       "      <td>3.816524</td>\n",
       "    </tr>\n",
       "    <tr>\n",
       "      <th>No effect</th>\n",
       "      <td>3.681481</td>\n",
       "    </tr>\n",
       "    <tr>\n",
       "      <th>Worsen</th>\n",
       "      <td>4.466667</td>\n",
       "    </tr>\n",
       "  </tbody>\n",
       "</table>\n",
       "</div>"
      ],
      "text/plain": [
       "               Insomnia\n",
       "Music effects          \n",
       "Improve        3.816524\n",
       "No effect      3.681481\n",
       "Worsen         4.466667"
      ]
     },
     "execution_count": 63,
     "metadata": {},
     "output_type": "execute_result"
    }
   ],
   "source": [
    "# Get average 'Insomnia' (numerical) for every possible music use\n",
    "data_mmh.groupby(['Music effects']).agg({'Insomnia': 'mean'})\n"
   ]
  },
  {
   "cell_type": "code",
   "execution_count": 112,
   "id": "b628c109",
   "metadata": {},
   "outputs": [
    {
     "name": "stdout",
     "output_type": "stream",
     "text": [
      "P-Value for Anova is: 0.639805117343317\n"
     ]
    }
   ],
   "source": [
    "#* Null Hypothesis (H0): The means of all groups are equal.\n",
    "#* Alternative Hypothesis (H1): At least one group's mean is different from the others.\n",
    "\n",
    "#f_oneway() function takes the group data as input\n",
    "# returns F-statistic and P-value\n",
    "from scipy.stats import f_oneway\n",
    "\n",
    "# Running the one-way anova test between 'Music effects' and 'Hours per day'\n",
    "# Assumption (H0) is that Hours per day and Music effects are NOT correlated\n",
    "\n",
    "# Finds out 'Hours per day' for each 'Music effect' as a list\n",
    "MusicEffects_Insomnia = data_mmh.groupby('Music effects') ['Insomnia'].apply(list)\n",
    "\n",
    "# Performing the ANOVA test\n",
    "AnovaResults = f_oneway(*MusicEffects_Insomnia)\n",
    "print('P-Value for Anova is:', AnovaResults[1])\n",
    "\n",
    "#We accept the H0 only when P-Value > 0.05"
   ]
  },
  {
   "cell_type": "markdown",
   "id": "0b8d8b4e",
   "metadata": {},
   "source": [
    "* If the p-value is less < than your chosen significance level (e.g., \"**0.05**), you can reject the null hypothesis and conclude that there are significant differences between the groups.\n",
    "\n",
    "* If the p-value is greater > than the significance level, you fail to reject the null hypothesis, suggesting no significant differences among the groups.\n",
    "\n",
    "We accept H0\n",
    "\n",
    "* (H0): The means of all groups are equal.\n",
    "* (H0): No difference, no relation -> **don't use it in your model**"
   ]
  },
  {
   "cell_type": "code",
   "execution_count": 104,
   "id": "aac02b46",
   "metadata": {},
   "outputs": [
    {
     "data": {
      "text/html": [
       "<div>\n",
       "<style scoped>\n",
       "    .dataframe tbody tr th:only-of-type {\n",
       "        vertical-align: middle;\n",
       "    }\n",
       "\n",
       "    .dataframe tbody tr th {\n",
       "        vertical-align: top;\n",
       "    }\n",
       "\n",
       "    .dataframe thead th {\n",
       "        text-align: right;\n",
       "    }\n",
       "</style>\n",
       "<table border=\"1\" class=\"dataframe\">\n",
       "  <thead>\n",
       "    <tr style=\"text-align: right;\">\n",
       "      <th></th>\n",
       "      <th>OCD</th>\n",
       "    </tr>\n",
       "    <tr>\n",
       "      <th>Music effects</th>\n",
       "      <th></th>\n",
       "    </tr>\n",
       "  </thead>\n",
       "  <tbody>\n",
       "    <tr>\n",
       "      <th>Improve</th>\n",
       "      <td>2.781116</td>\n",
       "    </tr>\n",
       "    <tr>\n",
       "      <th>No effect</th>\n",
       "      <td>2.207407</td>\n",
       "    </tr>\n",
       "    <tr>\n",
       "      <th>Worsen</th>\n",
       "      <td>3.133333</td>\n",
       "    </tr>\n",
       "  </tbody>\n",
       "</table>\n",
       "</div>"
      ],
      "text/plain": [
       "                    OCD\n",
       "Music effects          \n",
       "Improve        2.781116\n",
       "No effect      2.207407\n",
       "Worsen         3.133333"
      ]
     },
     "execution_count": 104,
     "metadata": {},
     "output_type": "execute_result"
    }
   ],
   "source": [
    "# Get average 'OCD' (numerical) for every possible music use \n",
    "data_mmh.groupby(['Music effects']).agg({'OCD': 'mean'})"
   ]
  },
  {
   "cell_type": "code",
   "execution_count": 113,
   "id": "69a3eaea",
   "metadata": {},
   "outputs": [
    {
     "name": "stdout",
     "output_type": "stream",
     "text": [
      "P-Value for Anova is: 0.09917946463808938\n"
     ]
    }
   ],
   "source": [
    "#* Null Hypothesis (H0): The means of all groups are equal.\n",
    "#* Alternative Hypothesis (H1): At least one group's mean is different from the others.\n",
    "\n",
    "#f_oneway() function takes the group data as input\n",
    "# returns F-statistic and P-value\n",
    "from scipy.stats import f_oneway\n",
    "\n",
    "# Running the one-way anova test between 'Music effects' and 'Hours per day'\n",
    "# Assumption (H0) is that Hours per day and Music effects are NOT correlated\n",
    "\n",
    "# Finds out 'Hours per day' for each 'Music effect' as a list\n",
    "MusicEffects_OCD = data_mmh.groupby('Music effects') ['OCD'].apply(list)\n",
    "\n",
    "# Performing the ANOVA test\n",
    "AnovaResults = f_oneway(*MusicEffects_OCD)\n",
    "print('P-Value for Anova is:', AnovaResults[1])\n",
    "\n",
    "#We accept the H0 only when P-Value > 0.05"
   ]
  },
  {
   "cell_type": "markdown",
   "id": "3404727c",
   "metadata": {},
   "source": [
    "* If the p-value is less < than your chosen significance level (e.g., \"**0.05**), you can reject the null hypothesis and conclude that there are significant differences between the groups.\n",
    "\n",
    "* If the p-value is greater > than the significance level, you fail to reject the null hypothesis, suggesting no significant differences among the groups.\n",
    "\n",
    "We accept H0\n",
    "\n",
    "* (H0): The means of all groups are equal.\n",
    "* (H0): No difference, no relation -> **don't use it in your model**"
   ]
  },
  {
   "cell_type": "code",
   "execution_count": 105,
   "id": "609f443f",
   "metadata": {},
   "outputs": [
    {
     "data": {
      "text/html": [
       "<div>\n",
       "<style scoped>\n",
       "    .dataframe tbody tr th:only-of-type {\n",
       "        vertical-align: middle;\n",
       "    }\n",
       "\n",
       "    .dataframe tbody tr th {\n",
       "        vertical-align: top;\n",
       "    }\n",
       "\n",
       "    .dataframe thead th {\n",
       "        text-align: right;\n",
       "    }\n",
       "</style>\n",
       "<table border=\"1\" class=\"dataframe\">\n",
       "  <thead>\n",
       "    <tr style=\"text-align: right;\">\n",
       "      <th></th>\n",
       "      <th>Anxiety</th>\n",
       "      <th>Depression</th>\n",
       "      <th>Insomnia</th>\n",
       "      <th>OCD</th>\n",
       "    </tr>\n",
       "    <tr>\n",
       "      <th>Music effects</th>\n",
       "      <th></th>\n",
       "      <th></th>\n",
       "      <th></th>\n",
       "      <th></th>\n",
       "    </tr>\n",
       "  </thead>\n",
       "  <tbody>\n",
       "    <tr>\n",
       "      <th>Improve</th>\n",
       "      <td>6.134120</td>\n",
       "      <td>4.957082</td>\n",
       "      <td>3.816524</td>\n",
       "      <td>2.781116</td>\n",
       "    </tr>\n",
       "    <tr>\n",
       "      <th>No effect</th>\n",
       "      <td>4.970370</td>\n",
       "      <td>4.422222</td>\n",
       "      <td>3.681481</td>\n",
       "      <td>2.207407</td>\n",
       "    </tr>\n",
       "    <tr>\n",
       "      <th>Worsen</th>\n",
       "      <td>6.666667</td>\n",
       "      <td>7.200000</td>\n",
       "      <td>4.466667</td>\n",
       "      <td>3.133333</td>\n",
       "    </tr>\n",
       "  </tbody>\n",
       "</table>\n",
       "</div>"
      ],
      "text/plain": [
       "                Anxiety  Depression  Insomnia       OCD\n",
       "Music effects                                          \n",
       "Improve        6.134120    4.957082  3.816524  2.781116\n",
       "No effect      4.970370    4.422222  3.681481  2.207407\n",
       "Worsen         6.666667    7.200000  4.466667  3.133333"
      ]
     },
     "execution_count": 105,
     "metadata": {},
     "output_type": "execute_result"
    }
   ],
   "source": [
    "# Get average 'Diseases' (numerical) for every possible music use \n",
    "data_mmh.groupby(['Music effects']).agg({ 'Anxiety': 'mean','Depression': 'mean','Insomnia': 'mean','OCD': 'mean'})"
   ]
  },
  {
   "cell_type": "code",
   "execution_count": 108,
   "id": "fadc5560",
   "metadata": {},
   "outputs": [
    {
     "name": "stdout",
     "output_type": "stream",
     "text": [
      "P-Value for Anova is: 4.36005587420604e-05\n"
     ]
    }
   ],
   "source": [
    "#* Null Hypothesis (H0): The means of all groups are equal.\n",
    "#* Alternative Hypothesis (H1): At least one group's mean is different from the others.\n",
    "\n",
    "#f_oneway() function takes the group data as input\n",
    "# returns F-statistic and P-value\n",
    "from scipy.stats import f_oneway\n",
    "\n",
    "# Running the one-way anova test between 'Music effects' and 'Hours per day'\n",
    "# Assumption (H0) is that Hours per day and Music effects are NOT correlated\n",
    "\n",
    "# Finds out 'Hours per day' for each 'Music effect' as a list\n",
    "MusicEffects_Anxiety = data_mmh.groupby('Music effects') ['Anxiety'].apply(list)\n",
    "\n",
    "# Performing the ANOVA test\n",
    "AnovaResults = f_oneway(*MusicEffects_Anxiety)\n",
    "print('P-Value for Anova is:', AnovaResults[1])\n",
    "\n",
    "#We accept the H0 only when P-Value > 0.05"
   ]
  },
  {
   "cell_type": "markdown",
   "id": "47af1a1e",
   "metadata": {},
   "source": [
    "* If the p-value is less < than your chosen significance level (e.g., \"**0.05**), you can reject the null hypothesis and conclude that there are significant differences between the groups.\n",
    "\n",
    "* If the p-value is greater > than the significance level, you fail to reject the null hypothesis, suggesting no significant differences among the groups.\n",
    "\n",
    "We accept H0\n",
    "\n",
    "* (H0): The means of all groups are equal.\n",
    "* (H0): No difference, no relation -> **don't use it in your model**\n",
    "_______"
   ]
  },
  {
   "cell_type": "markdown",
   "id": "8cdcf266",
   "metadata": {},
   "source": [
    "### 5) Connections disease and age | ANOVA (numerical vs. categorical)::\n",
    "\n",
    "* Positive test results:\n",
    "\n",
    "\t•\t‘Age group’  and ‘Music effects’\n",
    "\t•\tWhat about Age and Music effects"
   ]
  },
  {
   "cell_type": "code",
   "execution_count": null,
   "id": "297fa795",
   "metadata": {},
   "outputs": [],
   "source": [
    "# What about Age and Music effects"
   ]
  },
  {
   "cell_type": "code",
   "execution_count": 161,
   "id": "6ed6f00b",
   "metadata": {},
   "outputs": [
    {
     "data": {
      "text/html": [
       "<div>\n",
       "<style scoped>\n",
       "    .dataframe tbody tr th:only-of-type {\n",
       "        vertical-align: middle;\n",
       "    }\n",
       "\n",
       "    .dataframe tbody tr th {\n",
       "        vertical-align: top;\n",
       "    }\n",
       "\n",
       "    .dataframe thead th {\n",
       "        text-align: right;\n",
       "    }\n",
       "</style>\n",
       "<table border=\"1\" class=\"dataframe\">\n",
       "  <thead>\n",
       "    <tr style=\"text-align: right;\">\n",
       "      <th></th>\n",
       "      <th>Age</th>\n",
       "    </tr>\n",
       "    <tr>\n",
       "      <th>Music effects</th>\n",
       "      <th></th>\n",
       "    </tr>\n",
       "  </thead>\n",
       "  <tbody>\n",
       "    <tr>\n",
       "      <th>Improve</th>\n",
       "      <td>24.281116</td>\n",
       "    </tr>\n",
       "    <tr>\n",
       "      <th>No effect</th>\n",
       "      <td>26.770370</td>\n",
       "    </tr>\n",
       "    <tr>\n",
       "      <th>Worsen</th>\n",
       "      <td>23.200000</td>\n",
       "    </tr>\n",
       "  </tbody>\n",
       "</table>\n",
       "</div>"
      ],
      "text/plain": [
       "                     Age\n",
       "Music effects           \n",
       "Improve        24.281116\n",
       "No effect      26.770370\n",
       "Worsen         23.200000"
      ]
     },
     "execution_count": 161,
     "metadata": {},
     "output_type": "execute_result"
    }
   ],
   "source": [
    "data_mmh.groupby(['Music effects']).agg({'Age': 'mean'})"
   ]
  },
  {
   "cell_type": "code",
   "execution_count": 162,
   "id": "d98f935f",
   "metadata": {},
   "outputs": [
    {
     "name": "stdout",
     "output_type": "stream",
     "text": [
      "P-Value for Anova is: 0.07926560928126014\n"
     ]
    }
   ],
   "source": [
    "#* Null Hypothesis (H0): The means of all groups are equal.\n",
    "#* Alternative Hypothesis (H1): At least one group's mean is different from the others.\n",
    "\n",
    "#f_oneway() function takes the group data as input\n",
    "# returns F-statistic and P-value\n",
    "from scipy.stats import f_oneway\n",
    "\n",
    "# Running the one-way anova test between 'Music effects' and 'Hours per day'\n",
    "# Assumption (H0) is that Hours per day and Music effects are NOT correlated\n",
    "\n",
    "# Finds out 'Hours per day' for each 'Music effect' as a list\n",
    "MusicEffects_Age = data_mmh.groupby('Music effects') ['Age'].apply(list)\n",
    "\n",
    "# Performing the ANOVA test\n",
    "AnovaResults = f_oneway(*MusicEffects_Age)\n",
    "print('P-Value for Anova is:', AnovaResults[1])\n",
    "\n",
    "#We accept the H0 only when P-Value > 0.05"
   ]
  },
  {
   "cell_type": "markdown",
   "id": "9aa855cd",
   "metadata": {},
   "source": [
    "* If the p-value is less < than your chosen significance level (e.g., \"**0.05**), you can reject the null hypothesis and conclude that there are significant differences between the groups.\n",
    "\n",
    "* If the p-value is greater > than the significance level, you fail to reject the null hypothesis, suggesting no significant differences among the groups.\n",
    "\n",
    "We accept H0\n",
    "\n",
    "* (H0): The means of all groups are equal.\n",
    "* (H0): No difference, no relation -> **don't use it in your model**\n",
    "\n",
    "____________"
   ]
  },
  {
   "cell_type": "markdown",
   "id": "ce59faa7",
   "metadata": {},
   "source": [
    "## Statistical Test: LinearRegression (numerical vs. numerical)"
   ]
  },
  {
   "cell_type": "markdown",
   "id": "c85c4699",
   "metadata": {},
   "source": [
    "### 5) Connections **disease** and **age** | LinearRegression (numerical vs. numerical):"
   ]
  },
  {
   "cell_type": "code",
   "execution_count": null,
   "id": "4660e942",
   "metadata": {},
   "outputs": [],
   "source": [
    "data_mmh.groupby(['Age']).agg({'Anxiety': 'mean'})"
   ]
  },
  {
   "cell_type": "code",
   "execution_count": null,
   "id": "465bfcd9",
   "metadata": {},
   "outputs": [],
   "source": [
    "# Create groups of ages: 20's, 30's, 40's,...; pd.cut()"
   ]
  },
  {
   "cell_type": "code",
   "execution_count": null,
   "id": "59c908ca",
   "metadata": {},
   "outputs": [],
   "source": [
    "pd.cut(np.array([1, 7, 5, 4, 6, 3]),\n",
    "       3, labels=[\"bad\", \"medium\", \"good\"])"
   ]
  },
  {
   "cell_type": "code",
   "execution_count": 49,
   "id": "2fafb974",
   "metadata": {},
   "outputs": [
    {
     "data": {
      "text/plain": [
       "array([18., 61., 21., 19., 16., 17., 15., 14., 26., 20., 23., 37., 36.,\n",
       "       24., 22., 25., 32., 29., 41., 30., 43., 31., 28., 34., 13., 35.,\n",
       "       27., 53., 49., 42., 60., 33., 44., 40., 64., 38., 56., 59., 10.,\n",
       "       57., 12., 69., 72., 73., 39., 63., 58., 67., 70., 55., 48., 74.,\n",
       "       51., 65., 80., 50., 68., 46., 89.])"
      ]
     },
     "execution_count": 49,
     "metadata": {},
     "output_type": "execute_result"
    }
   ],
   "source": [
    "data_mmh ['Age'].unique()"
   ]
  },
  {
   "cell_type": "code",
   "execution_count": 52,
   "id": "8b4600b1",
   "metadata": {},
   "outputs": [
    {
     "data": {
      "text/plain": [
       "['10's', '60's', '20's', '20's', '10's', ..., '80's', '50's', '70's', '50's', '90's']\n",
       "Length: 59\n",
       "Categories (9, object): ['10's' < '20's' < '30's' < '40's' ... '60's' < '70's' < '80's' < '90's']"
      ]
     },
     "execution_count": 52,
     "metadata": {},
     "output_type": "execute_result"
    }
   ],
   "source": [
    "pd.cut(np.array([18., 61., 21., 19., 16., 17., 15., 14., 26., 20., 23., 37., 36.,\n",
    "       24., 22., 25., 32., 29., 41., 30., 43., 31., 28., 34., 13., 35.,\n",
    "       27., 53., 49., 42., 60., 33., 44., 40., 64., 38., 56., 59., 10.,\n",
    "       57., 12., 69., 72., 73., 39., 63., 58., 67., 70., 55., 48., 74.,\n",
    "       51., 65., 80., 50., 68., 46., 89.]), \n",
    "       9, labels= [\"10's\", \"20's\", \"30's\", \"40's\", \"50's\", \"60's\", \"70's\", \"80's\", \"90's\"])"
   ]
  },
  {
   "cell_type": "code",
   "execution_count": 125,
   "id": "f0234efc",
   "metadata": {},
   "outputs": [
    {
     "data": {
      "text/plain": [
       "0      10's\n",
       "1      60's\n",
       "2      10's\n",
       "3      10's\n",
       "4      10's\n",
       "       ... \n",
       "611    10's\n",
       "612    10's\n",
       "613    10's\n",
       "614    10's\n",
       "615    20's\n",
       "Name: Age, Length: 616, dtype: category\n",
       "Categories (10, object): ['<10' < '10's' < '20's' < '30's' ... '60's' < '70's' < '80's' < '90's']"
      ]
     },
     "execution_count": 125,
     "metadata": {},
     "output_type": "execute_result"
    }
   ],
   "source": [
    "labels = [\"<10\", \"10's\", \"20's\", \"30's\", \"40's\", \"50's\", \"60's\", \"70's\", \"80's\", \"90's\"]\n",
    "pd.cut(data_mmh['Age'], bins=[0, 10, 20, 30, 40, 50, 60, 70, 80, 90, 100], labels = labels)\n",
    "#data_mmh.iloc[0,list(data_mmh.columns).index(\"Age\")]"
   ]
  },
  {
   "cell_type": "code",
   "execution_count": 119,
   "id": "83357af2",
   "metadata": {},
   "outputs": [
    {
     "data": {
      "text/plain": [
       "10.0"
      ]
     },
     "execution_count": 119,
     "metadata": {},
     "output_type": "execute_result"
    }
   ],
   "source": [
    "#15, 105\n",
    "(105-15)/9\n",
    "# 15->25,25->35,..."
   ]
  },
  {
   "cell_type": "code",
   "execution_count": 129,
   "id": "4c3e7a65",
   "metadata": {},
   "outputs": [
    {
     "data": {
      "text/html": [
       "<div>\n",
       "<style scoped>\n",
       "    .dataframe tbody tr th:only-of-type {\n",
       "        vertical-align: middle;\n",
       "    }\n",
       "\n",
       "    .dataframe tbody tr th {\n",
       "        vertical-align: top;\n",
       "    }\n",
       "\n",
       "    .dataframe thead th {\n",
       "        text-align: right;\n",
       "    }\n",
       "</style>\n",
       "<table border=\"1\" class=\"dataframe\">\n",
       "  <thead>\n",
       "    <tr style=\"text-align: right;\">\n",
       "      <th></th>\n",
       "      <th>Age</th>\n",
       "      <th>Age group</th>\n",
       "    </tr>\n",
       "  </thead>\n",
       "  <tbody>\n",
       "    <tr>\n",
       "      <th>0</th>\n",
       "      <td>18.0</td>\n",
       "      <td>10's</td>\n",
       "    </tr>\n",
       "    <tr>\n",
       "      <th>1</th>\n",
       "      <td>61.0</td>\n",
       "      <td>60's</td>\n",
       "    </tr>\n",
       "    <tr>\n",
       "      <th>2</th>\n",
       "      <td>18.0</td>\n",
       "      <td>10's</td>\n",
       "    </tr>\n",
       "    <tr>\n",
       "      <th>3</th>\n",
       "      <td>18.0</td>\n",
       "      <td>10's</td>\n",
       "    </tr>\n",
       "    <tr>\n",
       "      <th>4</th>\n",
       "      <td>18.0</td>\n",
       "      <td>10's</td>\n",
       "    </tr>\n",
       "    <tr>\n",
       "      <th>...</th>\n",
       "      <td>...</td>\n",
       "      <td>...</td>\n",
       "    </tr>\n",
       "    <tr>\n",
       "      <th>611</th>\n",
       "      <td>17.0</td>\n",
       "      <td>10's</td>\n",
       "    </tr>\n",
       "    <tr>\n",
       "      <th>612</th>\n",
       "      <td>18.0</td>\n",
       "      <td>10's</td>\n",
       "    </tr>\n",
       "    <tr>\n",
       "      <th>613</th>\n",
       "      <td>19.0</td>\n",
       "      <td>10's</td>\n",
       "    </tr>\n",
       "    <tr>\n",
       "      <th>614</th>\n",
       "      <td>19.0</td>\n",
       "      <td>10's</td>\n",
       "    </tr>\n",
       "    <tr>\n",
       "      <th>615</th>\n",
       "      <td>29.0</td>\n",
       "      <td>20's</td>\n",
       "    </tr>\n",
       "  </tbody>\n",
       "</table>\n",
       "<p>616 rows × 2 columns</p>\n",
       "</div>"
      ],
      "text/plain": [
       "      Age Age group\n",
       "0    18.0      10's\n",
       "1    61.0      60's\n",
       "2    18.0      10's\n",
       "3    18.0      10's\n",
       "4    18.0      10's\n",
       "..    ...       ...\n",
       "611  17.0      10's\n",
       "612  18.0      10's\n",
       "613  19.0      10's\n",
       "614  19.0      10's\n",
       "615  29.0      20's\n",
       "\n",
       "[616 rows x 2 columns]"
      ]
     },
     "execution_count": 129,
     "metadata": {},
     "output_type": "execute_result"
    }
   ],
   "source": [
    "#df['age_group'] = pd.cut(df['age'], 3)\n",
    "labels = [\"<10\", \"10's\", \"20's\", \"30's\", \"40's\", \"50's\", \"60's\", \"70's\", \"80's\"]\n",
    "data_mmh['Age group'] = pd.cut(data_mmh['Age'], bins=[0, 10, 20, 30, 40, 50, 60, 70, 80, 90], labels = labels)\n",
    "#data_mmh['Age group'] = pd.cut(data_mmh['Age'], 9)\n",
    "#data_mmh\n",
    "data_mmh[['Age','Age group']]"
   ]
  },
  {
   "cell_type": "code",
   "execution_count": 130,
   "id": "e4b42057",
   "metadata": {},
   "outputs": [
    {
     "data": {
      "text/plain": [
       "10's    295\n",
       "20's    202\n",
       "30's     62\n",
       "40's     22\n",
       "50's     19\n",
       "60's     10\n",
       "70's      4\n",
       "<10       1\n",
       "80's      1\n",
       "Name: Age group, dtype: int64"
      ]
     },
     "execution_count": 130,
     "metadata": {},
     "output_type": "execute_result"
    }
   ],
   "source": [
    "data_mmh['Age group'].value_counts()"
   ]
  },
  {
   "cell_type": "code",
   "execution_count": 131,
   "id": "3e405c2a",
   "metadata": {
    "scrolled": true
   },
   "outputs": [
    {
     "data": {
      "text/plain": [
       "<Axes: xlabel='Age group', ylabel='count'>"
      ]
     },
     "execution_count": 131,
     "metadata": {},
     "output_type": "execute_result"
    },
    {
     "data": {
      "image/png": "[encoded data removed]",
      "text/plain": [
       "<Figure size 640x480 with 1 Axes>"
      ]
     },
     "metadata": {},
     "output_type": "display_data"
    }
   ],
   "source": [
    "sns.countplot(data=data_mmh, x=\"Age group\")"
   ]
  },
  {
   "cell_type": "code",
   "execution_count": null,
   "id": "31884b63",
   "metadata": {},
   "outputs": [],
   "source": [
    "#df['age_group'] = pd.cut(df['age'], 3)\n",
    "labels = [\"<10\", \"10's\", \"20's\", \"30's\", \"40's\", \"50's\", \"60's\", \"70's\", \"80's\"]\n",
    "data_mmh['Age group'] = pd.cut(data_mmh['Age'], bins=[0, 10, 20, 30, 40, 50, 60, 70, 80, 90], labels = labels)\n",
    "#data_mmh['Age group'] = pd.cut(data_mmh['Age'], 9)\n",
    "#data_mmh\n",
    "data_mmh[['Age','Age group']]\n",
    "\n",
    "data_mmh['Age group'].value_counts()\n",
    "\n",
    "sns.countplot(data=data_mmh, x=\"Age group\")\n"
   ]
  },
  {
   "cell_type": "markdown",
   "id": "8cae1b58",
   "metadata": {},
   "source": [
    "### Move from LinearRegression to ANOVA test:"
   ]
  },
  {
   "cell_type": "code",
   "execution_count": 86,
   "id": "43e175f0",
   "metadata": {},
   "outputs": [
    {
     "data": {
      "text/html": [
       "<div>\n",
       "<style scoped>\n",
       "    .dataframe tbody tr th:only-of-type {\n",
       "        vertical-align: middle;\n",
       "    }\n",
       "\n",
       "    .dataframe tbody tr th {\n",
       "        vertical-align: top;\n",
       "    }\n",
       "\n",
       "    .dataframe thead th {\n",
       "        text-align: right;\n",
       "    }\n",
       "</style>\n",
       "<table border=\"1\" class=\"dataframe\">\n",
       "  <thead>\n",
       "    <tr style=\"text-align: right;\">\n",
       "      <th></th>\n",
       "      <th>Anxiety</th>\n",
       "    </tr>\n",
       "    <tr>\n",
       "      <th>Age group</th>\n",
       "      <th></th>\n",
       "    </tr>\n",
       "  </thead>\n",
       "  <tbody>\n",
       "    <tr>\n",
       "      <th>(9.921, 18.778]</th>\n",
       "      <td>6.075980</td>\n",
       "    </tr>\n",
       "    <tr>\n",
       "      <th>(18.778, 27.556]</th>\n",
       "      <td>6.064639</td>\n",
       "    </tr>\n",
       "    <tr>\n",
       "      <th>(27.556, 36.333]</th>\n",
       "      <td>6.153846</td>\n",
       "    </tr>\n",
       "    <tr>\n",
       "      <th>(36.333, 45.111]</th>\n",
       "      <td>5.827586</td>\n",
       "    </tr>\n",
       "    <tr>\n",
       "      <th>(45.111, 53.889]</th>\n",
       "      <td>2.750000</td>\n",
       "    </tr>\n",
       "    <tr>\n",
       "      <th>(53.889, 62.667]</th>\n",
       "      <td>3.352941</td>\n",
       "    </tr>\n",
       "    <tr>\n",
       "      <th>(62.667, 71.444]</th>\n",
       "      <td>5.000000</td>\n",
       "    </tr>\n",
       "    <tr>\n",
       "      <th>(71.444, 80.222]</th>\n",
       "      <td>4.000000</td>\n",
       "    </tr>\n",
       "    <tr>\n",
       "      <th>(80.222, 89.0]</th>\n",
       "      <td>0.000000</td>\n",
       "    </tr>\n",
       "  </tbody>\n",
       "</table>\n",
       "</div>"
      ],
      "text/plain": [
       "                   Anxiety\n",
       "Age group                 \n",
       "(9.921, 18.778]   6.075980\n",
       "(18.778, 27.556]  6.064639\n",
       "(27.556, 36.333]  6.153846\n",
       "(36.333, 45.111]  5.827586\n",
       "(45.111, 53.889]  2.750000\n",
       "(53.889, 62.667]  3.352941\n",
       "(62.667, 71.444]  5.000000\n",
       "(71.444, 80.222]  4.000000\n",
       "(80.222, 89.0]    0.000000"
      ]
     },
     "execution_count": 86,
     "metadata": {},
     "output_type": "execute_result"
    }
   ],
   "source": [
    "data_mmh.groupby(['Age group']).agg({'Anxiety': 'mean'}) #categorical vs numerical"
   ]
  },
  {
   "cell_type": "markdown",
   "id": "f72d1b0a",
   "metadata": {},
   "source": [
    "**For 'Age group' and 'Anxiety':**\n",
    "Now 'Age group' is categorical, so do ANOVA test for categorical vs numerical"
   ]
  },
  {
   "cell_type": "markdown",
   "id": "aa72f74f",
   "metadata": {},
   "source": [
    "### Move from Linear Regression to Chi2 test"
   ]
  },
  {
   "cell_type": "code",
   "execution_count": 93,
   "id": "34fb01cf",
   "metadata": {},
   "outputs": [
    {
     "data": {
      "text/html": [
       "<div>\n",
       "<style scoped>\n",
       "    .dataframe tbody tr th:only-of-type {\n",
       "        vertical-align: middle;\n",
       "    }\n",
       "\n",
       "    .dataframe tbody tr th {\n",
       "        vertical-align: top;\n",
       "    }\n",
       "\n",
       "    .dataframe thead th {\n",
       "        text-align: right;\n",
       "    }\n",
       "</style>\n",
       "<table border=\"1\" class=\"dataframe\">\n",
       "  <thead>\n",
       "    <tr style=\"text-align: right;\">\n",
       "      <th>Music effects</th>\n",
       "      <th>Improve</th>\n",
       "      <th>No effect</th>\n",
       "      <th>Worsen</th>\n",
       "    </tr>\n",
       "    <tr>\n",
       "      <th>Age group</th>\n",
       "      <th></th>\n",
       "      <th></th>\n",
       "      <th></th>\n",
       "    </tr>\n",
       "  </thead>\n",
       "  <tbody>\n",
       "    <tr>\n",
       "      <th>(9.921, 18.778]</th>\n",
       "      <td>167</td>\n",
       "      <td>32</td>\n",
       "      <td>5</td>\n",
       "    </tr>\n",
       "    <tr>\n",
       "      <th>(18.778, 27.556]</th>\n",
       "      <td>196</td>\n",
       "      <td>62</td>\n",
       "      <td>5</td>\n",
       "    </tr>\n",
       "    <tr>\n",
       "      <th>(27.556, 36.333]</th>\n",
       "      <td>54</td>\n",
       "      <td>21</td>\n",
       "      <td>3</td>\n",
       "    </tr>\n",
       "    <tr>\n",
       "      <th>(36.333, 45.111]</th>\n",
       "      <td>19</td>\n",
       "      <td>8</td>\n",
       "      <td>2</td>\n",
       "    </tr>\n",
       "    <tr>\n",
       "      <th>(45.111, 53.889]</th>\n",
       "      <td>8</td>\n",
       "      <td>4</td>\n",
       "      <td>0</td>\n",
       "    </tr>\n",
       "    <tr>\n",
       "      <th>(53.889, 62.667]</th>\n",
       "      <td>11</td>\n",
       "      <td>6</td>\n",
       "      <td>0</td>\n",
       "    </tr>\n",
       "    <tr>\n",
       "      <th>(62.667, 71.444]</th>\n",
       "      <td>7</td>\n",
       "      <td>1</td>\n",
       "      <td>0</td>\n",
       "    </tr>\n",
       "    <tr>\n",
       "      <th>(71.444, 80.222]</th>\n",
       "      <td>4</td>\n",
       "      <td>0</td>\n",
       "      <td>0</td>\n",
       "    </tr>\n",
       "    <tr>\n",
       "      <th>(80.222, 89.0]</th>\n",
       "      <td>0</td>\n",
       "      <td>1</td>\n",
       "      <td>0</td>\n",
       "    </tr>\n",
       "  </tbody>\n",
       "</table>\n",
       "</div>"
      ],
      "text/plain": [
       "Music effects     Improve  No effect  Worsen\n",
       "Age group                                   \n",
       "(9.921, 18.778]       167         32       5\n",
       "(18.778, 27.556]      196         62       5\n",
       "(27.556, 36.333]       54         21       3\n",
       "(36.333, 45.111]       19          8       2\n",
       "(45.111, 53.889]        8          4       0\n",
       "(53.889, 62.667]       11          6       0\n",
       "(62.667, 71.444]        7          1       0\n",
       "(71.444, 80.222]        4          0       0\n",
       "(80.222, 89.0]          0          1       0"
      ]
     },
     "execution_count": 93,
     "metadata": {},
     "output_type": "execute_result"
    }
   ],
   "source": [
    "musiceffects_age = pd.crosstab(data_mmh['Age group'], data_mmh['Music effects'])\n",
    "musiceffects_age"
   ]
  },
  {
   "cell_type": "markdown",
   "id": "8091d60f",
   "metadata": {},
   "source": [
    "**For 'Age group' and 'Music effects':** Now 'Age group' is categorical, so do Chi2 test for categorical vs categorical"
   ]
  },
  {
   "cell_type": "code",
   "execution_count": 54,
   "id": "f1a70d57",
   "metadata": {},
   "outputs": [
    {
     "name": "stdout",
     "output_type": "stream",
     "text": [
      "Correlation coefficient: -0.19516395086552712\n"
     ]
    }
   ],
   "source": [
    "# Aggregate_numerical_vs_numerical\n",
    "\n",
    "# Calculate the correlation coefficient\n",
    "correlation = data_mmh['Age'].corr(data_mmh['Anxiety'])\n",
    "print(f'Correlation coefficient: {correlation}')"
   ]
  },
  {
   "cell_type": "markdown",
   "id": "7c89f1d7",
   "metadata": {},
   "source": [
    "A correlation value close to 1 indicates a strong positive linear relationship, close to -1 indicates a strong negative linear relationship, and **close to 0 suggests little to no linear relationship.**\n",
    "\n",
    "Don't use 'Age' and 'Anxiety' in model\n",
    "\n",
    "But what about: \n",
    "* Age and Depression\n",
    "* Age and Insomnia\n",
    "* Age and OCD"
   ]
  },
  {
   "cell_type": "markdown",
   "id": "579d804f",
   "metadata": {},
   "source": [
    "### This scatterplot for these columns says there is no correlation?"
   ]
  },
  {
   "cell_type": "code",
   "execution_count": 55,
   "id": "b5f753a1",
   "metadata": {},
   "outputs": [
    {
     "data": {
      "image/png": "[encoded data removed]",
      "text/plain": [
       "<Figure size 600x600 with 1 Axes>"
      ]
     },
     "metadata": {},
     "output_type": "display_data"
    }
   ],
   "source": [
    "# Create a scatter plot  # This scatterplot for these columns says there is no correlation?\n",
    "plt.figure(figsize=(6, 6))\n",
    "sns.scatterplot(x='Age', y='Anxiety', data=data_mmh)\n",
    "plt.xlabel('Age')\n",
    "plt.ylabel('Anxiety')\n",
    "plt.title('Scatter Plot: Numerical vs. Numerical')\n",
    "plt.show()"
   ]
  },
  {
   "cell_type": "markdown",
   "id": "9621656e",
   "metadata": {},
   "source": [
    "### Doesnt make sense remove this test:"
   ]
  },
  {
   "cell_type": "code",
   "execution_count": 4,
   "id": "790d354f",
   "metadata": {},
   "outputs": [
    {
     "data": {
      "image/png": "[encoded data removed]",
      "text/plain": [
       "<Figure size 640x480 with 1 Axes>"
      ]
     },
     "metadata": {},
     "output_type": "display_data"
    },
    {
     "name": "stdout",
     "output_type": "stream",
     "text": [
      "Slope (Coefficient): 0.034997870736764795\n",
      "Intercept: 5.762581740182036\n",
      "R-squared: 0.0015149031796761747\n",
      "Mean Squared Error: 7.594112976847295\n"
     ]
    }
   ],
   "source": [
    "# Test for checking relationship between numerical and numerical #LinearRegression # doesnt make sense remove this test\n",
    "\n",
    "#1) Import Libraries:\n",
    "#First, import the necessary libraries:\n",
    "\n",
    "from sklearn.linear_model import LinearRegression\n",
    "#___________________________________________________\n",
    "\n",
    "#2) Load Your Data:\n",
    "#Load your data into a Pandas DataFrame. \n",
    "#Suppose you have a DataFrame with two numerical columns 'X' and 'Y':\n",
    "\n",
    "data_mmh = pd.read_csv('../../data/cleaned/data_mmh_cleaned2.csv', index_col=0)\n",
    "#data = pd.read_csv('your_data.csv')\n",
    "X = data_mmh['Hours per day'].values.reshape(-1, 1)\n",
    "Y = data_mmh['Anxiety'].values\n",
    "\n",
    "#___________________________________________________\n",
    "\n",
    "#3) Create and Fit the Model:\n",
    "#Create a linear regression model and fit it to your data:\n",
    "\n",
    "model = LinearRegression()\n",
    "model.fit(X, Y)\n",
    "\n",
    "#___________________________________________________\n",
    "\n",
    "#4) Make Predictions:\n",
    "#You can use your trained model to make predictions:\n",
    "\n",
    "predictions = model.predict(X)\n",
    "\n",
    "#___________________________________________________\n",
    "\n",
    "#5) Visualize the Results:\n",
    "#Visualize the regression line along with your data points to see how well the model fits:\n",
    "\n",
    "import matplotlib.pyplot as plt\n",
    "\n",
    "plt.scatter(X, Y, label='Data')\n",
    "plt.plot(X, predictions, color='red', label='Linear Regression')\n",
    "plt.xlabel('X')\n",
    "plt.ylabel('Y')\n",
    "plt.legend()\n",
    "plt.show()\n",
    "\n",
    "#___________________________________________________\n",
    "\n",
    "#6) Get the Coefficients:\n",
    "#You can also retrieve the coefficients (slope and intercept) of the linear regression line:\n",
    "\n",
    "slope = model.coef_[0]\n",
    "intercept = model.intercept_\n",
    "print(f\"Slope (Coefficient): {slope}\")\n",
    "print(f\"Intercept: {intercept}\")\n",
    "\n",
    "#___________________________________________________\n",
    "\n",
    "#7) Evaluate the Model:\n",
    "#Assess the model's performance using metrics like R-squared and mean squared error (MSE):\n",
    "\n",
    "from sklearn.metrics import r2_score, mean_squared_error\n",
    "\n",
    "r2 = r2_score(Y, predictions)\n",
    "mse = mean_squared_error(Y, predictions)\n",
    "\n",
    "print(f\"R-squared: {r2}\")\n",
    "print(f\"Mean Squared Error: {mse}\")"
   ]
  },
  {
   "cell_type": "markdown",
   "id": "0279e8ee",
   "metadata": {},
   "source": [
    "### Get right aggregation for categorical:"
   ]
  },
  {
   "cell_type": "code",
   "execution_count": null,
   "id": "5982efa8",
   "metadata": {},
   "outputs": [],
   "source": [
    "# Get 'Age' (numerical) for 'Depression': # get right aggregation for categorical\n",
    "data_mmh.groupby(['Age']).agg({'Depression': 'mean'})\n",
    "# Get 'Age' (numerical) for 'Insomnia':\n",
    "data_mmh.groupby(['Age']).agg({'Insomnia': 'mean'})\n",
    "# Get 'Age' (numerical) for 'OCD':\n",
    "data_mmh.groupby(['Age']).agg({'OCD': 'mean'})"
   ]
  },
  {
   "cell_type": "code",
   "execution_count": null,
   "id": "4a15b0b5",
   "metadata": {},
   "outputs": [],
   "source": [
    "age_depression = pd.crosstab(data_mmh['Age'], data_mmh['Depression'])\n",
    "age_depression"
   ]
  },
  {
   "cell_type": "code",
   "execution_count": 156,
   "id": "117cdd18",
   "metadata": {},
   "outputs": [
    {
     "name": "stdout",
     "output_type": "stream",
     "text": [
      "Correlation coefficient: -0.08670034512117054\n"
     ]
    }
   ],
   "source": [
    "# Aggregate_numerical_vs_numerical\n",
    "\n",
    "# Calculate the correlation coefficient\n",
    "correlation = data_mmh['Age'].corr(data_mmh['Depression'])\n",
    "print(f'Correlation coefficient: {correlation}')"
   ]
  },
  {
   "cell_type": "markdown",
   "id": "52330e18",
   "metadata": {},
   "source": [
    "A correlation value close to 1 indicates a strong positive linear relationship, close to -1 indicates a strong negative linear relationship, and **close to 0 suggests little to no linear relationship.**\n",
    "\n",
    "Don't use 'Age' and 'Depression' in model\n",
    "\n",
    "But what about: \n",
    "* Age and Insomnia\n",
    "* Age and OCD"
   ]
  },
  {
   "cell_type": "code",
   "execution_count": null,
   "id": "89bd1422",
   "metadata": {},
   "outputs": [],
   "source": [
    "age_insomnia = pd.crosstab(data_mmh['Age'], data_mmh['Insomnia'])\n",
    "age_insomnia"
   ]
  },
  {
   "cell_type": "code",
   "execution_count": 157,
   "id": "805bde58",
   "metadata": {},
   "outputs": [
    {
     "name": "stdout",
     "output_type": "stream",
     "text": [
      "Correlation coefficient: 0.007850531880007155\n"
     ]
    }
   ],
   "source": [
    "# Aggregate_numerical_vs_numerical\n",
    "\n",
    "# Calculate the correlation coefficient\n",
    "correlation = data_mmh['Age'].corr(data_mmh['Insomnia'])\n",
    "print(f'Correlation coefficient: {correlation}')"
   ]
  },
  {
   "cell_type": "markdown",
   "id": "213b7e1b",
   "metadata": {},
   "source": [
    "A correlation value close to 1 indicates a strong positive linear relationship, close to -1 indicates a strong negative linear relationship, and **close to 0 suggests little to no linear relationship.**\n",
    "\n",
    "Don't use 'Age' and 'Insomnia' in model\n",
    "\n",
    "But what about: \n",
    "* Age and OCD"
   ]
  },
  {
   "cell_type": "code",
   "execution_count": null,
   "id": "a81d161b",
   "metadata": {},
   "outputs": [],
   "source": [
    "age_ocd = pd.crosstab(data_mmh['Age'], data_mmh['OCD'])\n",
    "age_ocd"
   ]
  },
  {
   "cell_type": "code",
   "execution_count": 158,
   "id": "9b86bb9d",
   "metadata": {},
   "outputs": [
    {
     "name": "stdout",
     "output_type": "stream",
     "text": [
      "Correlation coefficient: -0.1405078035997699\n"
     ]
    }
   ],
   "source": [
    "# Aggregate_numerical_vs_numerical\n",
    "\n",
    "# Calculate the correlation coefficient\n",
    "correlation = data_mmh['Age'].corr(data_mmh['OCD'])\n",
    "print(f'Correlation coefficient: {correlation}')"
   ]
  },
  {
   "cell_type": "markdown",
   "id": "c733738a",
   "metadata": {},
   "source": [
    "A correlation value close to 1 indicates a strong positive linear relationship, close to -1 indicates a strong negative linear relationship, and **close to 0 suggests little to no linear relationship.**\n",
    "\n",
    "Don't use 'Age' and 'OCD' in model"
   ]
  },
  {
   "cell_type": "markdown",
   "id": "239dbfd1",
   "metadata": {},
   "source": [
    "## Statistical Test: Chi2 (categorical vs. categorical)"
   ]
  },
  {
   "cell_type": "markdown",
   "id": "6a7d6f25",
   "metadata": {},
   "source": [
    "The chi2 value is the test statistic, and the p value is the probability of \n",
    "observing the results if the null hypothesis is true. \n",
    "\n",
    "* Null Hypothesis (H0): There is no significant association between the two categorical variables; they are independent.\n",
    "* Alternative Hypothesis (H1): There is a significant association between the two categorical variables; they are dependent.\n",
    "\n",
    "A small p-value (typically less than 0.05) suggests that there is a significant association between the two \n",
    "categorical variables.\n",
    "\n",
    "If the p-value is less than your chosen significance level, you can reject the null hypothesis and conclude that there is a significant association between the two categorical variables.\n",
    "\n",
    "If the p-value is greater than the significance level, you fail to reject the null hypothesis, suggesting that the two categorical variables are independent."
   ]
  },
  {
   "cell_type": "markdown",
   "id": "fd87dc37",
   "metadata": {},
   "source": [
    "### 1) Connection **disease** and **music use** | Chi2 (categorical vs. categorical):"
   ]
  },
  {
   "cell_type": "code",
   "execution_count": 8,
   "id": "bcae1f0a",
   "metadata": {},
   "outputs": [
    {
     "data": {
      "text/html": [
       "<div>\n",
       "<style scoped>\n",
       "    .dataframe tbody tr th:only-of-type {\n",
       "        vertical-align: middle;\n",
       "    }\n",
       "\n",
       "    .dataframe tbody tr th {\n",
       "        vertical-align: top;\n",
       "    }\n",
       "\n",
       "    .dataframe thead th {\n",
       "        text-align: right;\n",
       "    }\n",
       "</style>\n",
       "<table border=\"1\" class=\"dataframe\">\n",
       "  <thead>\n",
       "    <tr style=\"text-align: right;\">\n",
       "      <th>While working</th>\n",
       "      <th>No</th>\n",
       "      <th>Yes</th>\n",
       "    </tr>\n",
       "    <tr>\n",
       "      <th>Music effects</th>\n",
       "      <th></th>\n",
       "      <th></th>\n",
       "    </tr>\n",
       "  </thead>\n",
       "  <tbody>\n",
       "    <tr>\n",
       "      <th>Improve</th>\n",
       "      <td>79</td>\n",
       "      <td>387</td>\n",
       "    </tr>\n",
       "    <tr>\n",
       "      <th>No effect</th>\n",
       "      <td>42</td>\n",
       "      <td>93</td>\n",
       "    </tr>\n",
       "    <tr>\n",
       "      <th>Worsen</th>\n",
       "      <td>5</td>\n",
       "      <td>10</td>\n",
       "    </tr>\n",
       "  </tbody>\n",
       "</table>\n",
       "</div>"
      ],
      "text/plain": [
       "While working  No  Yes\n",
       "Music effects         \n",
       "Improve        79  387\n",
       "No effect      42   93\n",
       "Worsen          5   10"
      ]
     },
     "execution_count": 8,
     "metadata": {},
     "output_type": "execute_result"
    }
   ],
   "source": [
    "# Mussic effects (c) and 'While working' (c)\n",
    "#contingency_table = pd.crosstab(df['Category1'], df['Category2'])\n",
    "\n",
    "musiceffects_ww = pd.crosstab(data_mmh['Music effects'], data_mmh['While working'])\n",
    "musiceffects_ww"
   ]
  },
  {
   "cell_type": "code",
   "execution_count": 7,
   "id": "34113f59",
   "metadata": {},
   "outputs": [
    {
     "name": "stdout",
     "output_type": "stream",
     "text": [
      "Chi-Square statistic: 14.463517496650542\n",
      "P-value: 0.0007232477331809323\n"
     ]
    }
   ],
   "source": [
    "# Test for checking relationship between categorical and categorical # Chi2\n",
    "\n",
    "from scipy import stats\n",
    "\n",
    "# Create a contingency table (cross-tabulation)\n",
    "musiceffects_ww = pd.crosstab(data_mmh['Music effects'], data_mmh['While working'])\n",
    "\n",
    "# Perform the Chi-Square test\n",
    "chi2, p, dof, expected = stats.chi2_contingency(musiceffects_ww)\n",
    "\n",
    "print(f\"Chi-Square statistic: {chi2}\")\n",
    "print(f\"P-value: {p}\")\n",
    "\n"
   ]
  },
  {
   "cell_type": "markdown",
   "id": "9a4b800c",
   "metadata": {},
   "source": [
    "* **p-value** (typically **< 0.05**) suggests that there is a **significant association** between the two categorical variables.\n",
    "\n",
    "* If the p-value is less than your chosen significance level, you can **reject the null hypothesis** and **conclude** that there is a **significant association between the two categorical variables**.\n",
    "\n",
    "We reject H0\n",
    "\n",
    "* Significant association\n",
    "* **Use column for model**"
   ]
  },
  {
   "cell_type": "code",
   "execution_count": 12,
   "id": "4011b6c1",
   "metadata": {},
   "outputs": [
    {
     "data": {
      "text/plain": [
       "<Axes: xlabel='While working', ylabel='Music effects'>"
      ]
     },
     "execution_count": 12,
     "metadata": {},
     "output_type": "execute_result"
    },
    {
     "data": {
      "image/png": "[encoded data removed]",
      "text/plain": [
       "<Figure size 640x480 with 2 Axes>"
      ]
     },
     "metadata": {},
     "output_type": "display_data"
    }
   ],
   "source": [
    "sns.heatmap(musiceffects_ww, annot=True)"
   ]
  },
  {
   "cell_type": "code",
   "execution_count": null,
   "id": "3cdb4bcf",
   "metadata": {},
   "outputs": [],
   "source": [
    "# Mussic effects (c) and 'Instrumentalist' (c)\n",
    "musiceffects_i = pd.crosstab(data_mmh['Music effects'], data_mmh['Instrumentalist'])\n",
    "musiceffects_i"
   ]
  },
  {
   "cell_type": "code",
   "execution_count": 11,
   "id": "29c85316",
   "metadata": {},
   "outputs": [
    {
     "name": "stdout",
     "output_type": "stream",
     "text": [
      "Chi-Square statistic: 5.533535050071529\n",
      "P-value: 0.06286488583105437\n"
     ]
    }
   ],
   "source": [
    "# Test for checking relationship between categorical and categorical # Chi2\n",
    "\n",
    "# Create a contingency table (cross-tabulation)\n",
    "musiceffects_i = pd.crosstab(data_mmh['Music effects'], data_mmh['Instrumentalist'])\n",
    "\n",
    "# Perform the Chi-Square test\n",
    "chi2, p, dof, expected = stats.chi2_contingency(musiceffects_i)\n",
    "\n",
    "print(f\"Chi-Square statistic: {chi2}\")\n",
    "print(f\"P-value: {p}\")\n"
   ]
  },
  {
   "cell_type": "markdown",
   "id": "a39d1ab5",
   "metadata": {},
   "source": [
    "**p-value** (typically < 0.05) suggests that there is a significant association between the two categorical variables.\n",
    "\n",
    "If the p-value is greater than the significance level, you **fail to reject the null hypothesis**, **suggesting that the two categorical variables are independent.**"
   ]
  },
  {
   "cell_type": "code",
   "execution_count": null,
   "id": "d1f16673",
   "metadata": {},
   "outputs": [],
   "source": [
    "# Mussic effects (c) and 'Composer' (c)\n",
    "musiceffects_c = pd.crosstab(data_mmh['Music effects'], data_mmh['Composer'])\n",
    "musiceffects_c"
   ]
  },
  {
   "cell_type": "code",
   "execution_count": 10,
   "id": "dbc8f02e",
   "metadata": {},
   "outputs": [
    {
     "name": "stdout",
     "output_type": "stream",
     "text": [
      "Chi-Square statistic: 4.218060926562638\n",
      "P-value: 0.12135556809388895\n"
     ]
    }
   ],
   "source": [
    "# Test for checking relationship between categorical and categorical # Chi2\n",
    "\n",
    "# Create a contingency table (cross-tabulation)\n",
    "musiceffects_c = pd.crosstab(data_mmh['Music effects'], data_mmh['Composer'])\n",
    "\n",
    "# Perform the Chi-Square test\n",
    "chi2, p, dof, expected = stats.chi2_contingency(musiceffects_c)\n",
    "\n",
    "print(f\"Chi-Square statistic: {chi2}\")\n",
    "print(f\"P-value: {p}\")"
   ]
  },
  {
   "cell_type": "markdown",
   "id": "47554209",
   "metadata": {},
   "source": [
    "**p-value** (typically < 0.05) suggests that there is a significant association between the two categorical variables.\n",
    "\n",
    "If the p-value is greater than the significance level, you **fail to reject the null hypothesis**, **suggesting that the two categorical variables are independent.**\n",
    "\n",
    "\n",
    "So should **not use it to try to predict music effects**"
   ]
  },
  {
   "cell_type": "markdown",
   "id": "e4401540",
   "metadata": {},
   "source": [
    "### 2) Connection **disease** and **music preference** | Chi2 (categorical vs. categorical):\n"
   ]
  },
  {
   "cell_type": "code",
   "execution_count": 22,
   "id": "a9b9c6fb",
   "metadata": {},
   "outputs": [
    {
     "data": {
      "text/html": [
       "<div>\n",
       "<style scoped>\n",
       "    .dataframe tbody tr th:only-of-type {\n",
       "        vertical-align: middle;\n",
       "    }\n",
       "\n",
       "    .dataframe tbody tr th {\n",
       "        vertical-align: top;\n",
       "    }\n",
       "\n",
       "    .dataframe thead th {\n",
       "        text-align: right;\n",
       "    }\n",
       "</style>\n",
       "<table border=\"1\" class=\"dataframe\">\n",
       "  <thead>\n",
       "    <tr style=\"text-align: right;\">\n",
       "      <th>Favorite genre</th>\n",
       "      <th>Classical</th>\n",
       "      <th>Country</th>\n",
       "      <th>EDM</th>\n",
       "      <th>Folk</th>\n",
       "      <th>Gospel</th>\n",
       "      <th>Hip hop</th>\n",
       "      <th>Jazz</th>\n",
       "      <th>K pop</th>\n",
       "      <th>Latin</th>\n",
       "      <th>Lofi</th>\n",
       "      <th>Metal</th>\n",
       "      <th>Pop</th>\n",
       "      <th>R&amp;B</th>\n",
       "      <th>Rap</th>\n",
       "      <th>Rock</th>\n",
       "      <th>Video game music</th>\n",
       "    </tr>\n",
       "    <tr>\n",
       "      <th>Music effects</th>\n",
       "      <th></th>\n",
       "      <th></th>\n",
       "      <th></th>\n",
       "      <th></th>\n",
       "      <th></th>\n",
       "      <th></th>\n",
       "      <th></th>\n",
       "      <th></th>\n",
       "      <th></th>\n",
       "      <th></th>\n",
       "      <th></th>\n",
       "      <th></th>\n",
       "      <th></th>\n",
       "      <th></th>\n",
       "      <th></th>\n",
       "      <th></th>\n",
       "    </tr>\n",
       "  </thead>\n",
       "  <tbody>\n",
       "    <tr>\n",
       "      <th>Improve</th>\n",
       "      <td>26</td>\n",
       "      <td>18</td>\n",
       "      <td>30</td>\n",
       "      <td>20</td>\n",
       "      <td>4</td>\n",
       "      <td>28</td>\n",
       "      <td>16</td>\n",
       "      <td>17</td>\n",
       "      <td>1</td>\n",
       "      <td>10</td>\n",
       "      <td>57</td>\n",
       "      <td>75</td>\n",
       "      <td>22</td>\n",
       "      <td>15</td>\n",
       "      <td>107</td>\n",
       "      <td>20</td>\n",
       "    </tr>\n",
       "    <tr>\n",
       "      <th>No effect</th>\n",
       "      <td>11</td>\n",
       "      <td>3</td>\n",
       "      <td>6</td>\n",
       "      <td>5</td>\n",
       "      <td>0</td>\n",
       "      <td>4</td>\n",
       "      <td>3</td>\n",
       "      <td>4</td>\n",
       "      <td>1</td>\n",
       "      <td>0</td>\n",
       "      <td>20</td>\n",
       "      <td>20</td>\n",
       "      <td>8</td>\n",
       "      <td>4</td>\n",
       "      <td>35</td>\n",
       "      <td>11</td>\n",
       "    </tr>\n",
       "    <tr>\n",
       "      <th>Worsen</th>\n",
       "      <td>1</td>\n",
       "      <td>0</td>\n",
       "      <td>0</td>\n",
       "      <td>0</td>\n",
       "      <td>0</td>\n",
       "      <td>0</td>\n",
       "      <td>0</td>\n",
       "      <td>0</td>\n",
       "      <td>0</td>\n",
       "      <td>0</td>\n",
       "      <td>0</td>\n",
       "      <td>2</td>\n",
       "      <td>0</td>\n",
       "      <td>1</td>\n",
       "      <td>7</td>\n",
       "      <td>4</td>\n",
       "    </tr>\n",
       "  </tbody>\n",
       "</table>\n",
       "</div>"
      ],
      "text/plain": [
       "Favorite genre  Classical  Country  EDM  Folk  Gospel  Hip hop  Jazz  K pop  \\\n",
       "Music effects                                                                 \n",
       "Improve                26       18   30    20       4       28    16     17   \n",
       "No effect              11        3    6     5       0        4     3      4   \n",
       "Worsen                  1        0    0     0       0        0     0      0   \n",
       "\n",
       "Favorite genre  Latin  Lofi  Metal  Pop  R&B  Rap  Rock  Video game music  \n",
       "Music effects                                                              \n",
       "Improve             1    10     57   75   22   15   107                20  \n",
       "No effect           1     0     20   20    8    4    35                11  \n",
       "Worsen              0     0      0    2    0    1     7                 4  "
      ]
     },
     "execution_count": 22,
     "metadata": {},
     "output_type": "execute_result"
    }
   ],
   "source": [
    "musiceffects_fg = pd.crosstab(data_mmh['Music effects'], data_mmh['Favorite genre'])\n",
    "musiceffects_fg "
   ]
  },
  {
   "cell_type": "code",
   "execution_count": 26,
   "id": "f2416b37",
   "metadata": {},
   "outputs": [
    {
     "name": "stdout",
     "output_type": "stream",
     "text": [
      "Chi-Square statistic: 37.08590408808095\n",
      "P-value: 0.1746539809839702\n"
     ]
    }
   ],
   "source": [
    "# Test for checking relationship between categorical and categorical # Chi2\n",
    "\n",
    "# Create a contingency table (cross-tabulation)\n",
    "musiceffects_fg = pd.crosstab(data_mmh['Music effects'], data_mmh['Favorite genre'])\n",
    "\n",
    "# Perform the Chi-Square test\n",
    "chi2, p, dof, expected = stats.chi2_contingency(musiceffects_fg)\n",
    "\n",
    "print(f\"Chi-Square statistic: {chi2}\")\n",
    "print(f\"P-value: {p}\")\n"
   ]
  },
  {
   "cell_type": "markdown",
   "id": "d51a7e56",
   "metadata": {},
   "source": [
    "**p-value** (typically < 0.05) suggests that there is a significant association between the two categorical variables.\n",
    "\n",
    "If the p-value is greater than the significance level, you **fail to reject the null hypothesis**, **suggesting that the two categorical variables are independent.**\n",
    "______"
   ]
  },
  {
   "cell_type": "code",
   "execution_count": 23,
   "id": "4ad2cd1c",
   "metadata": {},
   "outputs": [
    {
     "data": {
      "text/html": [
       "<div>\n",
       "<style scoped>\n",
       "    .dataframe tbody tr th:only-of-type {\n",
       "        vertical-align: middle;\n",
       "    }\n",
       "\n",
       "    .dataframe tbody tr th {\n",
       "        vertical-align: top;\n",
       "    }\n",
       "\n",
       "    .dataframe thead th {\n",
       "        text-align: right;\n",
       "    }\n",
       "</style>\n",
       "<table border=\"1\" class=\"dataframe\">\n",
       "  <thead>\n",
       "    <tr style=\"text-align: right;\">\n",
       "      <th>Exploratory</th>\n",
       "      <th>No</th>\n",
       "      <th>Yes</th>\n",
       "    </tr>\n",
       "    <tr>\n",
       "      <th>Music effects</th>\n",
       "      <th></th>\n",
       "      <th></th>\n",
       "    </tr>\n",
       "  </thead>\n",
       "  <tbody>\n",
       "    <tr>\n",
       "      <th>Improve</th>\n",
       "      <td>107</td>\n",
       "      <td>359</td>\n",
       "    </tr>\n",
       "    <tr>\n",
       "      <th>No effect</th>\n",
       "      <td>52</td>\n",
       "      <td>83</td>\n",
       "    </tr>\n",
       "    <tr>\n",
       "      <th>Worsen</th>\n",
       "      <td>6</td>\n",
       "      <td>9</td>\n",
       "    </tr>\n",
       "  </tbody>\n",
       "</table>\n",
       "</div>"
      ],
      "text/plain": [
       "Exploratory     No  Yes\n",
       "Music effects          \n",
       "Improve        107  359\n",
       "No effect       52   83\n",
       "Worsen           6    9"
      ]
     },
     "execution_count": 23,
     "metadata": {},
     "output_type": "execute_result"
    }
   ],
   "source": [
    "musiceffects_e = pd.crosstab(data_mmh['Music effects'], data_mmh['Exploratory'])\n",
    "musiceffects_e "
   ]
  },
  {
   "cell_type": "code",
   "execution_count": 27,
   "id": "a32e3dc5",
   "metadata": {},
   "outputs": [
    {
     "name": "stdout",
     "output_type": "stream",
     "text": [
      "Chi-Square statistic: 14.287262045534138\n",
      "P-value: 0.0007898788151872835\n"
     ]
    }
   ],
   "source": [
    "# Test for checking relationship between categorical and categorical # Chi2\n",
    "\n",
    "# Create a contingency table (cross-tabulation)\n",
    "musiceffects_e = pd.crosstab(data_mmh['Music effects'], data_mmh['Exploratory'])\n",
    "\n",
    "# Perform the Chi-Square test\n",
    "chi2, p, dof, expected = stats.chi2_contingency(musiceffects_e)\n",
    "\n",
    "print(f\"Chi-Square statistic: {chi2}\")\n",
    "print(f\"P-value: {p}\")"
   ]
  },
  {
   "cell_type": "markdown",
   "id": "b2de8755",
   "metadata": {},
   "source": [
    "* **p-value** (typically **< 0.05**) suggests that there is a **significant association** between the two categorical variables.\n",
    "\n",
    "* If the p-value is less than your chosen significance level, you can **reject the null hypothesis** and **conclude** that there is a **significant association between the two categorical variables**.\n",
    "\n",
    "We reject H0\n",
    "\n",
    "* Significant association\n",
    "* **Use column for model**"
   ]
  },
  {
   "cell_type": "code",
   "execution_count": 29,
   "id": "7745a884",
   "metadata": {},
   "outputs": [
    {
     "data": {
      "text/plain": [
       "<Axes: xlabel='Exploratory', ylabel='Music effects'>"
      ]
     },
     "execution_count": 29,
     "metadata": {},
     "output_type": "execute_result"
    },
    {
     "data": {
      "image/png": "[encoded data removed]",
      "text/plain": [
       "<Figure size 640x480 with 2 Axes>"
      ]
     },
     "metadata": {},
     "output_type": "display_data"
    }
   ],
   "source": [
    "sns.heatmap(musiceffects_e, annot=True)"
   ]
  },
  {
   "cell_type": "code",
   "execution_count": 24,
   "id": "f92ec43c",
   "metadata": {},
   "outputs": [
    {
     "data": {
      "text/html": [
       "<div>\n",
       "<style scoped>\n",
       "    .dataframe tbody tr th:only-of-type {\n",
       "        vertical-align: middle;\n",
       "    }\n",
       "\n",
       "    .dataframe tbody tr th {\n",
       "        vertical-align: top;\n",
       "    }\n",
       "\n",
       "    .dataframe thead th {\n",
       "        text-align: right;\n",
       "    }\n",
       "</style>\n",
       "<table border=\"1\" class=\"dataframe\">\n",
       "  <thead>\n",
       "    <tr style=\"text-align: right;\">\n",
       "      <th>Foreign languages</th>\n",
       "      <th>No</th>\n",
       "      <th>Yes</th>\n",
       "    </tr>\n",
       "    <tr>\n",
       "      <th>Music effects</th>\n",
       "      <th></th>\n",
       "      <th></th>\n",
       "    </tr>\n",
       "  </thead>\n",
       "  <tbody>\n",
       "    <tr>\n",
       "      <th>Improve</th>\n",
       "      <td>202</td>\n",
       "      <td>264</td>\n",
       "    </tr>\n",
       "    <tr>\n",
       "      <th>No effect</th>\n",
       "      <td>60</td>\n",
       "      <td>75</td>\n",
       "    </tr>\n",
       "    <tr>\n",
       "      <th>Worsen</th>\n",
       "      <td>7</td>\n",
       "      <td>8</td>\n",
       "    </tr>\n",
       "  </tbody>\n",
       "</table>\n",
       "</div>"
      ],
      "text/plain": [
       "Foreign languages   No  Yes\n",
       "Music effects              \n",
       "Improve            202  264\n",
       "No effect           60   75\n",
       "Worsen               7    8"
      ]
     },
     "execution_count": 24,
     "metadata": {},
     "output_type": "execute_result"
    }
   ],
   "source": [
    "musiceffects_fl = pd.crosstab(data_mmh['Music effects'], data_mmh['Foreign languages'])\n",
    "musiceffects_fl "
   ]
  },
  {
   "cell_type": "code",
   "execution_count": 28,
   "id": "2c97d802",
   "metadata": {},
   "outputs": [
    {
     "name": "stdout",
     "output_type": "stream",
     "text": [
      "Chi-Square statistic: 0.10735832280522412\n",
      "P-value: 0.9477361280582856\n"
     ]
    }
   ],
   "source": [
    "# Test for checking relationship between categorical and categorical # Chi2\n",
    "\n",
    "# Create a contingency table (cross-tabulation)\n",
    "musiceffects_fl = pd.crosstab(data_mmh['Music effects'], data_mmh['Foreign languages'])\n",
    "\n",
    "# Perform the Chi-Square test\n",
    "chi2, p, dof, expected = stats.chi2_contingency(musiceffects_fl)\n",
    "\n",
    "print(f\"Chi-Square statistic: {chi2}\")\n",
    "print(f\"P-value: {p}\")"
   ]
  },
  {
   "cell_type": "markdown",
   "id": "7d838083",
   "metadata": {},
   "source": [
    "**p-value** (typically < 0.05) suggests that there is a significant association between the two categorical variables.\n",
    "\n",
    "If the p-value is greater than the significance level, you **fail to reject the null hypothesis**, **suggesting that the two categorical variables are independent.**\n",
    "______"
   ]
  },
  {
   "cell_type": "markdown",
   "id": "beaa475c",
   "metadata": {},
   "source": [
    "### 3) Connection **disease** and **music genres** | Chi2 (categorical vs. categorical):\n"
   ]
  },
  {
   "cell_type": "code",
   "execution_count": null,
   "id": "c27a2bf9",
   "metadata": {},
   "outputs": [],
   "source": [
    "musiceffects_fg = pd.crosstab(data_mmh['Music effects'], data_mmh['Favorite genre'])\n",
    "musiceffects_fg "
   ]
  },
  {
   "cell_type": "code",
   "execution_count": 31,
   "id": "59e79b4f",
   "metadata": {},
   "outputs": [
    {
     "name": "stdout",
     "output_type": "stream",
     "text": [
      "Chi-Square statistic: 37.08590408808095\n",
      "P-value: 0.1746539809839702\n"
     ]
    }
   ],
   "source": [
    "# Test for checking relationship between categorical and categorical # Chi2\n",
    "\n",
    "# Create a contingency table (cross-tabulation)\n",
    "musiceffects_fg = pd.crosstab(data_mmh['Music effects'], data_mmh['Favorite genre'])\n",
    "\n",
    "# Perform the Chi-Square test\n",
    "chi2, p, dof, expected = stats.chi2_contingency(musiceffects_fg)\n",
    "\n",
    "print(f\"Chi-Square statistic: {chi2}\")\n",
    "print(f\"P-value: {p}\")"
   ]
  },
  {
   "cell_type": "code",
   "execution_count": null,
   "id": "a870bf04",
   "metadata": {},
   "outputs": [],
   "source": [
    "musiceffects_fcl = pd.crosstab(data_mmh['Music effects'], data_mmh['Frequency [Classical]'])\n",
    "musiceffects_fcl"
   ]
  },
  {
   "cell_type": "code",
   "execution_count": 32,
   "id": "3280c252",
   "metadata": {},
   "outputs": [
    {
     "name": "stdout",
     "output_type": "stream",
     "text": [
      "Chi-Square statistic: 2.3170760282976772\n",
      "P-value: 0.8883518424318094\n"
     ]
    }
   ],
   "source": [
    "# Test for checking relationship between categorical and categorical # Chi2\n",
    "\n",
    "# Create a contingency table (cross-tabulation)\n",
    "musiceffects_fcl = pd.crosstab(data_mmh['Music effects'], data_mmh['Frequency [Classical]'])\n",
    "\n",
    "# Perform the Chi-Square test\n",
    "chi2, p, dof, expected = stats.chi2_contingency(musiceffects_fcl)\n",
    "\n",
    "print(f\"Chi-Square statistic: {chi2}\")\n",
    "print(f\"P-value: {p}\")"
   ]
  },
  {
   "cell_type": "code",
   "execution_count": null,
   "id": "c217d726",
   "metadata": {},
   "outputs": [],
   "source": [
    "musiceffects_fco = pd.crosstab(data_mmh['Music effects'], data_mmh['Frequency [Country]'])\n",
    "musiceffects_fco"
   ]
  },
  {
   "cell_type": "code",
   "execution_count": 33,
   "id": "faef8fd9",
   "metadata": {},
   "outputs": [
    {
     "name": "stdout",
     "output_type": "stream",
     "text": [
      "Chi-Square statistic: 5.953177509810315\n",
      "P-value: 0.42845559033298963\n"
     ]
    }
   ],
   "source": [
    "# Test for checking relationship between categorical and categorical # Chi2\n",
    "\n",
    "# Create a contingency table (cross-tabulation)\n",
    "musiceffects_fco = pd.crosstab(data_mmh['Music effects'], data_mmh['Frequency [Country]'])\n",
    "\n",
    "# Perform the Chi-Square test\n",
    "chi2, p, dof, expected = stats.chi2_contingency(musiceffects_fco)\n",
    "\n",
    "print(f\"Chi-Square statistic: {chi2}\")\n",
    "print(f\"P-value: {p}\")"
   ]
  },
  {
   "cell_type": "code",
   "execution_count": null,
   "id": "f6db5ea1",
   "metadata": {},
   "outputs": [],
   "source": [
    "musiceffects_fedm = pd.crosstab(data_mmh['Music effects'], data_mmh['Frequency [EDM]'])\n",
    "musiceffects_fedm"
   ]
  },
  {
   "cell_type": "code",
   "execution_count": 34,
   "id": "8fdf0c02",
   "metadata": {},
   "outputs": [
    {
     "name": "stdout",
     "output_type": "stream",
     "text": [
      "Chi-Square statistic: 8.748554578183645\n",
      "P-value: 0.1882208034458685\n"
     ]
    }
   ],
   "source": [
    "# Test for checking relationship between categorical and categorical # Chi2\n",
    "\n",
    "# Create a contingency table (cross-tabulation)\n",
    "musiceffects_fedm = pd.crosstab(data_mmh['Music effects'], data_mmh['Frequency [EDM]'])\n",
    "\n",
    "# Perform the Chi-Square test\n",
    "chi2, p, dof, expected = stats.chi2_contingency(musiceffects_fedm)\n",
    "\n",
    "print(f\"Chi-Square statistic: {chi2}\")\n",
    "print(f\"P-value: {p}\")"
   ]
  },
  {
   "cell_type": "code",
   "execution_count": null,
   "id": "7541cd54",
   "metadata": {},
   "outputs": [],
   "source": [
    "musiceffects_ff = pd.crosstab(data_mmh['Music effects'], data_mmh['Frequency [Folk]'])\n",
    "musiceffects_ff"
   ]
  },
  {
   "cell_type": "code",
   "execution_count": 35,
   "id": "d15b32db",
   "metadata": {},
   "outputs": [
    {
     "name": "stdout",
     "output_type": "stream",
     "text": [
      "Chi-Square statistic: 3.0551762868125794\n",
      "P-value: 0.8018904542214415\n"
     ]
    }
   ],
   "source": [
    "# Test for checking relationship between categorical and categorical # Chi2\n",
    "\n",
    "# Create a contingency table (cross-tabulation)\n",
    "musiceffects_ff = pd.crosstab(data_mmh['Music effects'], data_mmh['Frequency [Folk]'])\n",
    "\n",
    "# Perform the Chi-Square test\n",
    "chi2, p, dof, expected = stats.chi2_contingency(musiceffects_ff)\n",
    "\n",
    "print(f\"Chi-Square statistic: {chi2}\")\n",
    "print(f\"P-value: {p}\")"
   ]
  },
  {
   "cell_type": "code",
   "execution_count": null,
   "id": "0b5c6291",
   "metadata": {},
   "outputs": [],
   "source": [
    "musiceffects_fgo = pd.crosstab(data_mmh['Music effects'], data_mmh['Frequency [Gospel]'])\n",
    "musiceffects_fgo"
   ]
  },
  {
   "cell_type": "code",
   "execution_count": 36,
   "id": "d7bb1119",
   "metadata": {},
   "outputs": [
    {
     "name": "stdout",
     "output_type": "stream",
     "text": [
      "Chi-Square statistic: 9.37577491654745\n",
      "P-value: 0.15352144925024333\n"
     ]
    }
   ],
   "source": [
    "# Test for checking relationship between categorical and categorical # Chi2\n",
    "\n",
    "# Create a contingency table (cross-tabulation)\n",
    "musiceffects_fgo = pd.crosstab(data_mmh['Music effects'], data_mmh['Frequency [Gospel]'])\n",
    "\n",
    "# Perform the Chi-Square test\n",
    "chi2, p, dof, expected = stats.chi2_contingency(musiceffects_fgo)\n",
    "\n",
    "print(f\"Chi-Square statistic: {chi2}\")\n",
    "print(f\"P-value: {p}\")"
   ]
  },
  {
   "cell_type": "code",
   "execution_count": null,
   "id": "b21592d9",
   "metadata": {},
   "outputs": [],
   "source": [
    "musiceffects_fhh = pd.crosstab(data_mmh['Music effects'], data_mmh['Frequency [Hip hop]'])\n",
    "musiceffects_fhh"
   ]
  },
  {
   "cell_type": "code",
   "execution_count": 37,
   "id": "a3fd550a",
   "metadata": {},
   "outputs": [
    {
     "name": "stdout",
     "output_type": "stream",
     "text": [
      "Chi-Square statistic: 7.584688370652375\n",
      "P-value: 0.2701354648804667\n"
     ]
    }
   ],
   "source": [
    "# Test for checking relationship between categorical and categorical # Chi2\n",
    "\n",
    "# Create a contingency table (cross-tabulation)\n",
    "musiceffects_fhh = pd.crosstab(data_mmh['Music effects'], data_mmh['Frequency [Hip hop]'])\n",
    "\n",
    "# Perform the Chi-Square test\n",
    "chi2, p, dof, expected = stats.chi2_contingency(musiceffects_fhh)\n",
    "\n",
    "print(f\"Chi-Square statistic: {chi2}\")\n",
    "print(f\"P-value: {p}\")"
   ]
  },
  {
   "cell_type": "code",
   "execution_count": null,
   "id": "c4e20b2a",
   "metadata": {},
   "outputs": [],
   "source": [
    "musiceffects_fja = pd.crosstab(data_mmh['Music effects'], data_mmh['Frequency [Jazz]'])\n",
    "musiceffects_fja"
   ]
  },
  {
   "cell_type": "code",
   "execution_count": 38,
   "id": "8e5166a9",
   "metadata": {},
   "outputs": [
    {
     "name": "stdout",
     "output_type": "stream",
     "text": [
      "Chi-Square statistic: 2.862609066243372\n",
      "P-value: 0.8258828106852967\n"
     ]
    }
   ],
   "source": [
    "# Test for checking relationship between categorical and categorical # Chi2\n",
    "\n",
    "# Create a contingency table (cross-tabulation)\n",
    "musiceffects_fja = pd.crosstab(data_mmh['Music effects'], data_mmh['Frequency [Jazz]'])\n",
    "\n",
    "# Perform the Chi-Square test\n",
    "chi2, p, dof, expected = stats.chi2_contingency(musiceffects_fja)\n",
    "\n",
    "print(f\"Chi-Square statistic: {chi2}\")\n",
    "print(f\"P-value: {p}\")"
   ]
  },
  {
   "cell_type": "code",
   "execution_count": null,
   "id": "92f673c7",
   "metadata": {},
   "outputs": [],
   "source": [
    "musiceffects_fkp = pd.crosstab(data_mmh['Music effects'], data_mmh['Frequency [K pop]'])\n",
    "musiceffects_fkp"
   ]
  },
  {
   "cell_type": "code",
   "execution_count": 39,
   "id": "cee24de3",
   "metadata": {},
   "outputs": [
    {
     "name": "stdout",
     "output_type": "stream",
     "text": [
      "Chi-Square statistic: 9.272622793650186\n",
      "P-value: 0.15881647957069922\n"
     ]
    }
   ],
   "source": [
    "# Test for checking relationship between categorical and categorical # Chi2\n",
    "\n",
    "# Create a contingency table (cross-tabulation)\n",
    "musiceffects_fkp = pd.crosstab(data_mmh['Music effects'], data_mmh['Frequency [K pop]'])\n",
    "\n",
    "# Perform the Chi-Square test\n",
    "chi2, p, dof, expected = stats.chi2_contingency(musiceffects_fkp)\n",
    "\n",
    "print(f\"Chi-Square statistic: {chi2}\")\n",
    "print(f\"P-value: {p}\")"
   ]
  },
  {
   "cell_type": "code",
   "execution_count": null,
   "id": "a444cdd2",
   "metadata": {},
   "outputs": [],
   "source": [
    "musiceffects_fla = pd.crosstab(data_mmh['Music effects'], data_mmh['Frequency [Latin]'])\n",
    "musiceffects_fla"
   ]
  },
  {
   "cell_type": "code",
   "execution_count": 40,
   "id": "336656cb",
   "metadata": {},
   "outputs": [
    {
     "name": "stdout",
     "output_type": "stream",
     "text": [
      "Chi-Square statistic: 4.7337528230370225\n",
      "P-value: 0.5783862470351306\n"
     ]
    }
   ],
   "source": [
    "# Test for checking relationship between categorical and categorical # Chi2\n",
    "\n",
    "# Create a contingency table (cross-tabulation)\n",
    "musiceffects_fla = pd.crosstab(data_mmh['Music effects'], data_mmh['Frequency [Latin]'])\n",
    "\n",
    "# Perform the Chi-Square test\n",
    "chi2, p, dof, expected = stats.chi2_contingency(musiceffects_fla)\n",
    "\n",
    "print(f\"Chi-Square statistic: {chi2}\")\n",
    "print(f\"P-value: {p}\")"
   ]
  },
  {
   "cell_type": "code",
   "execution_count": null,
   "id": "60250037",
   "metadata": {},
   "outputs": [],
   "source": [
    "musiceffects_flo = pd.crosstab(data_mmh['Music effects'], data_mmh['Frequency [Lofi]'])\n",
    "musiceffects_flo"
   ]
  },
  {
   "cell_type": "code",
   "execution_count": 41,
   "id": "7d3a9bca",
   "metadata": {},
   "outputs": [
    {
     "name": "stdout",
     "output_type": "stream",
     "text": [
      "Chi-Square statistic: 8.632922257816553\n",
      "P-value: 0.19529885887186416\n"
     ]
    }
   ],
   "source": [
    "# Test for checking relationship between categorical and categorical # Chi2\n",
    "\n",
    "# Create a contingency table (cross-tabulation)\n",
    "musiceffects_flo = pd.crosstab(data_mmh['Music effects'], data_mmh['Frequency [Lofi]'])\n",
    "\n",
    "# Perform the Chi-Square test\n",
    "chi2, p, dof, expected = stats.chi2_contingency(musiceffects_flo)\n",
    "\n",
    "print(f\"Chi-Square statistic: {chi2}\")\n",
    "print(f\"P-value: {p}\")"
   ]
  },
  {
   "cell_type": "code",
   "execution_count": null,
   "id": "b7aed3fc",
   "metadata": {},
   "outputs": [],
   "source": [
    "musiceffects_fme = pd.crosstab(data_mmh['Music effects'], data_mmh['Frequency [Metal]'])\n",
    "musiceffects_fme"
   ]
  },
  {
   "cell_type": "code",
   "execution_count": 42,
   "id": "00eea029",
   "metadata": {},
   "outputs": [
    {
     "name": "stdout",
     "output_type": "stream",
     "text": [
      "Chi-Square statistic: 2.05254175715444\n",
      "P-value: 0.9148034304245124\n"
     ]
    }
   ],
   "source": [
    "# Test for checking relationship between categorical and categorical # Chi2\n",
    "\n",
    "# Create a contingency table (cross-tabulation)\n",
    "musiceffects_fme = pd.crosstab(data_mmh['Music effects'], data_mmh['Frequency [Metal]'])\n",
    "\n",
    "# Perform the Chi-Square test\n",
    "chi2, p, dof, expected = stats.chi2_contingency(musiceffects_fme)\n",
    "\n",
    "print(f\"Chi-Square statistic: {chi2}\")\n",
    "print(f\"P-value: {p}\")"
   ]
  },
  {
   "cell_type": "code",
   "execution_count": null,
   "id": "b326a692",
   "metadata": {},
   "outputs": [],
   "source": [
    "musiceffects_fpo = pd.crosstab(data_mmh['Music effects'], data_mmh['Frequency [Pop]'])\n",
    "musiceffects_fpo"
   ]
  },
  {
   "cell_type": "code",
   "execution_count": 43,
   "id": "f9da1f07",
   "metadata": {},
   "outputs": [
    {
     "name": "stdout",
     "output_type": "stream",
     "text": [
      "Chi-Square statistic: 10.608517402412957\n",
      "P-value: 0.10125580909921729\n"
     ]
    }
   ],
   "source": [
    "# Test for checking relationship between categorical and categorical # Chi2\n",
    "\n",
    "# Create a contingency table (cross-tabulation)\n",
    "musiceffects_fpo = pd.crosstab(data_mmh['Music effects'], data_mmh['Frequency [Pop]'])\n",
    "\n",
    "# Perform the Chi-Square test\n",
    "chi2, p, dof, expected = stats.chi2_contingency(musiceffects_fpo)\n",
    "\n",
    "print(f\"Chi-Square statistic: {chi2}\")\n",
    "print(f\"P-value: {p}\")"
   ]
  },
  {
   "cell_type": "code",
   "execution_count": null,
   "id": "a3cb5eab",
   "metadata": {},
   "outputs": [],
   "source": [
    "musiceffects_frb = pd.crosstab(data_mmh['Music effects'], data_mmh['Frequency [R&B]'])\n",
    "musiceffects_frb"
   ]
  },
  {
   "cell_type": "code",
   "execution_count": 45,
   "id": "c21b203c",
   "metadata": {},
   "outputs": [
    {
     "name": "stdout",
     "output_type": "stream",
     "text": [
      "Chi-Square statistic: 10.683893207758276\n",
      "P-value: 0.09865136073971872\n"
     ]
    }
   ],
   "source": [
    "# Test for checking relationship between categorical and categorical # Chi2\n",
    "\n",
    "# Create a contingency table (cross-tabulation)\n",
    "musiceffects_frb = pd.crosstab(data_mmh['Music effects'], data_mmh['Frequency [R&B]'])\n",
    "\n",
    "# Perform the Chi-Square test\n",
    "chi2, p, dof, expected = stats.chi2_contingency(musiceffects_frb)\n",
    "\n",
    "print(f\"Chi-Square statistic: {chi2}\")\n",
    "print(f\"P-value: {p}\")"
   ]
  },
  {
   "cell_type": "code",
   "execution_count": null,
   "id": "5882e873",
   "metadata": {},
   "outputs": [],
   "source": [
    "musiceffects_fra = pd.crosstab(data_mmh['Music effects'], data_mmh['Frequency [Rap]'])\n",
    "musiceffects_fra"
   ]
  },
  {
   "cell_type": "code",
   "execution_count": 46,
   "id": "d4e286fb",
   "metadata": {},
   "outputs": [
    {
     "name": "stdout",
     "output_type": "stream",
     "text": [
      "Chi-Square statistic: 2.437068067678863\n",
      "P-value: 0.8754431975993497\n"
     ]
    }
   ],
   "source": [
    "# Test for checking relationship between categorical and categorical # Chi2\n",
    "\n",
    "# Create a contingency table (cross-tabulation)\n",
    "musiceffects_fra = pd.crosstab(data_mmh['Music effects'], data_mmh['Frequency [Rap]'])\n",
    "\n",
    "# Perform the Chi-Square test\n",
    "chi2, p, dof, expected = stats.chi2_contingency(musiceffects_fra)\n",
    "\n",
    "print(f\"Chi-Square statistic: {chi2}\")\n",
    "print(f\"P-value: {p}\")"
   ]
  },
  {
   "cell_type": "code",
   "execution_count": null,
   "id": "f08da43d",
   "metadata": {},
   "outputs": [],
   "source": [
    "musiceffects_fro = pd.crosstab(data_mmh['Music effects'], data_mmh['Frequency [Rock]'])\n",
    "musiceffects_fro"
   ]
  },
  {
   "cell_type": "code",
   "execution_count": 47,
   "id": "49df7448",
   "metadata": {},
   "outputs": [
    {
     "name": "stdout",
     "output_type": "stream",
     "text": [
      "Chi-Square statistic: 3.3957279536086786\n",
      "P-value: 0.7577869631162514\n"
     ]
    }
   ],
   "source": [
    "# Test for checking relationship between categorical and categorical # Chi2\n",
    "\n",
    "# Create a contingency table (cross-tabulation)\n",
    "musiceffects_fro = pd.crosstab(data_mmh['Music effects'], data_mmh['Frequency [Rock]'])\n",
    "\n",
    "# Perform the Chi-Square test\n",
    "chi2, p, dof, expected = stats.chi2_contingency(musiceffects_fro)\n",
    "\n",
    "print(f\"Chi-Square statistic: {chi2}\")\n",
    "print(f\"P-value: {p}\")"
   ]
  },
  {
   "cell_type": "code",
   "execution_count": null,
   "id": "0835074a",
   "metadata": {},
   "outputs": [],
   "source": [
    "musiceffects_fvgm = pd.crosstab(data_mmh['Music effects'], data_mmh['Frequency [Video game music]'])\n",
    "musiceffects_fvgm"
   ]
  },
  {
   "cell_type": "code",
   "execution_count": 48,
   "id": "011d283a",
   "metadata": {},
   "outputs": [
    {
     "name": "stdout",
     "output_type": "stream",
     "text": [
      "Chi-Square statistic: 9.554013212409473\n",
      "P-value: 0.14473381453389528\n"
     ]
    }
   ],
   "source": [
    "# Test for checking relationship between categorical and categorical # Chi2\n",
    "\n",
    "# Create a contingency table (cross-tabulation)\n",
    "musiceffects_fvgm = pd.crosstab(data_mmh['Music effects'], data_mmh['Frequency [Video game music]'])\n",
    "\n",
    "# Perform the Chi-Square test\n",
    "chi2, p, dof, expected = stats.chi2_contingency(musiceffects_fvgm)\n",
    "\n",
    "print(f\"Chi-Square statistic: {chi2}\")\n",
    "print(f\"P-value: {p}\")"
   ]
  },
  {
   "cell_type": "markdown",
   "id": "52577be4",
   "metadata": {},
   "source": [
    "**p-value** (typically < 0.05) suggests that there is a significant association between the two categorical variables.\n",
    "\n",
    "If the p-value is greater than the significance level, you **fail to reject the null hypothesis**, **suggesting that the two categorical variables are independent.**"
   ]
  },
  {
   "cell_type": "markdown",
   "id": "bdf5fc72",
   "metadata": {},
   "source": [
    "### 5) Connections **disease** and **age** | Chi2 (categorical vs. categorical):"
   ]
  },
  {
   "cell_type": "code",
   "execution_count": 136,
   "id": "824ad530",
   "metadata": {},
   "outputs": [
    {
     "data": {
      "text/html": [
       "<div>\n",
       "<style scoped>\n",
       "    .dataframe tbody tr th:only-of-type {\n",
       "        vertical-align: middle;\n",
       "    }\n",
       "\n",
       "    .dataframe tbody tr th {\n",
       "        vertical-align: top;\n",
       "    }\n",
       "\n",
       "    .dataframe thead th {\n",
       "        text-align: right;\n",
       "    }\n",
       "</style>\n",
       "<table border=\"1\" class=\"dataframe\">\n",
       "  <thead>\n",
       "    <tr style=\"text-align: right;\">\n",
       "      <th>Music effects</th>\n",
       "      <th>Improve</th>\n",
       "      <th>No effect</th>\n",
       "      <th>Worsen</th>\n",
       "    </tr>\n",
       "    <tr>\n",
       "      <th>Age group</th>\n",
       "      <th></th>\n",
       "      <th></th>\n",
       "      <th></th>\n",
       "    </tr>\n",
       "  </thead>\n",
       "  <tbody>\n",
       "    <tr>\n",
       "      <th>&lt;10</th>\n",
       "      <td>1</td>\n",
       "      <td>0</td>\n",
       "      <td>0</td>\n",
       "    </tr>\n",
       "    <tr>\n",
       "      <th>10's</th>\n",
       "      <td>239</td>\n",
       "      <td>50</td>\n",
       "      <td>6</td>\n",
       "    </tr>\n",
       "    <tr>\n",
       "      <th>20's</th>\n",
       "      <td>147</td>\n",
       "      <td>51</td>\n",
       "      <td>4</td>\n",
       "    </tr>\n",
       "    <tr>\n",
       "      <th>30's</th>\n",
       "      <td>38</td>\n",
       "      <td>19</td>\n",
       "      <td>5</td>\n",
       "    </tr>\n",
       "    <tr>\n",
       "      <th>40's</th>\n",
       "      <td>17</td>\n",
       "      <td>5</td>\n",
       "      <td>0</td>\n",
       "    </tr>\n",
       "    <tr>\n",
       "      <th>50's</th>\n",
       "      <td>11</td>\n",
       "      <td>8</td>\n",
       "      <td>0</td>\n",
       "    </tr>\n",
       "    <tr>\n",
       "      <th>60's</th>\n",
       "      <td>9</td>\n",
       "      <td>1</td>\n",
       "      <td>0</td>\n",
       "    </tr>\n",
       "    <tr>\n",
       "      <th>70's</th>\n",
       "      <td>4</td>\n",
       "      <td>0</td>\n",
       "      <td>0</td>\n",
       "    </tr>\n",
       "    <tr>\n",
       "      <th>80's</th>\n",
       "      <td>0</td>\n",
       "      <td>1</td>\n",
       "      <td>0</td>\n",
       "    </tr>\n",
       "  </tbody>\n",
       "</table>\n",
       "</div>"
      ],
      "text/plain": [
       "Music effects  Improve  No effect  Worsen\n",
       "Age group                                \n",
       "<10                  1          0       0\n",
       "10's               239         50       6\n",
       "20's               147         51       4\n",
       "30's                38         19       5\n",
       "40's                17          5       0\n",
       "50's                11          8       0\n",
       "60's                 9          1       0\n",
       "70's                 4          0       0\n",
       "80's                 0          1       0"
      ]
     },
     "execution_count": 136,
     "metadata": {},
     "output_type": "execute_result"
    }
   ],
   "source": [
    "musiceffects_age = pd.crosstab(data_mmh['Age group'], data_mmh['Music effects']) #categorical vs. categorical\n",
    "musiceffects_age"
   ]
  },
  {
   "cell_type": "code",
   "execution_count": 165,
   "id": "a76167fb",
   "metadata": {},
   "outputs": [
    {
     "name": "stdout",
     "output_type": "stream",
     "text": [
      "Chi-Square statistic: 29.643448334339475\n",
      "P-value: 0.01994138082664598\n"
     ]
    }
   ],
   "source": [
    "# Test for checking relationship between categorical and categorical # Chi2\n",
    "\n",
    "# Create a contingency table (cross-tabulation)\n",
    "musiceffects_age = pd.crosstab(data_mmh['Age group'], data_mmh['Music effects'])\n",
    "\n",
    "# Perform the Chi-Square test\n",
    "chi2, p, dof, expected = stats.chi2_contingency(musiceffects_age)\n",
    "\n",
    "print(f\"Chi-Square statistic: {chi2}\")\n",
    "print(f\"P-value: {p}\")"
   ]
  },
  {
   "cell_type": "markdown",
   "id": "ddf073d0",
   "metadata": {},
   "source": [
    "* **p-value** (typically **< 0.05**) suggests that there is a **significant association** between the two categorical variables.\n",
    "\n",
    "* If the p-value is less than your chosen significance level, you can **reject the null hypothesis** and **conclude** that there is a **significant association between the two categorical variables**.\n",
    "\n",
    "We reject H0\n",
    "\n",
    "* Significant association\n",
    "* **Use column for model**"
   ]
  },
  {
   "cell_type": "code",
   "execution_count": 166,
   "id": "af0a4bdd",
   "metadata": {},
   "outputs": [
    {
     "data": {
      "text/plain": [
       "<Axes: xlabel='Music effects', ylabel='Age group'>"
      ]
     },
     "execution_count": 166,
     "metadata": {},
     "output_type": "execute_result"
    },
    {
     "data": {
      "image/png": "[encoded data removed]",
      "text/plain": [
       "<Figure size 640x480 with 2 Axes>"
      ]
     },
     "metadata": {},
     "output_type": "display_data"
    }
   ],
   "source": [
    "sns.heatmap(musiceffects_age, annot=True)"
   ]
  },
  {
   "cell_type": "markdown",
   "id": "a9601eb0",
   "metadata": {},
   "source": [
    "___________________"
   ]
  },
  {
   "cell_type": "markdown",
   "id": "868db91e",
   "metadata": {},
   "source": [
    "### 1) Connection disease and music use:\n",
    "\n",
    "* Positive test results:\n",
    "\t* 'Music effects' and 'While working'\n",
    "\t* 'Music effects' and 'Exploratory'\n",
    "    \n",
    "### 2) Connection disease and music preference:\n",
    "### 3) Connection disease and music genres:\n",
    "### 4) Connection disease and greatest music effects:\n",
    "* Positive test results:\n",
    "\t* ‘Music effects’  and ‘Depression’\n",
    "### 5) Connections disease and age:\n",
    "* Positive test results:\n",
    "\t* ‘Age group’  and ‘Music effects’\n",
    "\n",
    "### 6) Can I make helpful recommendations based on these findings?\n",
    "* When I learned to make a succesful model\n",
    "* Add to the research by doing a new survey and explore elements in music and find significant connections\n",
    "___________________"
   ]
  },
  {
   "cell_type": "code",
   "execution_count": null,
   "id": "7b0c1e15",
   "metadata": {},
   "outputs": [],
   "source": []
  }
 ],
 "metadata": {
  "kernelspec": {
   "display_name": "Python 3 (ipykernel)",
   "language": "python",
   "name": "python3"
  },
  "language_info": {
   "codemirror_mode": {
    "name": "ipython",
    "version": 3
   },
   "file_extension": ".py",
   "mimetype": "text/x-python",
   "name": "python",
   "nbconvert_exporter": "python",
   "pygments_lexer": "ipython3",
   "version": "3.11.3"
  }
 },
 "nbformat": 4,
 "nbformat_minor": 5
}
