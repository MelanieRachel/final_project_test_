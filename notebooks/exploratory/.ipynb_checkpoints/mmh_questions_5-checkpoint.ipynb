{
 "cells": [
  {
   "cell_type": "markdown",
   "id": "34496cf0",
   "metadata": {},
   "source": [
    "# Music & Mental Health | Trying to predict music effects\n",
    "_______________________________________"
   ]
  },
  {
   "attachments": {},
   "cell_type": "markdown",
   "id": "3e38ad14-a051-475a-94f7-7739f5e5ba3a",
   "metadata": {},
   "source": [
    "## Model\n",
    "\n",
    "## Trying to discover trends / predict music effects:\n",
    "\n",
    "1) What is the connection between mental health and music use?\n",
    "2) What is the connection between mental health and music preference?\n",
    "3) What is the connection between mental health and music genres?\n",
    "4) What is the connection between mental health and music effects?\n",
    "5) What is the connection between mental health and age?\n",
    "6) Can I make helpful recommendations based on these findings?\n"
   ]
  },
  {
   "cell_type": "code",
   "execution_count": 1,
   "id": "37f426c4",
   "metadata": {},
   "outputs": [],
   "source": [
    "# Load libraries:\n",
    "\n",
    "import numpy as np\n",
    "import pandas as pd\n",
    "import matplotlib.pyplot as plt\n",
    "import seaborn as sns\n",
    "from sklearn.impute import KNNImputer\n",
    "from scipy import stats\n"
   ]
  },
  {
   "cell_type": "code",
   "execution_count": 2,
   "id": "2cf8f4f1",
   "metadata": {},
   "outputs": [],
   "source": [
    "# Read cleaned dataset\n",
    "# data_mmh = pd.read_csv('../../data/cleaned/data_mmh_cleaned1.csv')\n",
    "# Remove the Unnamed Column: \n",
    "data_mmh = pd.read_csv('../../data/cleaned/data_mmh_cleaned2.csv', index_col=0)\n"
   ]
  },
  {
   "cell_type": "code",
   "execution_count": 3,
   "id": "d6e2744e",
   "metadata": {},
   "outputs": [
    {
     "data": {
      "text/html": [
       "<div>\n",
       "<style scoped>\n",
       "    .dataframe tbody tr th:only-of-type {\n",
       "        vertical-align: middle;\n",
       "    }\n",
       "\n",
       "    .dataframe tbody tr th {\n",
       "        vertical-align: top;\n",
       "    }\n",
       "\n",
       "    .dataframe thead th {\n",
       "        text-align: right;\n",
       "    }\n",
       "</style>\n",
       "<table border=\"1\" class=\"dataframe\">\n",
       "  <thead>\n",
       "    <tr style=\"text-align: right;\">\n",
       "      <th></th>\n",
       "      <th>Age</th>\n",
       "      <th>Hours per day</th>\n",
       "      <th>While working</th>\n",
       "      <th>Instrumentalist</th>\n",
       "      <th>Composer</th>\n",
       "      <th>Favorite genre</th>\n",
       "      <th>Exploratory</th>\n",
       "      <th>Foreign languages</th>\n",
       "      <th>BPM</th>\n",
       "      <th>Frequency [Classical]</th>\n",
       "      <th>...</th>\n",
       "      <th>Frequency [R&amp;B]</th>\n",
       "      <th>Frequency [Rap]</th>\n",
       "      <th>Frequency [Rock]</th>\n",
       "      <th>Frequency [Video game music]</th>\n",
       "      <th>Anxiety</th>\n",
       "      <th>Depression</th>\n",
       "      <th>Insomnia</th>\n",
       "      <th>OCD</th>\n",
       "      <th>Music effects</th>\n",
       "      <th>Permissions</th>\n",
       "    </tr>\n",
       "  </thead>\n",
       "  <tbody>\n",
       "    <tr>\n",
       "      <th>0</th>\n",
       "      <td>18.0</td>\n",
       "      <td>4.0</td>\n",
       "      <td>No</td>\n",
       "      <td>No</td>\n",
       "      <td>No</td>\n",
       "      <td>Video game music</td>\n",
       "      <td>No</td>\n",
       "      <td>Yes</td>\n",
       "      <td>132.0</td>\n",
       "      <td>Never</td>\n",
       "      <td>...</td>\n",
       "      <td>Never</td>\n",
       "      <td>Rarely</td>\n",
       "      <td>Rarely</td>\n",
       "      <td>Very frequently</td>\n",
       "      <td>7.0</td>\n",
       "      <td>7.0</td>\n",
       "      <td>10.0</td>\n",
       "      <td>2.0</td>\n",
       "      <td>No effect</td>\n",
       "      <td>I understand.</td>\n",
       "    </tr>\n",
       "    <tr>\n",
       "      <th>1</th>\n",
       "      <td>61.0</td>\n",
       "      <td>2.5</td>\n",
       "      <td>Yes</td>\n",
       "      <td>No</td>\n",
       "      <td>Yes</td>\n",
       "      <td>Jazz</td>\n",
       "      <td>Yes</td>\n",
       "      <td>Yes</td>\n",
       "      <td>84.0</td>\n",
       "      <td>Sometimes</td>\n",
       "      <td>...</td>\n",
       "      <td>Sometimes</td>\n",
       "      <td>Never</td>\n",
       "      <td>Never</td>\n",
       "      <td>Never</td>\n",
       "      <td>9.0</td>\n",
       "      <td>7.0</td>\n",
       "      <td>3.0</td>\n",
       "      <td>3.0</td>\n",
       "      <td>Improve</td>\n",
       "      <td>I understand.</td>\n",
       "    </tr>\n",
       "    <tr>\n",
       "      <th>2</th>\n",
       "      <td>18.0</td>\n",
       "      <td>4.0</td>\n",
       "      <td>Yes</td>\n",
       "      <td>No</td>\n",
       "      <td>No</td>\n",
       "      <td>R&amp;B</td>\n",
       "      <td>Yes</td>\n",
       "      <td>No</td>\n",
       "      <td>107.0</td>\n",
       "      <td>Never</td>\n",
       "      <td>...</td>\n",
       "      <td>Very frequently</td>\n",
       "      <td>Very frequently</td>\n",
       "      <td>Never</td>\n",
       "      <td>Rarely</td>\n",
       "      <td>7.0</td>\n",
       "      <td>2.0</td>\n",
       "      <td>5.0</td>\n",
       "      <td>9.0</td>\n",
       "      <td>Improve</td>\n",
       "      <td>I understand.</td>\n",
       "    </tr>\n",
       "    <tr>\n",
       "      <th>3</th>\n",
       "      <td>18.0</td>\n",
       "      <td>5.0</td>\n",
       "      <td>Yes</td>\n",
       "      <td>Yes</td>\n",
       "      <td>Yes</td>\n",
       "      <td>Jazz</td>\n",
       "      <td>Yes</td>\n",
       "      <td>Yes</td>\n",
       "      <td>86.0</td>\n",
       "      <td>Rarely</td>\n",
       "      <td>...</td>\n",
       "      <td>Very frequently</td>\n",
       "      <td>Very frequently</td>\n",
       "      <td>Very frequently</td>\n",
       "      <td>Never</td>\n",
       "      <td>8.0</td>\n",
       "      <td>8.0</td>\n",
       "      <td>7.0</td>\n",
       "      <td>7.0</td>\n",
       "      <td>Improve</td>\n",
       "      <td>I understand.</td>\n",
       "    </tr>\n",
       "    <tr>\n",
       "      <th>4</th>\n",
       "      <td>18.0</td>\n",
       "      <td>3.0</td>\n",
       "      <td>Yes</td>\n",
       "      <td>Yes</td>\n",
       "      <td>No</td>\n",
       "      <td>Video game music</td>\n",
       "      <td>Yes</td>\n",
       "      <td>Yes</td>\n",
       "      <td>66.0</td>\n",
       "      <td>Sometimes</td>\n",
       "      <td>...</td>\n",
       "      <td>Rarely</td>\n",
       "      <td>Never</td>\n",
       "      <td>Never</td>\n",
       "      <td>Sometimes</td>\n",
       "      <td>4.0</td>\n",
       "      <td>8.0</td>\n",
       "      <td>6.0</td>\n",
       "      <td>0.0</td>\n",
       "      <td>Improve</td>\n",
       "      <td>I understand.</td>\n",
       "    </tr>\n",
       "  </tbody>\n",
       "</table>\n",
       "<p>5 rows × 31 columns</p>\n",
       "</div>"
      ],
      "text/plain": [
       "    Age  Hours per day While working Instrumentalist Composer  \\\n",
       "0  18.0            4.0            No              No       No   \n",
       "1  61.0            2.5           Yes              No      Yes   \n",
       "2  18.0            4.0           Yes              No       No   \n",
       "3  18.0            5.0           Yes             Yes      Yes   \n",
       "4  18.0            3.0           Yes             Yes       No   \n",
       "\n",
       "     Favorite genre Exploratory Foreign languages    BPM  \\\n",
       "0  Video game music          No               Yes  132.0   \n",
       "1              Jazz         Yes               Yes   84.0   \n",
       "2               R&B         Yes                No  107.0   \n",
       "3              Jazz         Yes               Yes   86.0   \n",
       "4  Video game music         Yes               Yes   66.0   \n",
       "\n",
       "  Frequency [Classical]  ...  Frequency [R&B]  Frequency [Rap]  \\\n",
       "0                 Never  ...            Never           Rarely   \n",
       "1             Sometimes  ...        Sometimes            Never   \n",
       "2                 Never  ...  Very frequently  Very frequently   \n",
       "3                Rarely  ...  Very frequently  Very frequently   \n",
       "4             Sometimes  ...           Rarely            Never   \n",
       "\n",
       "  Frequency [Rock] Frequency [Video game music] Anxiety Depression Insomnia  \\\n",
       "0           Rarely              Very frequently     7.0        7.0     10.0   \n",
       "1            Never                        Never     9.0        7.0      3.0   \n",
       "2            Never                       Rarely     7.0        2.0      5.0   \n",
       "3  Very frequently                        Never     8.0        8.0      7.0   \n",
       "4            Never                    Sometimes     4.0        8.0      6.0   \n",
       "\n",
       "   OCD Music effects    Permissions  \n",
       "0  2.0     No effect  I understand.  \n",
       "1  3.0       Improve  I understand.  \n",
       "2  9.0       Improve  I understand.  \n",
       "3  7.0       Improve  I understand.  \n",
       "4  0.0       Improve  I understand.  \n",
       "\n",
       "[5 rows x 31 columns]"
      ]
     },
     "execution_count": 3,
     "metadata": {},
     "output_type": "execute_result"
    }
   ],
   "source": [
    "data_mmh.head()\n"
   ]
  },
  {
   "cell_type": "code",
   "execution_count": 4,
   "id": "e2cfbd56",
   "metadata": {},
   "outputs": [
    {
     "data": {
      "text/plain": [
       "(616, 31)"
      ]
     },
     "execution_count": 4,
     "metadata": {},
     "output_type": "execute_result"
    }
   ],
   "source": [
    "data_mmh.shape"
   ]
  },
  {
   "cell_type": "code",
   "execution_count": 5,
   "id": "fe34e1e0-e071-4443-a272-abebfe36a56c",
   "metadata": {},
   "outputs": [],
   "source": [
    "# Make 'Age groups':\n",
    "labels = [\"<10\", \"10's\", \"20's\", \"30's\", \"40's\", \"50's\", \"60's\", \"70's\", \"80's\"]\n",
    "data_mmh['Age group'] = pd.cut(data_mmh['Age'], bins=[0, 10, 20, 30, 40, 50, 60, 70, 80, 90], labels = labels)\n"
   ]
  },
  {
   "cell_type": "code",
   "execution_count": 6,
   "id": "2eb3dad5-bdf4-46ed-8ee1-4a05ceab28e1",
   "metadata": {},
   "outputs": [
    {
     "data": {
      "text/plain": [
       "(616, 32)"
      ]
     },
     "execution_count": 6,
     "metadata": {},
     "output_type": "execute_result"
    }
   ],
   "source": [
    "data_mmh.shape"
   ]
  },
  {
   "cell_type": "code",
   "execution_count": 7,
   "id": "f086b718-7f7b-42b0-9574-de048fc09654",
   "metadata": {},
   "outputs": [
    {
     "data": {
      "text/html": [
       "<div>\n",
       "<style scoped>\n",
       "    .dataframe tbody tr th:only-of-type {\n",
       "        vertical-align: middle;\n",
       "    }\n",
       "\n",
       "    .dataframe tbody tr th {\n",
       "        vertical-align: top;\n",
       "    }\n",
       "\n",
       "    .dataframe thead th {\n",
       "        text-align: right;\n",
       "    }\n",
       "</style>\n",
       "<table border=\"1\" class=\"dataframe\">\n",
       "  <thead>\n",
       "    <tr style=\"text-align: right;\">\n",
       "      <th></th>\n",
       "      <th>Age</th>\n",
       "      <th>Hours per day</th>\n",
       "      <th>While working</th>\n",
       "      <th>Instrumentalist</th>\n",
       "      <th>Composer</th>\n",
       "      <th>Favorite genre</th>\n",
       "      <th>Exploratory</th>\n",
       "      <th>Foreign languages</th>\n",
       "      <th>BPM</th>\n",
       "      <th>Frequency [Classical]</th>\n",
       "      <th>...</th>\n",
       "      <th>Frequency [Rap]</th>\n",
       "      <th>Frequency [Rock]</th>\n",
       "      <th>Frequency [Video game music]</th>\n",
       "      <th>Anxiety</th>\n",
       "      <th>Depression</th>\n",
       "      <th>Insomnia</th>\n",
       "      <th>OCD</th>\n",
       "      <th>Music effects</th>\n",
       "      <th>Permissions</th>\n",
       "      <th>Age group</th>\n",
       "    </tr>\n",
       "  </thead>\n",
       "  <tbody>\n",
       "    <tr>\n",
       "      <th>0</th>\n",
       "      <td>18.0</td>\n",
       "      <td>4.0</td>\n",
       "      <td>No</td>\n",
       "      <td>No</td>\n",
       "      <td>No</td>\n",
       "      <td>Video game music</td>\n",
       "      <td>No</td>\n",
       "      <td>Yes</td>\n",
       "      <td>132.0</td>\n",
       "      <td>Never</td>\n",
       "      <td>...</td>\n",
       "      <td>Rarely</td>\n",
       "      <td>Rarely</td>\n",
       "      <td>Very frequently</td>\n",
       "      <td>7.0</td>\n",
       "      <td>7.0</td>\n",
       "      <td>10.0</td>\n",
       "      <td>2.0</td>\n",
       "      <td>No effect</td>\n",
       "      <td>I understand.</td>\n",
       "      <td>10's</td>\n",
       "    </tr>\n",
       "    <tr>\n",
       "      <th>1</th>\n",
       "      <td>61.0</td>\n",
       "      <td>2.5</td>\n",
       "      <td>Yes</td>\n",
       "      <td>No</td>\n",
       "      <td>Yes</td>\n",
       "      <td>Jazz</td>\n",
       "      <td>Yes</td>\n",
       "      <td>Yes</td>\n",
       "      <td>84.0</td>\n",
       "      <td>Sometimes</td>\n",
       "      <td>...</td>\n",
       "      <td>Never</td>\n",
       "      <td>Never</td>\n",
       "      <td>Never</td>\n",
       "      <td>9.0</td>\n",
       "      <td>7.0</td>\n",
       "      <td>3.0</td>\n",
       "      <td>3.0</td>\n",
       "      <td>Improve</td>\n",
       "      <td>I understand.</td>\n",
       "      <td>60's</td>\n",
       "    </tr>\n",
       "    <tr>\n",
       "      <th>2</th>\n",
       "      <td>18.0</td>\n",
       "      <td>4.0</td>\n",
       "      <td>Yes</td>\n",
       "      <td>No</td>\n",
       "      <td>No</td>\n",
       "      <td>R&amp;B</td>\n",
       "      <td>Yes</td>\n",
       "      <td>No</td>\n",
       "      <td>107.0</td>\n",
       "      <td>Never</td>\n",
       "      <td>...</td>\n",
       "      <td>Very frequently</td>\n",
       "      <td>Never</td>\n",
       "      <td>Rarely</td>\n",
       "      <td>7.0</td>\n",
       "      <td>2.0</td>\n",
       "      <td>5.0</td>\n",
       "      <td>9.0</td>\n",
       "      <td>Improve</td>\n",
       "      <td>I understand.</td>\n",
       "      <td>10's</td>\n",
       "    </tr>\n",
       "    <tr>\n",
       "      <th>3</th>\n",
       "      <td>18.0</td>\n",
       "      <td>5.0</td>\n",
       "      <td>Yes</td>\n",
       "      <td>Yes</td>\n",
       "      <td>Yes</td>\n",
       "      <td>Jazz</td>\n",
       "      <td>Yes</td>\n",
       "      <td>Yes</td>\n",
       "      <td>86.0</td>\n",
       "      <td>Rarely</td>\n",
       "      <td>...</td>\n",
       "      <td>Very frequently</td>\n",
       "      <td>Very frequently</td>\n",
       "      <td>Never</td>\n",
       "      <td>8.0</td>\n",
       "      <td>8.0</td>\n",
       "      <td>7.0</td>\n",
       "      <td>7.0</td>\n",
       "      <td>Improve</td>\n",
       "      <td>I understand.</td>\n",
       "      <td>10's</td>\n",
       "    </tr>\n",
       "    <tr>\n",
       "      <th>4</th>\n",
       "      <td>18.0</td>\n",
       "      <td>3.0</td>\n",
       "      <td>Yes</td>\n",
       "      <td>Yes</td>\n",
       "      <td>No</td>\n",
       "      <td>Video game music</td>\n",
       "      <td>Yes</td>\n",
       "      <td>Yes</td>\n",
       "      <td>66.0</td>\n",
       "      <td>Sometimes</td>\n",
       "      <td>...</td>\n",
       "      <td>Never</td>\n",
       "      <td>Never</td>\n",
       "      <td>Sometimes</td>\n",
       "      <td>4.0</td>\n",
       "      <td>8.0</td>\n",
       "      <td>6.0</td>\n",
       "      <td>0.0</td>\n",
       "      <td>Improve</td>\n",
       "      <td>I understand.</td>\n",
       "      <td>10's</td>\n",
       "    </tr>\n",
       "  </tbody>\n",
       "</table>\n",
       "<p>5 rows × 32 columns</p>\n",
       "</div>"
      ],
      "text/plain": [
       "    Age  Hours per day While working Instrumentalist Composer  \\\n",
       "0  18.0            4.0            No              No       No   \n",
       "1  61.0            2.5           Yes              No      Yes   \n",
       "2  18.0            4.0           Yes              No       No   \n",
       "3  18.0            5.0           Yes             Yes      Yes   \n",
       "4  18.0            3.0           Yes             Yes       No   \n",
       "\n",
       "     Favorite genre Exploratory Foreign languages    BPM  \\\n",
       "0  Video game music          No               Yes  132.0   \n",
       "1              Jazz         Yes               Yes   84.0   \n",
       "2               R&B         Yes                No  107.0   \n",
       "3              Jazz         Yes               Yes   86.0   \n",
       "4  Video game music         Yes               Yes   66.0   \n",
       "\n",
       "  Frequency [Classical]  ...  Frequency [Rap] Frequency [Rock]  \\\n",
       "0                 Never  ...           Rarely           Rarely   \n",
       "1             Sometimes  ...            Never            Never   \n",
       "2                 Never  ...  Very frequently            Never   \n",
       "3                Rarely  ...  Very frequently  Very frequently   \n",
       "4             Sometimes  ...            Never            Never   \n",
       "\n",
       "  Frequency [Video game music] Anxiety Depression Insomnia  OCD Music effects  \\\n",
       "0              Very frequently     7.0        7.0     10.0  2.0     No effect   \n",
       "1                        Never     9.0        7.0      3.0  3.0       Improve   \n",
       "2                       Rarely     7.0        2.0      5.0  9.0       Improve   \n",
       "3                        Never     8.0        8.0      7.0  7.0       Improve   \n",
       "4                    Sometimes     4.0        8.0      6.0  0.0       Improve   \n",
       "\n",
       "     Permissions Age group  \n",
       "0  I understand.      10's  \n",
       "1  I understand.      60's  \n",
       "2  I understand.      10's  \n",
       "3  I understand.      10's  \n",
       "4  I understand.      10's  \n",
       "\n",
       "[5 rows x 32 columns]"
      ]
     },
     "execution_count": 7,
     "metadata": {},
     "output_type": "execute_result"
    }
   ],
   "source": [
    "data_mmh.head()"
   ]
  },
  {
   "cell_type": "markdown",
   "id": "d61de37d",
   "metadata": {},
   "source": [
    "_________"
   ]
  },
  {
   "cell_type": "markdown",
   "id": "70ff5976",
   "metadata": {},
   "source": [
    "## Model:"
   ]
  },
  {
   "cell_type": "markdown",
   "id": "0b9f041a",
   "metadata": {},
   "source": [
    "### 1) Connection disease and **music use**:\n",
    "* Positive test results:\n",
    "\t* 'Music effects' and 'While working'\n",
    "\t* 'Music effects' and 'Exploratory'\n",
    "### 2) Connection disease and **music preference**:\n",
    "### 3) Connection disease and **music genres**:\n",
    "### 4) Connection disease and **music effects**:\n",
    "* Positive test results:\n",
    "\t* ‘Music effects’  and ‘Depression’\n",
    "### 5) Connections disease and **age**:\n",
    "* Positive test results:\n",
    "\t* ‘Age group’  and ‘Music effects’\n",
    "\n",
    "### 6) Can I make helpful **recommendations** based on these findings?"
   ]
  },
  {
   "cell_type": "markdown",
   "id": "f3f82a1c",
   "metadata": {},
   "source": [
    "________"
   ]
  },
  {
   "cell_type": "markdown",
   "id": "b9546d69",
   "metadata": {},
   "source": [
    "### 1) Connection disease and **music use**:\n",
    "* Positive test results:\n",
    "\t* 'Music effects' and 'While working'\n",
    "\t* 'Music effects' and 'Exploratory'"
   ]
  },
  {
   "cell_type": "code",
   "execution_count": null,
   "id": "5009c8f4-0b48-411c-9a93-a3be3a63c36f",
   "metadata": {},
   "outputs": [],
   "source": [
    "#'Music effects' and 'While working':"
   ]
  },
  {
   "cell_type": "code",
   "execution_count": null,
   "id": "b27ea600",
   "metadata": {},
   "outputs": [],
   "source": [
    "# 'Music effects'(c) and 'While working'(c) #LogisticRegression #DecisionTrees, #Random Forest, #Neural Networks"
   ]
  },
  {
   "cell_type": "code",
   "execution_count": 8,
   "id": "c375dbc9",
   "metadata": {},
   "outputs": [
    {
     "data": {
      "text/html": [
       "<div>\n",
       "<style scoped>\n",
       "    .dataframe tbody tr th:only-of-type {\n",
       "        vertical-align: middle;\n",
       "    }\n",
       "\n",
       "    .dataframe tbody tr th {\n",
       "        vertical-align: top;\n",
       "    }\n",
       "\n",
       "    .dataframe thead th {\n",
       "        text-align: right;\n",
       "    }\n",
       "</style>\n",
       "<table border=\"1\" class=\"dataframe\">\n",
       "  <thead>\n",
       "    <tr style=\"text-align: right;\">\n",
       "      <th>While working</th>\n",
       "      <th>No</th>\n",
       "      <th>Yes</th>\n",
       "    </tr>\n",
       "    <tr>\n",
       "      <th>Music effects</th>\n",
       "      <th></th>\n",
       "      <th></th>\n",
       "    </tr>\n",
       "  </thead>\n",
       "  <tbody>\n",
       "    <tr>\n",
       "      <th>Improve</th>\n",
       "      <td>79</td>\n",
       "      <td>387</td>\n",
       "    </tr>\n",
       "    <tr>\n",
       "      <th>No effect</th>\n",
       "      <td>42</td>\n",
       "      <td>93</td>\n",
       "    </tr>\n",
       "    <tr>\n",
       "      <th>Worsen</th>\n",
       "      <td>5</td>\n",
       "      <td>10</td>\n",
       "    </tr>\n",
       "  </tbody>\n",
       "</table>\n",
       "</div>"
      ],
      "text/plain": [
       "While working  No  Yes\n",
       "Music effects         \n",
       "Improve        79  387\n",
       "No effect      42   93\n",
       "Worsen          5   10"
      ]
     },
     "execution_count": 8,
     "metadata": {},
     "output_type": "execute_result"
    }
   ],
   "source": [
    "# 'Music effects'(c) and 'While working' (c)\n",
    "\n",
    "musiceffects_ww = pd.crosstab(data_mmh['Music effects'], data_mmh['While working'])\n",
    "musiceffects_ww"
   ]
  },
  {
   "cell_type": "code",
   "execution_count": 9,
   "id": "08e43d92",
   "metadata": {},
   "outputs": [
    {
     "name": "stdout",
     "output_type": "stream",
     "text": [
      "Chi-Square statistic: 14.463517496650542\n",
      "P-value: 0.0007232477331809323\n"
     ]
    }
   ],
   "source": [
    "# Test for checking relationship between categorical and categorical # Chi2\n",
    "\n",
    "from scipy import stats\n",
    "\n",
    "# Create a contingency table (cross-tabulation)\n",
    "musiceffects_ww = pd.crosstab(data_mmh['Music effects'], data_mmh['While working'])\n",
    "\n",
    "# Perform the Chi-Square test\n",
    "chi2, p, dof, expected = stats.chi2_contingency(musiceffects_ww)\n",
    "\n",
    "print(f\"Chi-Square statistic: {chi2}\")\n",
    "print(f\"P-value: {p}\")\n"
   ]
  },
  {
   "cell_type": "markdown",
   "id": "a7235265",
   "metadata": {},
   "source": [
    "* **p-value** (typically **< 0.05**) suggests that there is a **significant association** between the two categorical variables.\n",
    "\n",
    "* If the p-value is less than your chosen significance level, you can **reject the null hypothesis** and **conclude** that there is a **significant association between the two categorical variables**.\n",
    "\n",
    "We reject H0\n",
    "\n",
    "* Significant association\n",
    "* **Use column for model**"
   ]
  },
  {
   "cell_type": "code",
   "execution_count": 10,
   "id": "b92a5da9",
   "metadata": {},
   "outputs": [
    {
     "data": {
      "text/plain": [
       "<Axes: xlabel='While working', ylabel='Music effects'>"
      ]
     },
     "execution_count": 10,
     "metadata": {},
     "output_type": "execute_result"
    },
    {
     "data": {
      "image/png": "[encoded data removed]",
      "text/plain": [
       "<Figure size 640x480 with 2 Axes>"
      ]
     },
     "metadata": {},
     "output_type": "display_data"
    }
   ],
   "source": [
    "sns.heatmap(musiceffects_ww, annot=True)"
   ]
  },
  {
   "cell_type": "code",
   "execution_count": 11,
   "id": "e783bed2-2210-49f6-ae30-6f3558874df8",
   "metadata": {},
   "outputs": [
    {
     "data": {
      "text/plain": [
       "Index(['Age', 'Hours per day', 'While working', 'Instrumentalist', 'Composer',\n",
       "       'Favorite genre', 'Exploratory', 'Foreign languages', 'BPM',\n",
       "       'Frequency [Classical]', 'Frequency [Country]', 'Frequency [EDM]',\n",
       "       'Frequency [Folk]', 'Frequency [Gospel]', 'Frequency [Hip hop]',\n",
       "       'Frequency [Jazz]', 'Frequency [K pop]', 'Frequency [Latin]',\n",
       "       'Frequency [Lofi]', 'Frequency [Metal]', 'Frequency [Pop]',\n",
       "       'Frequency [R&B]', 'Frequency [Rap]', 'Frequency [Rock]',\n",
       "       'Frequency [Video game music]', 'Anxiety', 'Depression', 'Insomnia',\n",
       "       'OCD', 'Music effects', 'Permissions', 'Age group'],\n",
       "      dtype='object')"
      ]
     },
     "execution_count": 11,
     "metadata": {},
     "output_type": "execute_result"
    }
   ],
   "source": [
    "data_mmh.columns"
   ]
  },
  {
   "cell_type": "markdown",
   "id": "9ff7639a-9c84-41d8-a2bd-8533f6a90f88",
   "metadata": {},
   "source": [
    "### Logistic Regression:"
   ]
  },
  {
   "cell_type": "code",
   "execution_count": 12,
   "id": "eb17075f",
   "metadata": {},
   "outputs": [],
   "source": [
    "#LogisticRegression\n",
    "\n",
    "from sklearn.preprocessing import MinMaxScaler\n",
    "from sklearn.preprocessing import PowerTransformer\n",
    "from sklearn.preprocessing import OneHotEncoder\n",
    "from sklearn.linear_model import LogisticRegression\n",
    "from sklearn.model_selection import train_test_split\n",
    "from sklearn.metrics import accuracy_score, classification_report\n",
    "\n",
    "\n",
    "# Example data (replace with your own dataset)\n",
    "#X = [[1.2, 2.3], [2.4, 3.5], [3.1, 1.9], [4.4, 5.2], [5.1, 3.4]]  # Features\n",
    "#y = [0, 1, 0, 1, 1]  # Target variable (0 or 1)\n",
    "\n",
    "X = data_mmh[['While working','Exploratory','Depression','Age group']]  # Select the column that is your features\n",
    "y = data_mmh['Music effects']  # Select the columns that are your target variable\n",
    "\n",
    "# Split the data into a training set and a test set\n",
    "X_train, X_test, y_train, y_test = train_test_split(X, y, test_size=0.2, random_state=42)\n",
    "\n",
    "X_train_df = pd.DataFrame(X_train, columns=X.columns, index=X_train.index)\n",
    "X_test_df  = pd.DataFrame(X_test,  columns=X.columns, index=X_test.index)\n",
    "\n",
    "X_train_num = X_train_df.select_dtypes(np.number)\n",
    "X_test_num  = X_test_df.select_dtypes(np.number)\n",
    "\n",
    "X_train_cat = X_train_df.select_dtypes('object')\n",
    "X_test_cat  = X_test_df.select_dtypes('object')\n",
    "\n",
    "# Encode categorical nominal columns\n",
    "encoder = OneHotEncoder(drop='if_binary')\n",
    "encoder.fit(X_train_cat)\n",
    "\n",
    "X_train_cat_encoded_np = encoder.transform(X_train_cat).toarray()\n",
    "X_test_cat_encoded_np  = encoder.transform(X_test_cat).toarray()\n",
    "\n",
    "X_train_cat_encoded_df = pd.DataFrame(X_train_cat_encoded_np, columns=encoder.get_feature_names_out(), index=X_train_df.index)\n",
    "X_test_cat_encoded_df  = pd.DataFrame(X_test_cat_encoded_np, columns=encoder.get_feature_names_out(), index=X_test_df.index)\n",
    "\n",
    "# Transform numerical columns\n",
    "transformer = PowerTransformer()\n",
    "transformer.fit(X_train_num)\n",
    "\n",
    "X_train_num_trans_np = transformer.transform(X_train_num)\n",
    "X_test_num_trans_np  = transformer.transform(X_test_num)\n",
    "\n",
    "X_train_num_trans_df = pd.DataFrame(X_train_num_trans_np, columns=X_train_num.columns, index=X_train_num.index)\n",
    "X_test_num_trans_df  = pd.DataFrame(X_test_num_trans_np,  columns=X_test_num.columns, index=X_test_num.index)\n",
    "\n",
    "# Apply a MinMaxScaler to the transformed numerical_columns\n",
    "scaler = MinMaxScaler()\n",
    "scaler.fit(X_train_num_trans_df)\n",
    "\n",
    "X_train_num_trans_minmax_np = scaler.transform(X_train_num_trans_df)\n",
    "X_test_num_trans_minmax_np  = scaler.transform(X_test_num_trans_df)\n",
    "\n",
    "X_train_num_trans_minmax_df = pd.DataFrame(X_train_num_trans_minmax_np, columns=X_train_num_trans_df.columns, index=X_train_num_trans_df.index)\n",
    "X_test_num_trans_minmax_df  = pd.DataFrame(X_test_num_trans_minmax_np, columns=X_test_num_trans_df.columns, index=X_test_num_trans_df.index)\n",
    "\n",
    "# Combining the numerical transformed df and the categorical encoded dfs\n",
    "X_train_combined_df = pd.concat([X_train_num_trans_minmax_df, X_train_cat_encoded_df], axis=1)\n",
    "X_test_combined_df  = pd.concat([X_test_num_trans_minmax_df, X_test_cat_encoded_df], axis=1)\n",
    "\n"
   ]
  },
  {
   "cell_type": "code",
   "execution_count": 18,
   "id": "cebf9795",
   "metadata": {},
   "outputs": [
    {
     "name": "stdout",
     "output_type": "stream",
     "text": [
      "Accuracy for the TRAIN set: 0.76\n",
      "Classification Report for the TRAIN set:\n",
      "               precision    recall  f1-score   support\n",
      "\n",
      "     Improve       0.76      1.00      0.86       372\n",
      "   No effect       0.00      0.00      0.00       108\n",
      "      Worsen       0.00      0.00      0.00        12\n",
      "\n",
      "    accuracy                           0.76       492\n",
      "   macro avg       0.25      0.33      0.29       492\n",
      "weighted avg       0.57      0.76      0.65       492\n",
      "\n",
      "Accuracy for the TEST set: 0.76\n",
      "Classification Report for the TEST set:\n",
      "               precision    recall  f1-score   support\n",
      "\n",
      "     Improve       0.76      1.00      0.86        94\n",
      "   No effect       0.00      0.00      0.00        27\n",
      "      Worsen       0.00      0.00      0.00         3\n",
      "\n",
      "    accuracy                           0.76       124\n",
      "   macro avg       0.25      0.33      0.29       124\n",
      "weighted avg       0.57      0.76      0.65       124\n",
      "\n"
     ]
    },
    {
     "name": "stderr",
     "output_type": "stream",
     "text": [
      "/Users/melanie/Ironhack/Week_9/Final_project_test/finalprojecttest_env/lib/python3.11/site-packages/sklearn/metrics/_classification.py:1471: UndefinedMetricWarning: Precision and F-score are ill-defined and being set to 0.0 in labels with no predicted samples. Use `zero_division` parameter to control this behavior.\n",
      "  _warn_prf(average, modifier, msg_start, len(result))\n",
      "/Users/melanie/Ironhack/Week_9/Final_project_test/finalprojecttest_env/lib/python3.11/site-packages/sklearn/metrics/_classification.py:1471: UndefinedMetricWarning: Precision and F-score are ill-defined and being set to 0.0 in labels with no predicted samples. Use `zero_division` parameter to control this behavior.\n",
      "  _warn_prf(average, modifier, msg_start, len(result))\n",
      "/Users/melanie/Ironhack/Week_9/Final_project_test/finalprojecttest_env/lib/python3.11/site-packages/sklearn/metrics/_classification.py:1471: UndefinedMetricWarning: Precision and F-score are ill-defined and being set to 0.0 in labels with no predicted samples. Use `zero_division` parameter to control this behavior.\n",
      "  _warn_prf(average, modifier, msg_start, len(result))\n",
      "/Users/melanie/Ironhack/Week_9/Final_project_test/finalprojecttest_env/lib/python3.11/site-packages/sklearn/metrics/_classification.py:1471: UndefinedMetricWarning: Precision and F-score are ill-defined and being set to 0.0 in labels with no predicted samples. Use `zero_division` parameter to control this behavior.\n",
      "  _warn_prf(average, modifier, msg_start, len(result))\n",
      "/Users/melanie/Ironhack/Week_9/Final_project_test/finalprojecttest_env/lib/python3.11/site-packages/sklearn/metrics/_classification.py:1471: UndefinedMetricWarning: Precision and F-score are ill-defined and being set to 0.0 in labels with no predicted samples. Use `zero_division` parameter to control this behavior.\n",
      "  _warn_prf(average, modifier, msg_start, len(result))\n",
      "/Users/melanie/Ironhack/Week_9/Final_project_test/finalprojecttest_env/lib/python3.11/site-packages/sklearn/metrics/_classification.py:1471: UndefinedMetricWarning: Precision and F-score are ill-defined and being set to 0.0 in labels with no predicted samples. Use `zero_division` parameter to control this behavior.\n",
      "  _warn_prf(average, modifier, msg_start, len(result))\n"
     ]
    }
   ],
   "source": [
    "# Create and train the logistic regression model\n",
    "logistic_model = LogisticRegression()\n",
    "logistic_model.fit(X_train_combined_df, y_train)\n",
    "\n",
    "# Make predictions using the model on train set\n",
    "y_pred_train_lm = logistic_model.predict(X_train_combined_df)\n",
    "y_pred_test_lm  = logistic_model.predict(X_test_combined_df)\n",
    "\n",
    "# Evaluate the model's performance on train set\n",
    "accuracy_train_lm = accuracy_score(y_train, y_pred_train_lm)\n",
    "report_train_lm = classification_report(y_train, y_pred_train_lm)\n",
    "\n",
    "# Evaluate the model's performance test\n",
    "accuracy_test_lm = accuracy_score(y_test, y_pred_test_lm)\n",
    "report_test_lm = classification_report(y_test, y_pred_test_lm)\n",
    "\n",
    "print(f\"Accuracy for the TRAIN set: {accuracy_train_lm:.2f}\")\n",
    "print(\"Classification Report for the TRAIN set:\\n\", report_train_lm)\n",
    "\n",
    "\n",
    "print(f\"Accuracy for the TEST set: {accuracy_test_lm:.2f}\")\n",
    "print(\"Classification Report for the TEST set:\\n\", report_test_lm)\n"
   ]
  },
  {
   "cell_type": "markdown",
   "id": "6c40eaac-4b84-4209-9d44-2d9dff073df4",
   "metadata": {},
   "source": [
    "### Class imbalance"
   ]
  },
  {
   "cell_type": "code",
   "execution_count": null,
   "id": "3acd41f6-1c4d-4b69-bf14-59cf5b6c2ad4",
   "metadata": {},
   "outputs": [],
   "source": [
    "# Handle class imbalance in 'Music effects':\n",
    "\n",
    "# Oversampling and Undersampling:\n",
    "# Oversampling: Duplicate or create additional instances of the minority class to balance the class distribution.\n",
    "# Undersampling: Randomly remove instances from the majority class to balance the class distribution.\n"
   ]
  },
  {
   "cell_type": "code",
   "execution_count": null,
   "id": "0b07943e-34db-4ae3-98e3-f865a80bb3f2",
   "metadata": {},
   "outputs": [],
   "source": [
    "# Check 'Music effects' for class imbalance:\n",
    "\n",
    "df = pd.DataFrame(data_mmh)\n",
    "\n",
    "sns.countplot(data=df, x='Music effects')\n",
    "plt.title('Class Distribution')\n",
    "plt.show()"
   ]
  },
  {
   "cell_type": "code",
   "execution_count": null,
   "id": "5f5526a6-0c58-43c7-a32d-608202b95e86",
   "metadata": {},
   "outputs": [],
   "source": [
    "df['Music effects'].value_counts()"
   ]
  },
  {
   "cell_type": "markdown",
   "id": "0d37609f-c5d7-42f3-87ee-c72b61b48398",
   "metadata": {},
   "source": [
    "The dataset is imbalanced: the distribution of classes is significantly skewed."
   ]
  },
  {
   "cell_type": "code",
   "execution_count": null,
   "id": "722ef0cc-6672-4b03-a086-19574e244a70",
   "metadata": {},
   "outputs": [],
   "source": [
    "# Import libraries\n",
    "\n",
    "from collections import Counter\n",
    "from imblearn.over_sampling import SMOTE\n",
    "\n",
    "#create two different dataframe of majority and minority class \n",
    "\n",
    "# upsample minority class\n",
    "sm = SMOTE(random_state=42)\n",
    "X_train_smote, y_train_smote = sm.fit_resample(X_train_combined_df, y_train)\n",
    "Counter(y_train_smote)\n"
   ]
  },
  {
   "cell_type": "code",
   "execution_count": 16,
   "id": "bce55e24-1bff-4cb4-99f7-eb4ec11f0a84",
   "metadata": {},
   "outputs": [
    {
     "ename": "NameError",
     "evalue": "name 'X_train_smote' is not defined",
     "output_type": "error",
     "traceback": [
      "\u001b[0;31m---------------------------------------------------------------------------\u001b[0m",
      "\u001b[0;31mNameError\u001b[0m                                 Traceback (most recent call last)",
      "Cell \u001b[0;32mIn[16], line 2\u001b[0m\n\u001b[1;32m      1\u001b[0m logistic_model_smote \u001b[38;5;241m=\u001b[39m LogisticRegression()\n\u001b[0;32m----> 2\u001b[0m logistic_model_smote\u001b[38;5;241m.\u001b[39mfit(\u001b[43mX_train_smote\u001b[49m, y_train_smote)\n",
      "\u001b[0;31mNameError\u001b[0m: name 'X_train_smote' is not defined"
     ]
    }
   ],
   "source": [
    "logistic_model_smote = LogisticRegression()\n",
    "logistic_model_smote.fit(X_train_smote, y_train_smote)\n"
   ]
  },
  {
   "cell_type": "code",
   "execution_count": 17,
   "id": "2c326f42-c99a-42d2-88bd-3c2a0bd1f1a3",
   "metadata": {},
   "outputs": [
    {
     "ename": "NameError",
     "evalue": "name 'X_train_smote' is not defined",
     "output_type": "error",
     "traceback": [
      "\u001b[0;31m---------------------------------------------------------------------------\u001b[0m",
      "\u001b[0;31mNameError\u001b[0m                                 Traceback (most recent call last)",
      "Cell \u001b[0;32mIn[17], line 6\u001b[0m\n\u001b[1;32m      1\u001b[0m \u001b[38;5;66;03m# Create and train the logistic regression model\u001b[39;00m\n\u001b[1;32m      2\u001b[0m \u001b[38;5;66;03m#logistic_model = LogisticRegression()\u001b[39;00m\n\u001b[1;32m      3\u001b[0m \u001b[38;5;66;03m#logistic_model.fit(X_train_combined_df, y_train)\u001b[39;00m\n\u001b[1;32m      5\u001b[0m logistic_model_smote \u001b[38;5;241m=\u001b[39m LogisticRegression()\n\u001b[0;32m----> 6\u001b[0m logistic_model_smote\u001b[38;5;241m.\u001b[39mfit(\u001b[43mX_train_smote\u001b[49m, y_train_smote)\n\u001b[1;32m      8\u001b[0m \u001b[38;5;66;03m# Make predictions using the model on train set\u001b[39;00m\n\u001b[1;32m      9\u001b[0m y_pred_train_lm_sm \u001b[38;5;241m=\u001b[39m logistic_model_smote\u001b[38;5;241m.\u001b[39mpredict(X_train_smote)\n",
      "\u001b[0;31mNameError\u001b[0m: name 'X_train_smote' is not defined"
     ]
    }
   ],
   "source": [
    "# Create and train the logistic regression model\n",
    "#logistic_model = LogisticRegression()\n",
    "#logistic_model.fit(X_train_combined_df, y_train)\n",
    "\n",
    "logistic_model_smote = LogisticRegression()\n",
    "logistic_model_smote.fit(X_train_smote, y_train_smote)\n",
    "\n",
    "# Make predictions using the model on train set\n",
    "y_pred_train_lm_sm = logistic_model_smote.predict(X_train_smote)\n",
    "y_pred_test_lm_sm  = logistic_model_smote.predict(X_test_smote)\n",
    "\n",
    "# Evaluate the model's performance on train set\n",
    "accuracy_train_lm_sm = accuracy_score(y_train, y_pred_train_lm)\n",
    "report_train_lm_sm = classification_report(y_train, y_pred_train_lm)\n",
    "\n",
    "# Evaluate the model's performance test\n",
    "accuracy_test_lm_sm = accuracy_score(y_test, y_pred_test_lm)\n",
    "report_test_lm_sm = classification_report(y_test, y_pred_test_lm)\n",
    "\n",
    "print(f\"Accuracy for the TRAIN set: {accuracy_train_lm:.2f}\")\n",
    "print(\"Classification Report for the TRAIN set:\\n\", report_train_lm)\n",
    "\n",
    "\n",
    "print(f\"Accuracy for the TEST set: {accuracy_test_lm:.2f}\")\n",
    "print(\"Classification Report for the TEST set:\\n\", report_test_lm)"
   ]
  },
  {
   "cell_type": "code",
   "execution_count": null,
   "id": "880daffc-6d22-4c07-a1fd-c573eadccd88",
   "metadata": {},
   "outputs": [],
   "source": [
    "# Store scaler in pickle:\n",
    "import pickle\n",
    "from sklearn.preprocessing import StandardScaler\n",
    "\n",
    "# Save the scaler to a file\n",
    "with open(\"../../scalers/my_scaler.pkl\", \"wb\") as file:\n",
    "    pickle.dump(scaler, file)"
   ]
  },
  {
   "cell_type": "code",
   "execution_count": null,
   "id": "8ac64dd9-d863-454b-9e9f-3bad6274b987",
   "metadata": {},
   "outputs": [],
   "source": [
    "# Store transformer in pickle:\n",
    "\n",
    "# Save the transformer to a file\n",
    "with open(\"../../transformers/my_transformer.pkl\", \"wb\") as file:\n",
    "    pickle.dump(transformer, file)"
   ]
  },
  {
   "cell_type": "code",
   "execution_count": 23,
   "id": "76946214-026a-4476-8475-a5ad58cbb8e6",
   "metadata": {},
   "outputs": [],
   "source": [
    "# Store model in pickle:\n",
    "import pickle\n",
    "\n",
    "# Save the model to a file\n",
    "with open(\"../../models/logistic_model_smote.pkl\", \"wb\") as file:\n",
    "    pickle.dump(logistic_model_smote, file)"
   ]
  },
  {
   "cell_type": "markdown",
   "id": "ef5caf11-7195-4ebc-9044-f87050cd7f4a",
   "metadata": {},
   "source": [
    "### Decision Trees:"
   ]
  },
  {
   "cell_type": "code",
   "execution_count": 19,
   "id": "455c31b1-482a-48aa-ab0e-a6b9471fee63",
   "metadata": {},
   "outputs": [
    {
     "name": "stdout",
     "output_type": "stream",
     "text": [
      "Accuracy for the TRAIN set: 0.77\n",
      "Classification Report for the TRAIN set:\n",
      "               precision    recall  f1-score   support\n",
      "\n",
      "     Improve       0.78      0.97      0.87       372\n",
      "   No effect       0.63      0.18      0.28       108\n",
      "      Worsen       0.00      0.00      0.00        12\n",
      "\n",
      "    accuracy                           0.77       492\n",
      "   macro avg       0.47      0.38      0.38       492\n",
      "weighted avg       0.73      0.77      0.72       492\n",
      "\n",
      "Accuracy for the TEST set: 0.75\n",
      "Classification Report for the TEST set:\n",
      "               precision    recall  f1-score   support\n",
      "\n",
      "     Improve       0.78      0.94      0.85        94\n",
      "   No effect       0.45      0.19      0.26        27\n",
      "      Worsen       0.00      0.00      0.00         3\n",
      "\n",
      "    accuracy                           0.75       124\n",
      "   macro avg       0.41      0.37      0.37       124\n",
      "weighted avg       0.69      0.75      0.70       124\n",
      "\n"
     ]
    },
    {
     "name": "stderr",
     "output_type": "stream",
     "text": [
      "/Users/melanie/Ironhack/Week_9/Final_project_test/finalprojecttest_env/lib/python3.11/site-packages/sklearn/metrics/_classification.py:1471: UndefinedMetricWarning: Precision and F-score are ill-defined and being set to 0.0 in labels with no predicted samples. Use `zero_division` parameter to control this behavior.\n",
      "  _warn_prf(average, modifier, msg_start, len(result))\n",
      "/Users/melanie/Ironhack/Week_9/Final_project_test/finalprojecttest_env/lib/python3.11/site-packages/sklearn/metrics/_classification.py:1471: UndefinedMetricWarning: Precision and F-score are ill-defined and being set to 0.0 in labels with no predicted samples. Use `zero_division` parameter to control this behavior.\n",
      "  _warn_prf(average, modifier, msg_start, len(result))\n",
      "/Users/melanie/Ironhack/Week_9/Final_project_test/finalprojecttest_env/lib/python3.11/site-packages/sklearn/metrics/_classification.py:1471: UndefinedMetricWarning: Precision and F-score are ill-defined and being set to 0.0 in labels with no predicted samples. Use `zero_division` parameter to control this behavior.\n",
      "  _warn_prf(average, modifier, msg_start, len(result))\n",
      "/Users/melanie/Ironhack/Week_9/Final_project_test/finalprojecttest_env/lib/python3.11/site-packages/sklearn/metrics/_classification.py:1471: UndefinedMetricWarning: Precision and F-score are ill-defined and being set to 0.0 in labels with no predicted samples. Use `zero_division` parameter to control this behavior.\n",
      "  _warn_prf(average, modifier, msg_start, len(result))\n",
      "/Users/melanie/Ironhack/Week_9/Final_project_test/finalprojecttest_env/lib/python3.11/site-packages/sklearn/metrics/_classification.py:1471: UndefinedMetricWarning: Precision and F-score are ill-defined and being set to 0.0 in labels with no predicted samples. Use `zero_division` parameter to control this behavior.\n",
      "  _warn_prf(average, modifier, msg_start, len(result))\n",
      "/Users/melanie/Ironhack/Week_9/Final_project_test/finalprojecttest_env/lib/python3.11/site-packages/sklearn/metrics/_classification.py:1471: UndefinedMetricWarning: Precision and F-score are ill-defined and being set to 0.0 in labels with no predicted samples. Use `zero_division` parameter to control this behavior.\n",
      "  _warn_prf(average, modifier, msg_start, len(result))\n"
     ]
    }
   ],
   "source": [
    "# Decision Trees:\n",
    "\n",
    "from sklearn.tree import DecisionTreeClassifier\n",
    "\n",
    "# Create and train the Decision Trees model\n",
    "decisiontree_model = DecisionTreeClassifier()\n",
    "decisiontree_model.fit(X_train_combined_df, y_train)\n",
    "\n",
    "# Make predictions using the model on train set\n",
    "y_pred_train_lm = decisiontree_model.predict(X_train_combined_df)\n",
    "y_pred_test_lm  = decisiontree_model.predict(X_test_combined_df)\n",
    "\n",
    "# Evaluate the model's performance on train set\n",
    "accuracy_train_lm = accuracy_score(y_train, y_pred_train_lm)\n",
    "report_train_lm = classification_report(y_train, y_pred_train_lm)\n",
    "\n",
    "# Evaluate the model's performance test\n",
    "accuracy_test_lm = accuracy_score(y_test, y_pred_test_lm)\n",
    "report_test_lm = classification_report(y_test, y_pred_test_lm)\n",
    "\n",
    "print(f\"Accuracy for the TRAIN set: {accuracy_train_lm:.2f}\")\n",
    "print(\"Classification Report for the TRAIN set:\\n\", report_train_lm)\n",
    "\n",
    "\n",
    "print(f\"Accuracy for the TEST set: {accuracy_test_lm:.2f}\")\n",
    "print(\"Classification Report for the TEST set:\\n\", report_test_lm)"
   ]
  },
  {
   "cell_type": "code",
   "execution_count": 22,
   "id": "1fea63b9-9bfa-42d2-91a2-7d3b785cee31",
   "metadata": {},
   "outputs": [],
   "source": [
    "# Store model in pickle:\n",
    "import pickle\n",
    "\n",
    "# Save the model to a file\n",
    "with open(\"../../models/decisiontree_model.pkl\", \"wb\") as file:\n",
    "    pickle.dump(decisiontree_model, file)"
   ]
  },
  {
   "cell_type": "markdown",
   "id": "af587cb4-db9d-4b87-90e6-2adb6ff398ff",
   "metadata": {},
   "source": [
    "### Random Forest:"
   ]
  },
  {
   "cell_type": "code",
   "execution_count": 20,
   "id": "5c712199-ba4d-46ce-8b8b-f5f4b603d0a9",
   "metadata": {},
   "outputs": [
    {
     "name": "stdout",
     "output_type": "stream",
     "text": [
      "Accuracy for the TRAIN set: 0.77\n",
      "Classification Report for the TRAIN set:\n",
      "               precision    recall  f1-score   support\n",
      "\n",
      "     Improve       0.79      0.97      0.87       372\n",
      "   No effect       0.60      0.19      0.29       108\n",
      "      Worsen       0.33      0.08      0.13        12\n",
      "\n",
      "    accuracy                           0.77       492\n",
      "   macro avg       0.57      0.41      0.43       492\n",
      "weighted avg       0.74      0.77      0.72       492\n",
      "\n",
      "Accuracy for the TEST set: 0.75\n",
      "Classification Report for the TEST set:\n",
      "               precision    recall  f1-score   support\n",
      "\n",
      "     Improve       0.78      0.94      0.85        94\n",
      "   No effect       0.45      0.19      0.26        27\n",
      "      Worsen       0.00      0.00      0.00         3\n",
      "\n",
      "    accuracy                           0.75       124\n",
      "   macro avg       0.41      0.37      0.37       124\n",
      "weighted avg       0.69      0.75      0.70       124\n",
      "\n"
     ]
    },
    {
     "name": "stderr",
     "output_type": "stream",
     "text": [
      "/Users/melanie/Ironhack/Week_9/Final_project_test/finalprojecttest_env/lib/python3.11/site-packages/sklearn/metrics/_classification.py:1471: UndefinedMetricWarning: Precision and F-score are ill-defined and being set to 0.0 in labels with no predicted samples. Use `zero_division` parameter to control this behavior.\n",
      "  _warn_prf(average, modifier, msg_start, len(result))\n",
      "/Users/melanie/Ironhack/Week_9/Final_project_test/finalprojecttest_env/lib/python3.11/site-packages/sklearn/metrics/_classification.py:1471: UndefinedMetricWarning: Precision and F-score are ill-defined and being set to 0.0 in labels with no predicted samples. Use `zero_division` parameter to control this behavior.\n",
      "  _warn_prf(average, modifier, msg_start, len(result))\n",
      "/Users/melanie/Ironhack/Week_9/Final_project_test/finalprojecttest_env/lib/python3.11/site-packages/sklearn/metrics/_classification.py:1471: UndefinedMetricWarning: Precision and F-score are ill-defined and being set to 0.0 in labels with no predicted samples. Use `zero_division` parameter to control this behavior.\n",
      "  _warn_prf(average, modifier, msg_start, len(result))\n"
     ]
    }
   ],
   "source": [
    "# Random Forest:\n",
    "\n",
    "from sklearn.ensemble import RandomForestClassifier\n",
    "\n",
    "# Create and train the Random Forest model\n",
    "randomforest_model = RandomForestClassifier()\n",
    "randomforest_model.fit(X_train_combined_df, y_train)\n",
    "\n",
    "# Make predictions using the model on train set\n",
    "y_pred_train_lm = randomforest_model.predict(X_train_combined_df)\n",
    "y_pred_test_lm  = randomforest_model.predict(X_test_combined_df)\n",
    "\n",
    "# Evaluate the model's performance on train set\n",
    "accuracy_train_lm = accuracy_score(y_train, y_pred_train_lm)\n",
    "report_train_lm = classification_report(y_train, y_pred_train_lm)\n",
    "\n",
    "# Evaluate the model's performance test\n",
    "accuracy_test_lm = accuracy_score(y_test, y_pred_test_lm)\n",
    "report_test_lm = classification_report(y_test, y_pred_test_lm)\n",
    "\n",
    "print(f\"Accuracy for the TRAIN set: {accuracy_train_lm:.2f}\")\n",
    "print(\"Classification Report for the TRAIN set:\\n\", report_train_lm)\n",
    "\n",
    "\n",
    "print(f\"Accuracy for the TEST set: {accuracy_test_lm:.2f}\")\n",
    "print(\"Classification Report for the TEST set:\\n\", report_test_lm)"
   ]
  },
  {
   "cell_type": "code",
   "execution_count": null,
   "id": "be994ad1-fe41-40da-a7f0-3c96710da1bc",
   "metadata": {},
   "outputs": [],
   "source": []
  },
  {
   "cell_type": "code",
   "execution_count": 21,
   "id": "93f4b3a2-6e14-46a6-a6de-2c6846446078",
   "metadata": {},
   "outputs": [
    {
     "ename": "AttributeError",
     "evalue": "'RandomForestClassifier' object has no attribute 'pkl'",
     "output_type": "error",
     "traceback": [
      "\u001b[0;31m---------------------------------------------------------------------------\u001b[0m",
      "\u001b[0;31mAttributeError\u001b[0m                            Traceback (most recent call last)",
      "Cell \u001b[0;32mIn[21], line 6\u001b[0m\n\u001b[1;32m      4\u001b[0m \u001b[38;5;66;03m# Save the model to a file\u001b[39;00m\n\u001b[1;32m      5\u001b[0m \u001b[38;5;28;01mwith\u001b[39;00m \u001b[38;5;28mopen\u001b[39m(\u001b[38;5;124m\"\u001b[39m\u001b[38;5;124m../../models/randomforest_model.pkl\u001b[39m\u001b[38;5;124m\"\u001b[39m, \u001b[38;5;124m\"\u001b[39m\u001b[38;5;124mwb\u001b[39m\u001b[38;5;124m\"\u001b[39m) \u001b[38;5;28;01mas\u001b[39;00m file:\n\u001b[0;32m----> 6\u001b[0m     pickle\u001b[38;5;241m.\u001b[39mdump(\u001b[43mrandomforest_model\u001b[49m\u001b[38;5;241;43m.\u001b[39;49m\u001b[43mpkl\u001b[49m, file)\n",
      "\u001b[0;31mAttributeError\u001b[0m: 'RandomForestClassifier' object has no attribute 'pkl'"
     ]
    }
   ],
   "source": [
    "# Store model in pickle:\n",
    "import pickle\n",
    "\n",
    "# Save the model to a file\n",
    "with open(\"../../models/randomforest_model.pkl\", \"wb\") as file:\n",
    "    pickle.dump(randomforest_model.pkl, file)"
   ]
  },
  {
   "cell_type": "markdown",
   "id": "cdbf2240-3be6-4f16-a6dc-80011864a212",
   "metadata": {},
   "source": [
    "### Neural Networks:"
   ]
  },
  {
   "cell_type": "code",
   "execution_count": null,
   "id": "19a800eb-8f4c-413e-a3d8-f55891e892ee",
   "metadata": {},
   "outputs": [],
   "source": [
    "# Neural Networks:\n",
    "\n",
    "import tensorflow as tf\n",
    "from sklearn.model_selection import train_test_split\n",
    "from sklearn.metrics import accuracy_score, mean_squared_error, classification_report, r2_score"
   ]
  },
  {
   "cell_type": "code",
   "execution_count": null,
   "id": "53ce3861-d6c4-4b82-803d-e57a810b5a58",
   "metadata": {},
   "outputs": [],
   "source": [
    "# Store model in pickle:"
   ]
  },
  {
   "cell_type": "markdown",
   "id": "143ccb9f-4f8a-488f-8247-ce86983091e3",
   "metadata": {},
   "source": [
    "### What is the best model?"
   ]
  },
  {
   "cell_type": "code",
   "execution_count": null,
   "id": "6a986b82-866c-4556-95ee-e069172ac4c2",
   "metadata": {},
   "outputs": [],
   "source": []
  },
  {
   "cell_type": "markdown",
   "id": "259e2cce-550a-4d04-9d56-d15dd45c0dcd",
   "metadata": {},
   "source": [
    "_________"
   ]
  },
  {
   "cell_type": "markdown",
   "id": "02c74f0f",
   "metadata": {},
   "source": [
    "### 6) Can I make helpful recommendations based on these findings?"
   ]
  },
  {
   "cell_type": "markdown",
   "id": "2537a389-4074-4006-9b7e-fbab7468ce44",
   "metadata": {},
   "source": [
    "* When I learn to make a succesful model\n",
    "* When I add to this research by doing a new survey and explore elements in music, I can train the model to make more helpful recommendations."
   ]
  },
  {
   "cell_type": "markdown",
   "id": "71b635fa",
   "metadata": {},
   "source": [
    "_______"
   ]
  }
 ],
 "metadata": {
  "kernelspec": {
   "display_name": "finalprojecttest_env",
   "language": "python",
   "name": "finalprojecttest_env"
  },
  "language_info": {
   "codemirror_mode": {
    "name": "ipython",
    "version": 3
   },
   "file_extension": ".py",
   "mimetype": "text/x-python",
   "name": "python",
   "nbconvert_exporter": "python",
   "pygments_lexer": "ipython3",
   "version": "3.11.3"
  }
 },
 "nbformat": 4,
 "nbformat_minor": 5
}
