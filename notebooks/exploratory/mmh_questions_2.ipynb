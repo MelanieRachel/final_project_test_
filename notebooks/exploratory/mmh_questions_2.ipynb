{
 "cells": [
  {
   "cell_type": "markdown",
   "id": "34496cf0",
   "metadata": {},
   "source": [
    "# Music & Mental Health | Trying to predict music effects\n",
    "_______________________________________"
   ]
  },
  {
   "cell_type": "markdown",
   "id": "b8b90d2b",
   "metadata": {},
   "source": [
    "## Data Transformation / Data Visualisation / Feature Engineering\n",
    "\n",
    "* What **aggregations** to do?\n",
    "* What **plots** to visualize? --> matplotlib + seaborn + kaggle"
   ]
  },
  {
   "cell_type": "markdown",
   "id": "3f291b78",
   "metadata": {},
   "source": [
    "## Trying to discover trends / predict music effects:\n",
    "\n",
    "1) What is the connection between **music use** and its effect on **disease**(mental health)?\n",
    "2) What is the connection between **music preference** and effect on **disease**(mental health)? \n",
    "_________\n",
    "* Granularity --> fav genre as first, related statistcal, individualy fre compare to disease\n",
    "_________\n",
    "3) What is the connection between **music genre** and effect on **disease**(mental health)?\n",
    "4) Which **disease**(mental health) experiences the **greatest effect** from music? \n",
    "_________\n",
    "* Plot difference between mental health and anxiety\n",
    "_________\n",
    "5) Can I make helpful recommendations based on these findings? \n",
    "6) What **age** (range) experiences the most the **diseases**. What is there music effect? What music genre do they listen to?\n",
    "What is there music use?\n",
    "\n",
    "_________\n",
    "\n",
    "* What is the **mean** anxiety (1.0-10.0) level (numerical) for **every possible music effect** (Improve, No effect, Worsen)(categorical)\n",
    "* What is the **mean** depression (1.0-10.0) level (numerical)\n",
    "* What is the **mean** insomnia (1.0-10.0) level (numerical)\n",
    "* What is the **mean** OCD (1.0-10.0) level (numerical)\n",
    "\n",
    "_________\n",
    "\n",
    "* More than 2 poss valuebale --> statistical test ?\n",
    "\n",
    "_________\n",
    "\n",
    "TO DO: \n",
    "\n",
    "- Calculate the right things (aggregations)\n",
    "- Plot these questions:\n",
    "In order to plot you first need to calculate the right thing.\n",
    "\n",
    "- Plot when visualization is relevant\n",
    "\n",
    "* Aggregation --> function\n",
    "* Plot --> function\n",
    "\n",
    "________"
   ]
  },
  {
   "cell_type": "code",
   "execution_count": 4,
   "id": "37f426c4",
   "metadata": {},
   "outputs": [],
   "source": [
    "# Load libraries:\n",
    "\n",
    "import numpy as np\n",
    "import pandas as pd\n",
    "import matplotlib.pyplot as plt\n",
    "import seaborn as sns\n",
    "from sklearn.impute import KNNImputer\n"
   ]
  },
  {
   "cell_type": "code",
   "execution_count": 5,
   "id": "2cf8f4f1",
   "metadata": {},
   "outputs": [],
   "source": [
    "# Read cleaned dataset\n",
    "# data_mmh = pd.read_csv('../../data/cleaned/data_mmh_cleaned1.csv')\n",
    "# Remove the Unnamed Column: \n",
    "data_mmh = pd.read_csv('../../data/cleaned/data_mmh_cleaned2.csv', index_col=0)\n"
   ]
  },
  {
   "cell_type": "code",
   "execution_count": 6,
   "id": "d6e2744e",
   "metadata": {},
   "outputs": [
    {
     "data": {
      "text/html": [
       "<div>\n",
       "<style scoped>\n",
       "    .dataframe tbody tr th:only-of-type {\n",
       "        vertical-align: middle;\n",
       "    }\n",
       "\n",
       "    .dataframe tbody tr th {\n",
       "        vertical-align: top;\n",
       "    }\n",
       "\n",
       "    .dataframe thead th {\n",
       "        text-align: right;\n",
       "    }\n",
       "</style>\n",
       "<table border=\"1\" class=\"dataframe\">\n",
       "  <thead>\n",
       "    <tr style=\"text-align: right;\">\n",
       "      <th></th>\n",
       "      <th>Age</th>\n",
       "      <th>Hours per day</th>\n",
       "      <th>While working</th>\n",
       "      <th>Instrumentalist</th>\n",
       "      <th>Composer</th>\n",
       "      <th>Favorite genre</th>\n",
       "      <th>Exploratory</th>\n",
       "      <th>Foreign languages</th>\n",
       "      <th>BPM</th>\n",
       "      <th>Frequency [Classical]</th>\n",
       "      <th>...</th>\n",
       "      <th>Frequency [R&amp;B]</th>\n",
       "      <th>Frequency [Rap]</th>\n",
       "      <th>Frequency [Rock]</th>\n",
       "      <th>Frequency [Video game music]</th>\n",
       "      <th>Anxiety</th>\n",
       "      <th>Depression</th>\n",
       "      <th>Insomnia</th>\n",
       "      <th>OCD</th>\n",
       "      <th>Music effects</th>\n",
       "      <th>Permissions</th>\n",
       "    </tr>\n",
       "  </thead>\n",
       "  <tbody>\n",
       "    <tr>\n",
       "      <th>0</th>\n",
       "      <td>18.0</td>\n",
       "      <td>4.0</td>\n",
       "      <td>No</td>\n",
       "      <td>No</td>\n",
       "      <td>No</td>\n",
       "      <td>Video game music</td>\n",
       "      <td>No</td>\n",
       "      <td>Yes</td>\n",
       "      <td>132.0</td>\n",
       "      <td>Never</td>\n",
       "      <td>...</td>\n",
       "      <td>Never</td>\n",
       "      <td>Rarely</td>\n",
       "      <td>Rarely</td>\n",
       "      <td>Very frequently</td>\n",
       "      <td>7.0</td>\n",
       "      <td>7.0</td>\n",
       "      <td>10.0</td>\n",
       "      <td>2.0</td>\n",
       "      <td>No effect</td>\n",
       "      <td>I understand.</td>\n",
       "    </tr>\n",
       "    <tr>\n",
       "      <th>1</th>\n",
       "      <td>61.0</td>\n",
       "      <td>2.5</td>\n",
       "      <td>Yes</td>\n",
       "      <td>No</td>\n",
       "      <td>Yes</td>\n",
       "      <td>Jazz</td>\n",
       "      <td>Yes</td>\n",
       "      <td>Yes</td>\n",
       "      <td>84.0</td>\n",
       "      <td>Sometimes</td>\n",
       "      <td>...</td>\n",
       "      <td>Sometimes</td>\n",
       "      <td>Never</td>\n",
       "      <td>Never</td>\n",
       "      <td>Never</td>\n",
       "      <td>9.0</td>\n",
       "      <td>7.0</td>\n",
       "      <td>3.0</td>\n",
       "      <td>3.0</td>\n",
       "      <td>Improve</td>\n",
       "      <td>I understand.</td>\n",
       "    </tr>\n",
       "    <tr>\n",
       "      <th>2</th>\n",
       "      <td>18.0</td>\n",
       "      <td>4.0</td>\n",
       "      <td>Yes</td>\n",
       "      <td>No</td>\n",
       "      <td>No</td>\n",
       "      <td>R&amp;B</td>\n",
       "      <td>Yes</td>\n",
       "      <td>No</td>\n",
       "      <td>107.0</td>\n",
       "      <td>Never</td>\n",
       "      <td>...</td>\n",
       "      <td>Very frequently</td>\n",
       "      <td>Very frequently</td>\n",
       "      <td>Never</td>\n",
       "      <td>Rarely</td>\n",
       "      <td>7.0</td>\n",
       "      <td>2.0</td>\n",
       "      <td>5.0</td>\n",
       "      <td>9.0</td>\n",
       "      <td>Improve</td>\n",
       "      <td>I understand.</td>\n",
       "    </tr>\n",
       "    <tr>\n",
       "      <th>3</th>\n",
       "      <td>18.0</td>\n",
       "      <td>5.0</td>\n",
       "      <td>Yes</td>\n",
       "      <td>Yes</td>\n",
       "      <td>Yes</td>\n",
       "      <td>Jazz</td>\n",
       "      <td>Yes</td>\n",
       "      <td>Yes</td>\n",
       "      <td>86.0</td>\n",
       "      <td>Rarely</td>\n",
       "      <td>...</td>\n",
       "      <td>Very frequently</td>\n",
       "      <td>Very frequently</td>\n",
       "      <td>Very frequently</td>\n",
       "      <td>Never</td>\n",
       "      <td>8.0</td>\n",
       "      <td>8.0</td>\n",
       "      <td>7.0</td>\n",
       "      <td>7.0</td>\n",
       "      <td>Improve</td>\n",
       "      <td>I understand.</td>\n",
       "    </tr>\n",
       "    <tr>\n",
       "      <th>4</th>\n",
       "      <td>18.0</td>\n",
       "      <td>3.0</td>\n",
       "      <td>Yes</td>\n",
       "      <td>Yes</td>\n",
       "      <td>No</td>\n",
       "      <td>Video game music</td>\n",
       "      <td>Yes</td>\n",
       "      <td>Yes</td>\n",
       "      <td>66.0</td>\n",
       "      <td>Sometimes</td>\n",
       "      <td>...</td>\n",
       "      <td>Rarely</td>\n",
       "      <td>Never</td>\n",
       "      <td>Never</td>\n",
       "      <td>Sometimes</td>\n",
       "      <td>4.0</td>\n",
       "      <td>8.0</td>\n",
       "      <td>6.0</td>\n",
       "      <td>0.0</td>\n",
       "      <td>Improve</td>\n",
       "      <td>I understand.</td>\n",
       "    </tr>\n",
       "  </tbody>\n",
       "</table>\n",
       "<p>5 rows × 31 columns</p>\n",
       "</div>"
      ],
      "text/plain": [
       "    Age  Hours per day While working Instrumentalist Composer  \\\n",
       "0  18.0            4.0            No              No       No   \n",
       "1  61.0            2.5           Yes              No      Yes   \n",
       "2  18.0            4.0           Yes              No       No   \n",
       "3  18.0            5.0           Yes             Yes      Yes   \n",
       "4  18.0            3.0           Yes             Yes       No   \n",
       "\n",
       "     Favorite genre Exploratory Foreign languages    BPM  \\\n",
       "0  Video game music          No               Yes  132.0   \n",
       "1              Jazz         Yes               Yes   84.0   \n",
       "2               R&B         Yes                No  107.0   \n",
       "3              Jazz         Yes               Yes   86.0   \n",
       "4  Video game music         Yes               Yes   66.0   \n",
       "\n",
       "  Frequency [Classical]  ...  Frequency [R&B]  Frequency [Rap]  \\\n",
       "0                 Never  ...            Never           Rarely   \n",
       "1             Sometimes  ...        Sometimes            Never   \n",
       "2                 Never  ...  Very frequently  Very frequently   \n",
       "3                Rarely  ...  Very frequently  Very frequently   \n",
       "4             Sometimes  ...           Rarely            Never   \n",
       "\n",
       "  Frequency [Rock] Frequency [Video game music] Anxiety Depression Insomnia  \\\n",
       "0           Rarely              Very frequently     7.0        7.0     10.0   \n",
       "1            Never                        Never     9.0        7.0      3.0   \n",
       "2            Never                       Rarely     7.0        2.0      5.0   \n",
       "3  Very frequently                        Never     8.0        8.0      7.0   \n",
       "4            Never                    Sometimes     4.0        8.0      6.0   \n",
       "\n",
       "   OCD Music effects    Permissions  \n",
       "0  2.0     No effect  I understand.  \n",
       "1  3.0       Improve  I understand.  \n",
       "2  9.0       Improve  I understand.  \n",
       "3  7.0       Improve  I understand.  \n",
       "4  0.0       Improve  I understand.  \n",
       "\n",
       "[5 rows x 31 columns]"
      ]
     },
     "execution_count": 6,
     "metadata": {},
     "output_type": "execute_result"
    }
   ],
   "source": [
    "data_mmh.head()\n"
   ]
  },
  {
   "cell_type": "code",
   "execution_count": 7,
   "id": "e2cfbd56",
   "metadata": {},
   "outputs": [
    {
     "data": {
      "text/plain": [
       "(616, 31)"
      ]
     },
     "execution_count": 7,
     "metadata": {},
     "output_type": "execute_result"
    }
   ],
   "source": [
    "data_mmh.shape"
   ]
  },
  {
   "cell_type": "markdown",
   "id": "cacb49b0",
   "metadata": {},
   "source": [
    "### 1) Connection **disease** and **music use**:\n",
    "\n",
    "___________________"
   ]
  },
  {
   "cell_type": "code",
   "execution_count": 8,
   "id": "542774f6",
   "metadata": {},
   "outputs": [
    {
     "data": {
      "text/plain": [
       "Index(['Age', 'Hours per day', 'While working', 'Instrumentalist', 'Composer',\n",
       "       'Favorite genre', 'Exploratory', 'Foreign languages', 'BPM',\n",
       "       'Frequency [Classical]', 'Frequency [Country]', 'Frequency [EDM]',\n",
       "       'Frequency [Folk]', 'Frequency [Gospel]', 'Frequency [Hip hop]',\n",
       "       'Frequency [Jazz]', 'Frequency [K pop]', 'Frequency [Latin]',\n",
       "       'Frequency [Lofi]', 'Frequency [Metal]', 'Frequency [Pop]',\n",
       "       'Frequency [R&B]', 'Frequency [Rap]', 'Frequency [Rock]',\n",
       "       'Frequency [Video game music]', 'Anxiety', 'Depression', 'Insomnia',\n",
       "       'OCD', 'Music effects', 'Permissions'],\n",
       "      dtype='object')"
      ]
     },
     "execution_count": 8,
     "metadata": {},
     "output_type": "execute_result"
    }
   ],
   "source": [
    "data_mmh.columns"
   ]
  },
  {
   "cell_type": "code",
   "execution_count": 34,
   "id": "74ff139c",
   "metadata": {
    "scrolled": true
   },
   "outputs": [
    {
     "data": {
      "text/plain": [
       "<Axes: ylabel='Music effects'>"
      ]
     },
     "execution_count": 34,
     "metadata": {},
     "output_type": "execute_result"
    },
    {
     "data": {
      "image/png": "[encoded data removed]",
      "text/plain": [
       "<Figure size 640x480 with 1 Axes>"
      ]
     },
     "metadata": {},
     "output_type": "display_data"
    }
   ],
   "source": [
    "# 1) What is the connection between **disease** (numerical) and **music use** (numerical/categorical)?\n",
    "# Get \"diseases\" and \"music use\" in 1 plot\n",
    "# Create a function with for loop?\n",
    "\n",
    "# Get average 'Disease' (numerical) for every possible 'Music use' (numerical/categorical):\n",
    "# - Hours per day (numerical)\n",
    "# - While working (categorical)\n",
    "# - Instrumentalist (categorical)\n",
    "# - Composer (categorical)\n",
    "\n",
    "# Anova test for cehcking relationship between categorical and numerical #ANOVA\n",
    "# Test for checking relationship between numerical and numerical #LinearRegression?\n",
    "data_mmh.groupby('Music effects').agg({\"Hours per day\": 'mean'}).plot.barh() \n",
    "\n",
    "# Test for checking relationship between categorical and categorical # Chi2\n",
    "# Mussic effects (c) and 'Hours per day' (n)\n",
    "# Mussic effects (c) and 'While working' (c)\n",
    "# Mussic effects (c) and 'Instrumentalist'  (c)\n",
    "# Mussic effects (c) and 'Composer'  (c)\n",
    "\n",
    "\n",
    "# Get average 'Anxiety' (numerical) for every possible music use:\n",
    "#data_mmh.groupby(['Hours per day']).agg({'Anxiety': 'mean'}).head()\n",
    "#data_mmh.groupby(['While working']).agg({'Anxiety': 'mean'}).head()\n",
    "#data_mmh.groupby(['Instrumentalist']).agg({'Anxiety': 'mean'}).head()\n",
    "#data_mmh.groupby(['Composer']).agg({'Anxiety': 'mean'}).head()\n",
    "\n",
    "# Get average 'Depression' (numerical) for every possible music use \n",
    "# data_mmh.groupby('Music effects').agg({\"Anxiety\": 'mean'})\n",
    "# Get average 'Insomnia' (numerical) for every possible music use\n",
    "# Get average 'OCD' (numerical) for every possible music use \n",
    "\n",
    "# Display\n",
    "#display(data_mmh.groupby(['Hours per day']).agg({'Anxiety': 'mean'}).head())\n",
    "#display(data_mmh.groupby(['While working']).agg({'Anxiety': 'mean'}).head())\n",
    "#display(data_mmh.groupby(['Instrumentalist']).agg({'Anxiety': 'mean'}).head())\n",
    "#display(data_mmh.groupby(['Composer']).agg({'Anxiety': 'mean'}).head())"
   ]
  },
  {
   "cell_type": "code",
   "execution_count": 17,
   "id": "c0c83983",
   "metadata": {},
   "outputs": [
    {
     "data": {
      "text/html": [
       "<div>\n",
       "<style scoped>\n",
       "    .dataframe tbody tr th:only-of-type {\n",
       "        vertical-align: middle;\n",
       "    }\n",
       "\n",
       "    .dataframe tbody tr th {\n",
       "        vertical-align: top;\n",
       "    }\n",
       "\n",
       "    .dataframe thead th {\n",
       "        text-align: right;\n",
       "    }\n",
       "</style>\n",
       "<table border=\"1\" class=\"dataframe\">\n",
       "  <thead>\n",
       "    <tr style=\"text-align: right;\">\n",
       "      <th>While working</th>\n",
       "      <th>No</th>\n",
       "      <th>Yes</th>\n",
       "    </tr>\n",
       "    <tr>\n",
       "      <th>Music effects</th>\n",
       "      <th></th>\n",
       "      <th></th>\n",
       "    </tr>\n",
       "  </thead>\n",
       "  <tbody>\n",
       "    <tr>\n",
       "      <th>Improve</th>\n",
       "      <td>79</td>\n",
       "      <td>387</td>\n",
       "    </tr>\n",
       "    <tr>\n",
       "      <th>No effect</th>\n",
       "      <td>42</td>\n",
       "      <td>93</td>\n",
       "    </tr>\n",
       "    <tr>\n",
       "      <th>Worsen</th>\n",
       "      <td>5</td>\n",
       "      <td>10</td>\n",
       "    </tr>\n",
       "  </tbody>\n",
       "</table>\n",
       "</div>"
      ],
      "text/plain": [
       "While working  No  Yes\n",
       "Music effects         \n",
       "Improve        79  387\n",
       "No effect      42   93\n",
       "Worsen          5   10"
      ]
     },
     "execution_count": 17,
     "metadata": {},
     "output_type": "execute_result"
    }
   ],
   "source": [
    "# Aggregate categorical vs categorical\n",
    "# Use Pandas crosstab to create a contingency table (cross-tabulation)\n",
    "#contingency_table = pd.crosstab(df['Category1'], df['Category2'])\n",
    "\n",
    "musiceffects_ww = pd.crosstab(data_mmh['Music effects'], data_mmh['While working'])\n",
    "musiceffects_ww"
   ]
  },
  {
   "cell_type": "code",
   "execution_count": 18,
   "id": "ca91f242",
   "metadata": {},
   "outputs": [
    {
     "data": {
      "text/plain": [
       "<Axes: xlabel='While working', ylabel='Music effects'>"
      ]
     },
     "execution_count": 18,
     "metadata": {},
     "output_type": "execute_result"
    },
    {
     "data": {
      "image/png": "[encoded data removed]",
      "text/plain": [
       "<Figure size 640x480 with 2 Axes>"
      ]
     },
     "metadata": {},
     "output_type": "display_data"
    }
   ],
   "source": [
    "sns.heatmap(musiceffects_ww, annot=True)"
   ]
  },
  {
   "cell_type": "code",
   "execution_count": 22,
   "id": "31d80bbe",
   "metadata": {},
   "outputs": [
    {
     "data": {
      "text/html": [
       "<div>\n",
       "<style scoped>\n",
       "    .dataframe tbody tr th:only-of-type {\n",
       "        vertical-align: middle;\n",
       "    }\n",
       "\n",
       "    .dataframe tbody tr th {\n",
       "        vertical-align: top;\n",
       "    }\n",
       "\n",
       "    .dataframe thead th {\n",
       "        text-align: right;\n",
       "    }\n",
       "</style>\n",
       "<table border=\"1\" class=\"dataframe\">\n",
       "  <thead>\n",
       "    <tr style=\"text-align: right;\">\n",
       "      <th>Instrumentalist</th>\n",
       "      <th>No</th>\n",
       "      <th>Yes</th>\n",
       "    </tr>\n",
       "    <tr>\n",
       "      <th>Music effects</th>\n",
       "      <th></th>\n",
       "      <th></th>\n",
       "    </tr>\n",
       "  </thead>\n",
       "  <tbody>\n",
       "    <tr>\n",
       "      <th>Improve</th>\n",
       "      <td>303</td>\n",
       "      <td>163</td>\n",
       "    </tr>\n",
       "    <tr>\n",
       "      <th>No effect</th>\n",
       "      <td>102</td>\n",
       "      <td>33</td>\n",
       "    </tr>\n",
       "    <tr>\n",
       "      <th>Worsen</th>\n",
       "      <td>11</td>\n",
       "      <td>4</td>\n",
       "    </tr>\n",
       "  </tbody>\n",
       "</table>\n",
       "</div>"
      ],
      "text/plain": [
       "Instrumentalist   No  Yes\n",
       "Music effects            \n",
       "Improve          303  163\n",
       "No effect        102   33\n",
       "Worsen            11    4"
      ]
     },
     "execution_count": 22,
     "metadata": {},
     "output_type": "execute_result"
    }
   ],
   "source": [
    "# Mussic effects (c) and 'Instrumentalist' (c)\n",
    "musiceffects_i = pd.crosstab(data_mmh['Music effects'], data_mmh['Instrumentalist'])\n",
    "musiceffects_i"
   ]
  },
  {
   "cell_type": "code",
   "execution_count": 23,
   "id": "01a8b7d8",
   "metadata": {},
   "outputs": [
    {
     "data": {
      "text/plain": [
       "<Axes: xlabel='Instrumentalist', ylabel='Music effects'>"
      ]
     },
     "execution_count": 23,
     "metadata": {},
     "output_type": "execute_result"
    },
    {
     "data": {
      "image/png": "[encoded data removed]",
      "text/plain": [
       "<Figure size 640x480 with 2 Axes>"
      ]
     },
     "metadata": {},
     "output_type": "display_data"
    }
   ],
   "source": [
    "sns.heatmap(musiceffects_i, annot=True)"
   ]
  },
  {
   "cell_type": "code",
   "execution_count": 24,
   "id": "656fef6c",
   "metadata": {},
   "outputs": [
    {
     "data": {
      "text/html": [
       "<div>\n",
       "<style scoped>\n",
       "    .dataframe tbody tr th:only-of-type {\n",
       "        vertical-align: middle;\n",
       "    }\n",
       "\n",
       "    .dataframe tbody tr th {\n",
       "        vertical-align: top;\n",
       "    }\n",
       "\n",
       "    .dataframe thead th {\n",
       "        text-align: right;\n",
       "    }\n",
       "</style>\n",
       "<table border=\"1\" class=\"dataframe\">\n",
       "  <thead>\n",
       "    <tr style=\"text-align: right;\">\n",
       "      <th>Composer</th>\n",
       "      <th>No</th>\n",
       "      <th>Yes</th>\n",
       "    </tr>\n",
       "    <tr>\n",
       "      <th>Music effects</th>\n",
       "      <th></th>\n",
       "      <th></th>\n",
       "    </tr>\n",
       "  </thead>\n",
       "  <tbody>\n",
       "    <tr>\n",
       "      <th>Improve</th>\n",
       "      <td>376</td>\n",
       "      <td>90</td>\n",
       "    </tr>\n",
       "    <tr>\n",
       "      <th>No effect</th>\n",
       "      <td>119</td>\n",
       "      <td>16</td>\n",
       "    </tr>\n",
       "    <tr>\n",
       "      <th>Worsen</th>\n",
       "      <td>13</td>\n",
       "      <td>2</td>\n",
       "    </tr>\n",
       "  </tbody>\n",
       "</table>\n",
       "</div>"
      ],
      "text/plain": [
       "Composer        No  Yes\n",
       "Music effects          \n",
       "Improve        376   90\n",
       "No effect      119   16\n",
       "Worsen          13    2"
      ]
     },
     "execution_count": 24,
     "metadata": {},
     "output_type": "execute_result"
    }
   ],
   "source": [
    "# Mussic effects (c) and 'Composer' (c)\n",
    "musiceffects_c = pd.crosstab(data_mmh['Music effects'], data_mmh['Composer'])\n",
    "musiceffects_c"
   ]
  },
  {
   "cell_type": "code",
   "execution_count": 25,
   "id": "672e34e3",
   "metadata": {},
   "outputs": [
    {
     "data": {
      "text/plain": [
       "<Axes: xlabel='Composer', ylabel='Music effects'>"
      ]
     },
     "execution_count": 25,
     "metadata": {},
     "output_type": "execute_result"
    },
    {
     "data": {
      "image/png": "[encoded data removed]",
      "text/plain": [
       "<Figure size 640x480 with 2 Axes>"
      ]
     },
     "metadata": {},
     "output_type": "display_data"
    }
   ],
   "source": [
    "sns.heatmap(musiceffects_c, annot=True)"
   ]
  },
  {
   "cell_type": "code",
   "execution_count": 33,
   "id": "7ab731d6",
   "metadata": {},
   "outputs": [
    {
     "name": "stdout",
     "output_type": "stream",
     "text": [
      "Contingency Table for Music effects vs While working:\n",
      "While working  No  Yes\n",
      "Music effects         \n",
      "Improve        79  387\n",
      "No effect      42   93\n",
      "Worsen          5   10\n",
      "\n"
     ]
    }
   ],
   "source": [
    "# create a function to aggregate multiple categorical vs categorical columns: --> Crosstab function in Pandas\n",
    "\n",
    "import pandas as pd\n",
    "\n",
    "def aggregate_categorical_vs_categorical(data, categorical_columns):\n",
    "    \"\"\"\n",
    "    Aggregates multiple categorical vs. categorical columns and creates contingency tables.\n",
    "\n",
    "    Args:\n",
    "    data (pandas.DataFrame): The DataFrame containing the data.\n",
    "    categorical_columns (list): A list of column names representing categorical variables.\n",
    "\n",
    "    Returns:\n",
    "    dict: A dictionary where keys are pairs of categorical columns, and values are the corresponding contingency tables.\n",
    "    \"\"\"\n",
    "    results = {}\n",
    "\n",
    "    for i in range(len(categorical_columns) - 1):\n",
    "        for j in range(i + 1, len(categorical_columns)):\n",
    "            col1 = categorical_columns[i]\n",
    "            col2 = categorical_columns[j]\n",
    "            contingency_table = pd.crosstab(data[col1], data[col2])\n",
    "            results[f\"{col1} vs {col2}\"] = contingency_table\n",
    "\n",
    "    return results\n",
    "\n",
    "# Sample data\n",
    "data = data_mmh\n",
    "#data = {\n",
    "#   'Category1': ['A', 'A', 'B', 'B', 'A', 'C'],\n",
    "#    'Category2': ['X', 'Y', 'Y', 'X', 'Z', 'Z'],\n",
    "#    'Category3': ['High', 'Low', 'High', 'High', 'Low', 'Low']\n",
    "#}\n",
    "\n",
    "# Create a Pandas DataFrame\n",
    "df = pd.DataFrame(data_mmh)\n",
    "\n",
    "# List of categorical columns\n",
    "categorical_columns = ['Music effects', 'While working']\n",
    "\n",
    "# Aggregate the data\n",
    "aggregated_data = aggregate_categorical_vs_categorical(df, categorical_columns)\n",
    "\n",
    "# Access and display contingency tables\n",
    "for key, contingency_table in aggregated_data.items():\n",
    "    print(f\"Contingency Table for {key}:\\n{contingency_table}\\n\")\n",
    " "
   ]
  },
  {
   "cell_type": "code",
   "execution_count": 31,
   "id": "23aec2a2",
   "metadata": {},
   "outputs": [
    {
     "data": {
      "text/html": [
       "<div>\n",
       "<style scoped>\n",
       "    .dataframe tbody tr th:only-of-type {\n",
       "        vertical-align: middle;\n",
       "    }\n",
       "\n",
       "    .dataframe tbody tr th {\n",
       "        vertical-align: top;\n",
       "    }\n",
       "\n",
       "    .dataframe thead th {\n",
       "        text-align: right;\n",
       "    }\n",
       "</style>\n",
       "<table border=\"1\" class=\"dataframe\">\n",
       "  <thead>\n",
       "    <tr style=\"text-align: right;\">\n",
       "      <th>While working</th>\n",
       "      <th>No</th>\n",
       "      <th>Yes</th>\n",
       "    </tr>\n",
       "    <tr>\n",
       "      <th>Music effects</th>\n",
       "      <th></th>\n",
       "      <th></th>\n",
       "    </tr>\n",
       "  </thead>\n",
       "  <tbody>\n",
       "    <tr>\n",
       "      <th>Improve</th>\n",
       "      <td>79</td>\n",
       "      <td>387</td>\n",
       "    </tr>\n",
       "    <tr>\n",
       "      <th>No effect</th>\n",
       "      <td>42</td>\n",
       "      <td>93</td>\n",
       "    </tr>\n",
       "    <tr>\n",
       "      <th>Worsen</th>\n",
       "      <td>5</td>\n",
       "      <td>10</td>\n",
       "    </tr>\n",
       "  </tbody>\n",
       "</table>\n",
       "</div>"
      ],
      "text/plain": [
       "While working  No  Yes\n",
       "Music effects         \n",
       "Improve        79  387\n",
       "No effect      42   93\n",
       "Worsen          5   10"
      ]
     },
     "execution_count": 31,
     "metadata": {},
     "output_type": "execute_result"
    }
   ],
   "source": [
    "contingency_table"
   ]
  },
  {
   "cell_type": "code",
   "execution_count": 35,
   "id": "4c24cd91",
   "metadata": {
    "scrolled": true
   },
   "outputs": [
    {
     "ename": "TypeError",
     "evalue": "'Axes' object is not subscriptable",
     "output_type": "error",
     "traceback": [
      "\u001b[0;31m---------------------------------------------------------------------------\u001b[0m",
      "\u001b[0;31mTypeError\u001b[0m                                 Traceback (most recent call last)",
      "Cell \u001b[0;32mIn[35], line 53\u001b[0m\n\u001b[1;32m     50\u001b[0m categorical_columns \u001b[38;5;241m=\u001b[39m [\u001b[38;5;124m'\u001b[39m\u001b[38;5;124mMusic effects\u001b[39m\u001b[38;5;124m'\u001b[39m, \u001b[38;5;124m'\u001b[39m\u001b[38;5;124mWhile working\u001b[39m\u001b[38;5;124m'\u001b[39m]\n\u001b[1;32m     52\u001b[0m \u001b[38;5;66;03m# Aggregate the data and plot it as a heatmap\u001b[39;00m\n\u001b[0;32m---> 53\u001b[0m aggregate_and_plot_categorical_heatmap(df, categorical_columns)\n",
      "Cell \u001b[0;32mIn[35], line 31\u001b[0m, in \u001b[0;36maggregate_and_plot_categorical_heatmap\u001b[0;34m(df, categorical_columns)\u001b[0m\n\u001b[1;32m     28\u001b[0m fig, axes \u001b[38;5;241m=\u001b[39m plt\u001b[38;5;241m.\u001b[39msubplots(\u001b[38;5;241m1\u001b[39m, \u001b[38;5;28mlen\u001b[39m(results), figsize\u001b[38;5;241m=\u001b[39m(\u001b[38;5;241m15\u001b[39m, \u001b[38;5;241m5\u001b[39m))\n\u001b[1;32m     30\u001b[0m \u001b[38;5;28;01mfor\u001b[39;00m idx, (key, contingency_df) \u001b[38;5;129;01min\u001b[39;00m \u001b[38;5;28menumerate\u001b[39m(results\u001b[38;5;241m.\u001b[39mitems()):\n\u001b[0;32m---> 31\u001b[0m     ax \u001b[38;5;241m=\u001b[39m axes[idx]\n\u001b[1;32m     32\u001b[0m     sns\u001b[38;5;241m.\u001b[39mheatmap(contingency_df, annot\u001b[38;5;241m=\u001b[39m\u001b[38;5;28;01mTrue\u001b[39;00m, fmt\u001b[38;5;241m=\u001b[39m\u001b[38;5;124m'\u001b[39m\u001b[38;5;124md\u001b[39m\u001b[38;5;124m'\u001b[39m, cmap\u001b[38;5;241m=\u001b[39m\u001b[38;5;124m'\u001b[39m\u001b[38;5;124mYlGnBu\u001b[39m\u001b[38;5;124m'\u001b[39m, ax\u001b[38;5;241m=\u001b[39max)\n\u001b[1;32m     33\u001b[0m     ax\u001b[38;5;241m.\u001b[39mset_title(\u001b[38;5;124mf\u001b[39m\u001b[38;5;124m'\u001b[39m\u001b[38;5;124mContingency Table for \u001b[39m\u001b[38;5;132;01m{\u001b[39;00mkey\u001b[38;5;132;01m}\u001b[39;00m\u001b[38;5;124m'\u001b[39m)\n",
      "\u001b[0;31mTypeError\u001b[0m: 'Axes' object is not subscriptable"
     ]
    },
    {
     "data": {
      "image/png": "[encoded data removed]",
      "text/plain": [
       "<Figure size 1500x500 with 1 Axes>"
      ]
     },
     "metadata": {},
     "output_type": "display_data"
    }
   ],
   "source": [
    "#create a function to aggregate multiple categorical vs categorical columns and plot it into a heatmap:\n",
    "\n",
    "import pandas as pd\n",
    "import seaborn as sns\n",
    "import matplotlib.pyplot as plt\n",
    "\n",
    "def aggregate_and_plot_categorical_heatmap(df, categorical_columns):\n",
    "    \"\"\"\n",
    "    Aggregates multiple categorical vs. categorical columns and plots the results as a heatmap.\n",
    "\n",
    "    Args:\n",
    "    df (pandas.DataFrame): The DataFrame containing the data.\n",
    "    categorical_columns (list): A list of column names representing categorical variables.\n",
    "\n",
    "    Returns:\n",
    "    None\n",
    "    \"\"\"\n",
    "    results = {}\n",
    "    \n",
    "    for i in range(len(categorical_columns) - 1):\n",
    "        col1 = categorical_columns[i]\n",
    "        for j in range(i + 1, len(categorical_columns)):\n",
    "            col2 = categorical_columns[j]\n",
    "            contingency_table = pd.crosstab(df[col1], df[col2])\n",
    "            results[f\"{col1} vs {col2}\"] = pd.DataFrame(contingency_table)\n",
    "\n",
    "    # Create a heatmap for each contingency table\n",
    "    fig, axes = plt.subplots(1, len(results), figsize=(15, 5))\n",
    "\n",
    "    for idx, (key, contingency_df) in enumerate(results.items()):\n",
    "        ax = axes[idx]\n",
    "        sns.heatmap(contingency_df, annot=True, fmt='d', cmap='YlGnBu', ax=ax)\n",
    "        ax.set_title(f'Contingency Table for {key}')\n",
    "\n",
    "    plt.tight_layout()\n",
    "    plt.show()\n",
    "\n",
    "# Sample data\n",
    "data = data_mmh\n",
    "#data = {\n",
    "#    'Category1': ['A', 'A', 'B', 'B', 'A', 'C'],\n",
    "#    'Category2': ['X', 'Y', 'Y', 'X', 'Z', 'Z'],\n",
    "#    'Category3': ['High', 'Low', 'High', 'High', 'Low', 'Low']\n",
    "#}\n",
    "\n",
    "# Create a Pandas DataFrame\n",
    "df = pd.DataFrame(data_mmh)\n",
    "\n",
    "# List of categorical columns\n",
    "categorical_columns = ['Music effects', 'While working']\n",
    "\n",
    "# Aggregate the data and plot it as a heatmap\n",
    "aggregate_and_plot_categorical_heatmap(df, categorical_columns)\n",
    "\n"
   ]
  },
  {
   "cell_type": "code",
   "execution_count": null,
   "id": "36e8c7aa",
   "metadata": {},
   "outputs": [],
   "source": [
    "# Get average 'Anxiety' (numerical) for every possible music use:\n",
    "data_mmh.groupby(['Hours per day']).agg({'Anxiety': 'mean', }).head()\n",
    "\n",
    "# Get average 'Anxiety' (numerical) for every possible music use:\n",
    "data_mmh.groupby(['Hours per day']).agg({'Anxiety': 'mean'}).head()\n",
    "data_mmh.groupby(['While working']).agg({'Anxiety': 'mean'}).head()\n",
    "data_mmh.groupby(['Instrumentalist']).agg({'Anxiety': 'mean'}).head()\n",
    "data_mmh.groupby(['Composer']).agg({'Anxiety': 'mean'}).head()\n",
    "\n",
    "# Get average 'Depression' (numerical) for every possible music use \n",
    "# Get average 'Insomnia' (numerical) for every possible music use\n",
    "# Get average 'OCD' (numerical) for every possible music use "
   ]
  },
  {
   "cell_type": "code",
   "execution_count": 69,
   "id": "8584aece",
   "metadata": {},
   "outputs": [
    {
     "data": {
      "image/png": "[encoded data removed]",
      "text/plain": [
       "<Figure size 640x480 with 1 Axes>"
      ]
     },
     "metadata": {},
     "output_type": "display_data"
    }
   ],
   "source": [
    "# Histplot 2:\n",
    "#Function for a for loop for making a histoplot with categorical and numerical columns:\n",
    "\n",
    "# Get average 'Disease' (numerical) for every possible 'Music use' (numerical/categorical):\n",
    "\n",
    "def plot_categorical_histograms(data_mmh, categorical_column, numerical_column):\n",
    "    categories = data_mmh[categorical_column].unique()\n",
    "    \n",
    "    sns.histplot(data=data_mmh, x=numerical_column, hue=categorical_column, kde=True)\n",
    "    plt.title(f'Histogram for {numerical_column} in {categorical_column}')\n",
    "    plt.show()\n",
    "\n",
    "# Example data\n",
    "data = data_mmh\n",
    "\n",
    "# Call the function to plot histograms\n",
    "plot_categorical_histograms(data_mmh, 'Music effects', 'Hours per day')\n"
   ]
  },
  {
   "cell_type": "markdown",
   "id": "e4401540",
   "metadata": {},
   "source": [
    "### 2) Connection **disease** and **music preference**:\n",
    "___________________"
   ]
  },
  {
   "cell_type": "code",
   "execution_count": null,
   "id": "008f31d4",
   "metadata": {},
   "outputs": [],
   "source": [
    "# 2) What is the connection between **disease** (numerical) and **music preference** (numerical/categorical)? \n",
    "\n",
    "# Get \"diseases\" and \"music preference\" in 1 plot\n",
    "# Create a function with for loop?\n",
    "\n",
    "# Get average 'Music effects'(c) for every possible 'Music preference' (numerical/categorical):\n",
    "# - Favorite genre (categorical)\n",
    "# - Exploratory (categorical)\n",
    "# - Foreign languages (categorical)\n",
    "# - BPM (numerical) (Drop this one)\n",
    "\n",
    "\n",
    "musiceffects_fg = pd.crosstab(data_mmh['Music effects'], data_mmh['Favorite genre'])\n",
    "musiceffects_fg \n",
    "\n",
    "musiceffects_e = pd.crosstab(data_mmh['Music effects'], data_mmh['Exploratory'])\n",
    "musiceffects_e \n",
    "\n",
    "musiceffects_fl = pd.crosstab(data_mmh['Music effects'], data_mmh['Foreign languages'])\n",
    "musiceffects_fl \n",
    "\n",
    "data_mmh.groupby('Music effects').agg({\"BPM\": 'mean'})\n",
    "\n"
   ]
  },
  {
   "cell_type": "code",
   "execution_count": 45,
   "id": "304f1bca",
   "metadata": {},
   "outputs": [
    {
     "data": {
      "text/html": [
       "<div>\n",
       "<style scoped>\n",
       "    .dataframe tbody tr th:only-of-type {\n",
       "        vertical-align: middle;\n",
       "    }\n",
       "\n",
       "    .dataframe tbody tr th {\n",
       "        vertical-align: top;\n",
       "    }\n",
       "\n",
       "    .dataframe thead th {\n",
       "        text-align: right;\n",
       "    }\n",
       "</style>\n",
       "<table border=\"1\" class=\"dataframe\">\n",
       "  <thead>\n",
       "    <tr style=\"text-align: right;\">\n",
       "      <th>Favorite genre</th>\n",
       "      <th>Classical</th>\n",
       "      <th>Country</th>\n",
       "      <th>EDM</th>\n",
       "      <th>Folk</th>\n",
       "      <th>Gospel</th>\n",
       "      <th>Hip hop</th>\n",
       "      <th>Jazz</th>\n",
       "      <th>K pop</th>\n",
       "      <th>Latin</th>\n",
       "      <th>Lofi</th>\n",
       "      <th>Metal</th>\n",
       "      <th>Pop</th>\n",
       "      <th>R&amp;B</th>\n",
       "      <th>Rap</th>\n",
       "      <th>Rock</th>\n",
       "      <th>Video game music</th>\n",
       "    </tr>\n",
       "    <tr>\n",
       "      <th>Music effects</th>\n",
       "      <th></th>\n",
       "      <th></th>\n",
       "      <th></th>\n",
       "      <th></th>\n",
       "      <th></th>\n",
       "      <th></th>\n",
       "      <th></th>\n",
       "      <th></th>\n",
       "      <th></th>\n",
       "      <th></th>\n",
       "      <th></th>\n",
       "      <th></th>\n",
       "      <th></th>\n",
       "      <th></th>\n",
       "      <th></th>\n",
       "      <th></th>\n",
       "    </tr>\n",
       "  </thead>\n",
       "  <tbody>\n",
       "    <tr>\n",
       "      <th>Improve</th>\n",
       "      <td>26</td>\n",
       "      <td>18</td>\n",
       "      <td>30</td>\n",
       "      <td>20</td>\n",
       "      <td>4</td>\n",
       "      <td>28</td>\n",
       "      <td>16</td>\n",
       "      <td>17</td>\n",
       "      <td>1</td>\n",
       "      <td>10</td>\n",
       "      <td>57</td>\n",
       "      <td>75</td>\n",
       "      <td>22</td>\n",
       "      <td>15</td>\n",
       "      <td>107</td>\n",
       "      <td>20</td>\n",
       "    </tr>\n",
       "    <tr>\n",
       "      <th>No effect</th>\n",
       "      <td>11</td>\n",
       "      <td>3</td>\n",
       "      <td>6</td>\n",
       "      <td>5</td>\n",
       "      <td>0</td>\n",
       "      <td>4</td>\n",
       "      <td>3</td>\n",
       "      <td>4</td>\n",
       "      <td>1</td>\n",
       "      <td>0</td>\n",
       "      <td>20</td>\n",
       "      <td>20</td>\n",
       "      <td>8</td>\n",
       "      <td>4</td>\n",
       "      <td>35</td>\n",
       "      <td>11</td>\n",
       "    </tr>\n",
       "    <tr>\n",
       "      <th>Worsen</th>\n",
       "      <td>1</td>\n",
       "      <td>0</td>\n",
       "      <td>0</td>\n",
       "      <td>0</td>\n",
       "      <td>0</td>\n",
       "      <td>0</td>\n",
       "      <td>0</td>\n",
       "      <td>0</td>\n",
       "      <td>0</td>\n",
       "      <td>0</td>\n",
       "      <td>0</td>\n",
       "      <td>2</td>\n",
       "      <td>0</td>\n",
       "      <td>1</td>\n",
       "      <td>7</td>\n",
       "      <td>4</td>\n",
       "    </tr>\n",
       "  </tbody>\n",
       "</table>\n",
       "</div>"
      ],
      "text/plain": [
       "Favorite genre  Classical  Country  EDM  Folk  Gospel  Hip hop  Jazz  K pop  \\\n",
       "Music effects                                                                 \n",
       "Improve                26       18   30    20       4       28    16     17   \n",
       "No effect              11        3    6     5       0        4     3      4   \n",
       "Worsen                  1        0    0     0       0        0     0      0   \n",
       "\n",
       "Favorite genre  Latin  Lofi  Metal  Pop  R&B  Rap  Rock  Video game music  \n",
       "Music effects                                                              \n",
       "Improve             1    10     57   75   22   15   107                20  \n",
       "No effect           1     0     20   20    8    4    35                11  \n",
       "Worsen              0     0      0    2    0    1     7                 4  "
      ]
     },
     "execution_count": 45,
     "metadata": {},
     "output_type": "execute_result"
    }
   ],
   "source": [
    "musiceffects_fg = pd.crosstab(data_mmh['Music effects'], data_mmh['Favorite genre'])\n",
    "musiceffects_fg "
   ]
  },
  {
   "cell_type": "code",
   "execution_count": 46,
   "id": "f2483721",
   "metadata": {},
   "outputs": [
    {
     "data": {
      "text/html": [
       "<div>\n",
       "<style scoped>\n",
       "    .dataframe tbody tr th:only-of-type {\n",
       "        vertical-align: middle;\n",
       "    }\n",
       "\n",
       "    .dataframe tbody tr th {\n",
       "        vertical-align: top;\n",
       "    }\n",
       "\n",
       "    .dataframe thead th {\n",
       "        text-align: right;\n",
       "    }\n",
       "</style>\n",
       "<table border=\"1\" class=\"dataframe\">\n",
       "  <thead>\n",
       "    <tr style=\"text-align: right;\">\n",
       "      <th>Exploratory</th>\n",
       "      <th>No</th>\n",
       "      <th>Yes</th>\n",
       "    </tr>\n",
       "    <tr>\n",
       "      <th>Music effects</th>\n",
       "      <th></th>\n",
       "      <th></th>\n",
       "    </tr>\n",
       "  </thead>\n",
       "  <tbody>\n",
       "    <tr>\n",
       "      <th>Improve</th>\n",
       "      <td>107</td>\n",
       "      <td>359</td>\n",
       "    </tr>\n",
       "    <tr>\n",
       "      <th>No effect</th>\n",
       "      <td>52</td>\n",
       "      <td>83</td>\n",
       "    </tr>\n",
       "    <tr>\n",
       "      <th>Worsen</th>\n",
       "      <td>6</td>\n",
       "      <td>9</td>\n",
       "    </tr>\n",
       "  </tbody>\n",
       "</table>\n",
       "</div>"
      ],
      "text/plain": [
       "Exploratory     No  Yes\n",
       "Music effects          \n",
       "Improve        107  359\n",
       "No effect       52   83\n",
       "Worsen           6    9"
      ]
     },
     "execution_count": 46,
     "metadata": {},
     "output_type": "execute_result"
    }
   ],
   "source": [
    "musiceffects_e = pd.crosstab(data_mmh['Music effects'], data_mmh['Exploratory'])\n",
    "musiceffects_e "
   ]
  },
  {
   "cell_type": "code",
   "execution_count": 47,
   "id": "ae319a6b",
   "metadata": {},
   "outputs": [
    {
     "data": {
      "text/html": [
       "<div>\n",
       "<style scoped>\n",
       "    .dataframe tbody tr th:only-of-type {\n",
       "        vertical-align: middle;\n",
       "    }\n",
       "\n",
       "    .dataframe tbody tr th {\n",
       "        vertical-align: top;\n",
       "    }\n",
       "\n",
       "    .dataframe thead th {\n",
       "        text-align: right;\n",
       "    }\n",
       "</style>\n",
       "<table border=\"1\" class=\"dataframe\">\n",
       "  <thead>\n",
       "    <tr style=\"text-align: right;\">\n",
       "      <th>Foreign languages</th>\n",
       "      <th>No</th>\n",
       "      <th>Yes</th>\n",
       "    </tr>\n",
       "    <tr>\n",
       "      <th>Music effects</th>\n",
       "      <th></th>\n",
       "      <th></th>\n",
       "    </tr>\n",
       "  </thead>\n",
       "  <tbody>\n",
       "    <tr>\n",
       "      <th>Improve</th>\n",
       "      <td>202</td>\n",
       "      <td>264</td>\n",
       "    </tr>\n",
       "    <tr>\n",
       "      <th>No effect</th>\n",
       "      <td>60</td>\n",
       "      <td>75</td>\n",
       "    </tr>\n",
       "    <tr>\n",
       "      <th>Worsen</th>\n",
       "      <td>7</td>\n",
       "      <td>8</td>\n",
       "    </tr>\n",
       "  </tbody>\n",
       "</table>\n",
       "</div>"
      ],
      "text/plain": [
       "Foreign languages   No  Yes\n",
       "Music effects              \n",
       "Improve            202  264\n",
       "No effect           60   75\n",
       "Worsen               7    8"
      ]
     },
     "execution_count": 47,
     "metadata": {},
     "output_type": "execute_result"
    }
   ],
   "source": [
    "musiceffects_fl = pd.crosstab(data_mmh['Music effects'], data_mmh['Foreign languages'])\n",
    "musiceffects_fl "
   ]
  },
  {
   "cell_type": "code",
   "execution_count": 48,
   "id": "2d7598ac",
   "metadata": {},
   "outputs": [
    {
     "data": {
      "text/html": [
       "<div>\n",
       "<style scoped>\n",
       "    .dataframe tbody tr th:only-of-type {\n",
       "        vertical-align: middle;\n",
       "    }\n",
       "\n",
       "    .dataframe tbody tr th {\n",
       "        vertical-align: top;\n",
       "    }\n",
       "\n",
       "    .dataframe thead th {\n",
       "        text-align: right;\n",
       "    }\n",
       "</style>\n",
       "<table border=\"1\" class=\"dataframe\">\n",
       "  <thead>\n",
       "    <tr style=\"text-align: right;\">\n",
       "      <th></th>\n",
       "      <th>BPM</th>\n",
       "    </tr>\n",
       "    <tr>\n",
       "      <th>Music effects</th>\n",
       "      <th></th>\n",
       "    </tr>\n",
       "  </thead>\n",
       "  <tbody>\n",
       "    <tr>\n",
       "      <th>Improve</th>\n",
       "      <td>123.613734</td>\n",
       "    </tr>\n",
       "    <tr>\n",
       "      <th>No effect</th>\n",
       "      <td>123.740741</td>\n",
       "    </tr>\n",
       "    <tr>\n",
       "      <th>Worsen</th>\n",
       "      <td>118.533333</td>\n",
       "    </tr>\n",
       "  </tbody>\n",
       "</table>\n",
       "</div>"
      ],
      "text/plain": [
       "                      BPM\n",
       "Music effects            \n",
       "Improve        123.613734\n",
       "No effect      123.740741\n",
       "Worsen         118.533333"
      ]
     },
     "execution_count": 48,
     "metadata": {},
     "output_type": "execute_result"
    }
   ],
   "source": [
    "\n",
    "data_mmh.groupby('Music effects').agg({\"BPM\": 'mean'})"
   ]
  },
  {
   "cell_type": "markdown",
   "id": "beaa475c",
   "metadata": {},
   "source": [
    "### 3) Connection **disease** and **music genres**:\n",
    "___________________"
   ]
  },
  {
   "cell_type": "code",
   "execution_count": 50,
   "id": "fcbbe8d5",
   "metadata": {},
   "outputs": [
    {
     "data": {
      "text/html": [
       "<div>\n",
       "<style scoped>\n",
       "    .dataframe tbody tr th:only-of-type {\n",
       "        vertical-align: middle;\n",
       "    }\n",
       "\n",
       "    .dataframe tbody tr th {\n",
       "        vertical-align: top;\n",
       "    }\n",
       "\n",
       "    .dataframe thead th {\n",
       "        text-align: right;\n",
       "    }\n",
       "</style>\n",
       "<table border=\"1\" class=\"dataframe\">\n",
       "  <thead>\n",
       "    <tr style=\"text-align: right;\">\n",
       "      <th>Frequency [Video game music]</th>\n",
       "      <th>Never</th>\n",
       "      <th>Rarely</th>\n",
       "      <th>Sometimes</th>\n",
       "      <th>Very frequently</th>\n",
       "    </tr>\n",
       "    <tr>\n",
       "      <th>Music effects</th>\n",
       "      <th></th>\n",
       "      <th></th>\n",
       "      <th></th>\n",
       "      <th></th>\n",
       "    </tr>\n",
       "  </thead>\n",
       "  <tbody>\n",
       "    <tr>\n",
       "      <th>Improve</th>\n",
       "      <td>142</td>\n",
       "      <td>131</td>\n",
       "      <td>129</td>\n",
       "      <td>64</td>\n",
       "    </tr>\n",
       "    <tr>\n",
       "      <th>No effect</th>\n",
       "      <td>46</td>\n",
       "      <td>38</td>\n",
       "      <td>26</td>\n",
       "      <td>25</td>\n",
       "    </tr>\n",
       "    <tr>\n",
       "      <th>Worsen</th>\n",
       "      <td>5</td>\n",
       "      <td>2</td>\n",
       "      <td>3</td>\n",
       "      <td>5</td>\n",
       "    </tr>\n",
       "  </tbody>\n",
       "</table>\n",
       "</div>"
      ],
      "text/plain": [
       "Frequency [Video game music]  Never  Rarely  Sometimes  Very frequently\n",
       "Music effects                                                          \n",
       "Improve                         142     131        129               64\n",
       "No effect                        46      38         26               25\n",
       "Worsen                            5       2          3                5"
      ]
     },
     "execution_count": 50,
     "metadata": {},
     "output_type": "execute_result"
    }
   ],
   "source": [
    "# 3) What is the connection between **disease** (numerical) and **music genres** (categorical) ?\n",
    "\n",
    "# Get \"diseases\" and \"Music genres\" in 1 plot\n",
    "# Create a function with for loop?\n",
    "\n",
    "# Get 'Music effects'(c) for every possible 'Music genre' (categorical):\n",
    "# - Favorite genre (categorical)\n",
    "\n",
    "# Frequency [Genre] (categorical):\n",
    "# - Frequency [Classical] x            \n",
    "# - Frequency [Country]     x          \n",
    "# - Frequency [EDM]      x             \n",
    "# - Frequency [Folk]    x              \n",
    "# - Frequency [Gospel]   x            \n",
    "# - Frequency [Hip hop]  x             \n",
    "# - Frequency [Jazz]   x               \n",
    "# - Frequency [K pop]  x             \n",
    "# - Frequency [Latin] x                \n",
    "# - Frequency [Lofi]  x                \n",
    "# - Frequency [Metal]  x            \n",
    "# - Frequency [Pop]   x             \n",
    "# - Frequency [R&B]  x                 \n",
    "# - Frequency [Rap]                  \n",
    "# - Frequency [Rock]                \n",
    "# - Frequency [Video game music]\n",
    "\n",
    "musiceffects_fg = pd.crosstab(data_mmh['Music effects'], data_mmh['Favorite genre'])\n",
    "musiceffects_fg \n",
    "\n",
    "musiceffects_fcl = pd.crosstab(data_mmh['Music effects'], data_mmh['Frequency [Classical]'])\n",
    "musiceffects_fcl\n",
    "\n",
    "musiceffects_fco = pd.crosstab(data_mmh['Music effects'], data_mmh['Frequency [Country]'])\n",
    "musiceffects_fco\n",
    "\n",
    "musiceffects_fedm = pd.crosstab(data_mmh['Music effects'], data_mmh['Frequency [EDM]'])\n",
    "musiceffects_fedm\n",
    "\n",
    "musiceffects_ff = pd.crosstab(data_mmh['Music effects'], data_mmh['Frequency [Folk]'])\n",
    "musiceffects_ff\n",
    "\n",
    "musiceffects_fgo = pd.crosstab(data_mmh['Music effects'], data_mmh['Frequency [Gospel]'])\n",
    "musiceffects_fgo\n",
    "\n",
    "musiceffects_fhh = pd.crosstab(data_mmh['Music effects'], data_mmh['Frequency [Hip hop]'])\n",
    "musiceffects_fhh\n",
    "\n",
    "musiceffects_fja = pd.crosstab(data_mmh['Music effects'], data_mmh['Frequency [Jazz]'])\n",
    "musiceffects_fja\n",
    "\n",
    "musiceffects_fkp = pd.crosstab(data_mmh['Music effects'], data_mmh['Frequency [K pop]'])\n",
    "musiceffects_fkp\n",
    "\n",
    "musiceffects_fla = pd.crosstab(data_mmh['Music effects'], data_mmh['Frequency [Latin]'])\n",
    "musiceffects_fla\n",
    "\n",
    "musiceffects_flo = pd.crosstab(data_mmh['Music effects'], data_mmh['Frequency [Lofi]'])\n",
    "musiceffects_flo\n",
    "\n",
    "musiceffects_fme = pd.crosstab(data_mmh['Music effects'], data_mmh['Frequency [Metal]'])\n",
    "musiceffects_fme\n",
    "\n",
    "musiceffects_fpo = pd.crosstab(data_mmh['Music effects'], data_mmh['Frequency [Pop]'])\n",
    "musiceffects_fpo\n",
    "\n",
    "musiceffects_frb = pd.crosstab(data_mmh['Music effects'], data_mmh['Frequency [R&B]'])\n",
    "musiceffects_frb\n",
    "\n",
    "musiceffects_fra = pd.crosstab(data_mmh['Music effects'], data_mmh['Frequency [Rap]'])\n",
    "musiceffects_fra\n",
    "\n",
    "musiceffects_fro = pd.crosstab(data_mmh['Music effects'], data_mmh['Frequency [Rock]'])\n",
    "musiceffects_fro\n",
    "\n",
    "musiceffects_fvgm = pd.crosstab(data_mmh['Music effects'], data_mmh['Frequency [Video game music]'])\n",
    "musiceffects_fvgm\n",
    "\n",
    "# - Frequency [Rap]   x               \n",
    "# - Frequency [Rock]      x          \n",
    "# - Frequency [Video game music]x"
   ]
  },
  {
   "cell_type": "markdown",
   "id": "0a1926b9",
   "metadata": {},
   "source": [
    "### 4) Connection **disease** and **greatest music effects**:\n",
    "___________________"
   ]
  },
  {
   "cell_type": "code",
   "execution_count": null,
   "id": "5f729d62",
   "metadata": {},
   "outputs": [],
   "source": [
    "# 4) Which **disease** (numerical) experiences the **greatest effect** (categorical) from music? \n",
    "# Plot the difference between mental health and anxiety\n",
    "\n",
    "# Get \"diseases\" and \"Music effects\" in 1 plot\n",
    "# Create a function with for loop?\n",
    "\n",
    "# Get 'Disease'(numerical) for 'Music effects' (categorical):\n",
    "# - Music effects (categorical)\n",
    "\n",
    "\n",
    "\n",
    "data_mmh.groupby('Music effects').agg({\"BPM\": 'mean'})\n",
    "\n",
    "# Get average 'Anxiety'(numerical) for 'Music effects'(categorical):\n",
    "data_mmh.groupby(['Music effects']).agg({'Anxiety': 'mean'})\n",
    "# Get average 'Depression' (numerical) for every possible music use \n",
    "data_mmh.groupby(['Music effects']).agg({'Depression': 'mean'})\n",
    "# Get average 'Insomnia' (numerical) for every possible music use\n",
    "data_mmh.groupby(['Music effects']).agg({'Insomnia': 'mean'})\n",
    "# Get average 'OCD' (numerical) for every possible music use \n",
    "data_mmh.groupby(['Music effects']).agg({'OCD': 'mean'})\n",
    "\n",
    "# Display\n",
    "display(data_mmh.groupby(['Music effects']).agg({'Anxiety': 'mean'}).head())\n",
    "display(data_mmh.groupby(['Music effects']).agg({'Depression': 'mean'}).head())\n",
    "display(data_mmh.groupby(['Music effects']).agg({'Insomnia': 'mean'}).head())\n",
    "display(data_mmh.groupby(['Music effects']).agg({'OCD': 'mean'}).head())"
   ]
  },
  {
   "cell_type": "markdown",
   "id": "d36ef09a",
   "metadata": {},
   "source": [
    "### 5) Connections **disease** and **age**:\n",
    "___________________"
   ]
  },
  {
   "cell_type": "code",
   "execution_count": null,
   "id": "e0e27441",
   "metadata": {},
   "outputs": [],
   "source": [
    "# 5) What **age** (numerical) experiences the most the **diseases** (numerical). (Make age categories?)\n",
    "# What is their **music effect** (categorical)? \n",
    "# What **music** do they listen to (categorical)? \n",
    "# How do they listen to music (numerical/categorical)?\n",
    "\n",
    "# Get \"diseases\" and \"age\" in 1 plot\n",
    "# Get \"diseases\" and \"age\" and \"music effects\" in 1 plot\n",
    "# Get \"diseases\" and \"age\" and \"music preference\" in 1 plot\n",
    "# Get \"diseases\" and \"age\" and \"music use\" in 1 plot\n",
    "# Create a function with for loop?\n",
    "\n",
    "# What 'Age'(numerical) experiences the most 'Diseases' (numerical):\n",
    "# - Anxiety\n",
    "# - Depression\n",
    "# - Insomnia\n",
    "# - OCD\n",
    "# Create groups of ages: 20's, 30's, 40's,...; pd.cut()\n",
    "\n",
    "# Get 'Age' (numerical) for every possible 'Disease':\n",
    "# Get 'Age' (numerical) for 'Anxiety':\n",
    "data_mmh.groupby(['Age']).agg({'Anxiety': 'mean'})\n",
    "# Get 'Age' (numerical) for 'Depression':\n",
    "data_mmh.groupby(['Age']).agg({'Depression': 'mean'})\n",
    "# Get 'Age' (numerical) for 'Insomnia':\n",
    "data_mmh.groupby(['Age']).agg({'Insomnia': 'mean'})\n",
    "# Get 'Age' (numerical) for 'OCD':\n",
    "data_mmh.groupby(['Age']).agg({'OCD': 'mean'})\n",
    "\n",
    "data_mmh.groupby(['Age']).agg({'Anxiety': 'mean'})\n",
    "\n",
    "pd.cut(np.array([1, 7, 5, 4, 6, 3]),\n",
    "       3, labels=[\"bad\", \"medium\", \"good\"])\n",
    "\n",
    "\n",
    "# Display\n",
    "display(data_mmh.groupby(['Age']).agg({'Anxiety': 'mean'}).head())\n",
    "display(data_mmh.groupby(['Age']).agg({'Depression': 'mean'}).head())\n",
    "display(data_mmh.groupby(['Age']).agg({'Insomnia': 'mean'}.head())\n",
    "display(data_mmh.groupby(['Age']).agg({'OCD': 'mean'}).head())\n",
    "        \n",
    "# What 'Age'(numerical) experiences the most 'Diseases' (numerical) and what is their 'Music effects (categorical)'\n",
    "# Get \"diseases\" and \"age\" and \"music effects\" in 1 plot\n",
    "# - Anxiety\n",
    "# - Depression\n",
    "# - Insomnia\n",
    "# - OCD\n",
    "\n",
    "# - Music effects (c)\n",
    "\n",
    "        \n",
    "# What 'Age'(numerical) experiences the most 'Diseases' (numerical) and what is their 'Music preference'(cat/num)\n",
    "# Get \"diseases\" and \"age\" and \"music preference\" in 1 plot\n",
    "# - Anxiety\n",
    "# - Depression\n",
    "# - Insomnia\n",
    "# - OCD\n",
    "\n",
    "# - Music genre (c)\n",
    "# - Frequency [Genres] (c)\n",
    "# - BPM (n)\n",
    "# Exploratory (c)\n",
    "# Foreign languages (c)\n",
    "\n",
    "        \n",
    "# What 'Age'(numerical) experiences the most 'Diseases' (numerical) and what is their 'Music use'(cat/num)\n",
    "# Get \"diseases\" and \"age\" and \"music use\" in 1 plot\n",
    "# - Anxiety \n",
    "# - Depression\n",
    "# - Insomnia\n",
    "# - OCD\n",
    "\n",
    "# - Hours per day (n)\n",
    "# - While working (c)\n",
    "# - Instrumentalist (c)\n",
    "# - Composer (c)"
   ]
  },
  {
   "cell_type": "code",
   "execution_count": 51,
   "id": "0e3a1b5c",
   "metadata": {},
   "outputs": [
    {
     "name": "stdout",
     "output_type": "stream",
     "text": [
      "Correlation coefficient: -0.19516395086552712\n"
     ]
    }
   ],
   "source": [
    "# Aggregate_numerical_vs_numerical\n",
    "# Calculate the correlation coefficient\n",
    "\n",
    "#correlation = df['Variable1'].corr(df['Variable2'])\n",
    "#print(f'Correlation coefficient: {correlation}')\n",
    "\n",
    "# Calculate the correlation coefficient\n",
    "correlation = data_mmh['Age'].corr(df['Anxiety'])\n",
    "print(f'Correlation coefficient: {correlation}')\n",
    "\n"
   ]
  },
  {
   "cell_type": "markdown",
   "id": "66c4aaf3",
   "metadata": {},
   "source": [
    "A correlation value close to 1 indicates a strong positive linear relationship, close to -1 indicates a strong negative linear relationship, and close to 0 suggests little to no linear relationship."
   ]
  },
  {
   "cell_type": "code",
   "execution_count": 53,
   "id": "f830df48",
   "metadata": {},
   "outputs": [
    {
     "data": {
      "image/png": "[encoded data removed]",
      "text/plain": [
       "<Figure size 600x600 with 1 Axes>"
      ]
     },
     "metadata": {},
     "output_type": "display_data"
    }
   ],
   "source": [
    "# Create a scatter plot\n",
    "#plt.figure(figsize=(6, 6))\n",
    "#sns.scatterplot(x='Variable1', y='Variable2', data=df)\n",
    "#plt.xlabel('Variable1')\n",
    "#plt.ylabel('Variable2')\n",
    "#plt.title('Scatter Plot: Numerical vs. Numerical')\n",
    "#plt.show()\n",
    "\n",
    "# Create a scatter plot\n",
    "plt.figure(figsize=(6, 6))\n",
    "sns.scatterplot(x='Age', y='Anxiety', data=data_mmh)\n",
    "plt.xlabel('Age')\n",
    "plt.ylabel('Anxiety')\n",
    "plt.title('Scatter Plot: Numerical vs. Numerical')\n",
    "plt.show()"
   ]
  },
  {
   "cell_type": "code",
   "execution_count": 62,
   "id": "4c0509a2",
   "metadata": {},
   "outputs": [],
   "source": [
    "# Create a linear regression model\n",
    "#model = LinearRegression()\n",
    "#X = df[['Variable1']]\n",
    "#y = df['Variable2']\n",
    "#model.fit(X, y)\n",
    "\n",
    "# Access regression coefficients\n",
    "#slope = model.coef_[0]\n",
    "#intercept = model.intercept_\n",
    "\n",
    "from sklearn.linear_model import LinearRegression\n",
    "\n",
    "# Create a linear regression model\n",
    "model = LinearRegression()\n",
    "X = data_mmh[['Age']]\n",
    "y = data_mmh['Anxiety']\n",
    "model.fit(X, y)\n",
    "\n",
    "# Access regression coefficients\n",
    "slope = model.coef_[0]\n",
    "intercept = model.intercept_"
   ]
  },
  {
   "cell_type": "code",
   "execution_count": null,
   "id": "bd55d0f7",
   "metadata": {},
   "outputs": [],
   "source": [
    "data_mmh.groupby(['Age']).agg({'Anxiety': 'mean'})"
   ]
  },
  {
   "cell_type": "markdown",
   "id": "868db91e",
   "metadata": {},
   "source": [
    "### 6) Can I make helpful recommendations based on these findings? \n",
    "___________________"
   ]
  },
  {
   "cell_type": "code",
   "execution_count": null,
   "id": "7b0c1e15",
   "metadata": {},
   "outputs": [],
   "source": []
  }
 ],
 "metadata": {
  "kernelspec": {
   "display_name": "Python 3 (ipykernel)",
   "language": "python",
   "name": "python3"
  },
  "language_info": {
   "codemirror_mode": {
    "name": "ipython",
    "version": 3
   },
   "file_extension": ".py",
   "mimetype": "text/x-python",
   "name": "python",
   "nbconvert_exporter": "python",
   "pygments_lexer": "ipython3",
   "version": "3.11.3"
  }
 },
 "nbformat": 4,
 "nbformat_minor": 5
}
